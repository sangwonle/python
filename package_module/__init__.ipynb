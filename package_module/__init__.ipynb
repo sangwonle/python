{
 "cells": [
  {
   "cell_type": "code",
   "execution_count": 9,
   "id": "e00dea58",
   "metadata": {},
   "outputs": [
    {
     "name": "stdout",
     "output_type": "stream",
     "text": [
      "init 실행\n"
     ]
    }
   ],
   "source": [
    "# from package_module import * 로 모듈을 읽고자 할 경우\n",
    "__all__ = ['module_a', 'module_b']\n",
    "print('init 실행')"
   ]
  }
 ],
 "metadata": {
  "kernelspec": {
   "display_name": "Python 3 (ipykernel)",
   "language": "python",
   "name": "python3"
  },
  "language_info": {
   "codemirror_mode": {
    "name": "ipython",
    "version": 3
   },
   "file_extension": ".py",
   "mimetype": "text/x-python",
   "name": "python",
   "nbconvert_exporter": "python",
   "pygments_lexer": "ipython3",
   "version": "3.9.7"
  }
 },
 "nbformat": 4,
 "nbformat_minor": 5
}
