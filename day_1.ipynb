{
 "cells": [
  {
   "cell_type": "code",
   "execution_count": 9,
   "id": "5e3bcbb6",
   "metadata": {},
   "outputs": [
    {
     "name": "stdout",
     "output_type": "stream",
     "text": [
      "hello\n"
     ]
    }
   ],
   "source": [
    "print('hello')"
   ]
  },
  {
   "cell_type": "code",
   "execution_count": 12,
   "id": "d9b1e444",
   "metadata": {},
   "outputs": [
    {
     "name": "stdout",
     "output_type": "stream",
     "text": [
      "100\n"
     ]
    },
    {
     "data": {
      "text/plain": [
       "200"
      ]
     },
     "execution_count": 12,
     "metadata": {},
     "output_type": "execute_result"
    }
   ],
   "source": [
    "print(10 * 10)\n",
    "10 + 20\n",
    "10 * 20"
   ]
  },
  {
   "cell_type": "markdown",
   "id": "3cdc5723",
   "metadata": {},
   "source": []
  },
  {
   "cell_type": "markdown",
   "id": "0298f240",
   "metadata": {},
   "source": [
    "# python\n",
    "### 기본 문법 1일차"
   ]
  },
  {
   "cell_type": "code",
   "execution_count": 16,
   "id": "b38c12fa",
   "metadata": {
    "scrolled": true
   },
   "outputs": [
    {
     "name": "stdout",
     "output_type": "stream",
     "text": [
      "['False', 'None', 'True', '__peg_parser__', 'and', 'as', 'assert', 'async', 'await', 'break', 'class', 'continue', 'def', 'del', 'elif', 'else', 'except', 'finally', 'for', 'from', 'global', 'if', 'import', 'in', 'is', 'lambda', 'nonlocal', 'not', 'or', 'pass', 'raise', 'return', 'try', 'while', 'with', 'yield']\n"
     ]
    }
   ],
   "source": [
    "import keyword\n",
    "print(keyword.kwlist)"
   ]
  },
  {
   "cell_type": "code",
   "execution_count": 17,
   "id": "be019e1c",
   "metadata": {},
   "outputs": [
    {
     "data": {
      "text/plain": [
       "'\\n여러라인 주석 주석\\n'"
      ]
     },
     "execution_count": 17,
     "metadata": {},
     "output_type": "execute_result"
    }
   ],
   "source": [
    "'''\n",
    "여러라인 주석 주석\n",
    "'''"
   ]
  },
  {
   "cell_type": "code",
   "execution_count": 21,
   "id": "5f3973a4",
   "metadata": {},
   "outputs": [
    {
     "data": {
      "text/plain": [
       "'문자입력 hello'"
      ]
     },
     "execution_count": 21,
     "metadata": {},
     "output_type": "execute_result"
    }
   ],
   "source": [
    "'문자입력' + ' ' + 'hello'"
   ]
  },
  {
   "cell_type": "code",
   "execution_count": 23,
   "id": "0e0996ec",
   "metadata": {},
   "outputs": [
    {
     "name": "stdout",
     "output_type": "stream",
     "text": [
      "test print\n",
      "30\n"
     ]
    }
   ],
   "source": [
    "print('test print')\n",
    "print(10 + 20)"
   ]
  },
  {
   "cell_type": "code",
   "execution_count": 26,
   "id": "425e7e4d",
   "metadata": {},
   "outputs": [
    {
     "name": "stdout",
     "output_type": "stream",
     "text": [
      "hello python\n",
      "연산식: 30\n",
      "여러 자료 출력 : 10 20 end\n",
      "\n",
      "30\n",
      "20\n",
      "test#!@123\n"
     ]
    }
   ],
   "source": [
    "# print() 함수 사용해 보기\n",
    "print('hello python')\n",
    "print('연산식:', 10 + 20)\n",
    "print('여러 자료 출력 :', 10, 20, 'end')\n",
    "print() # 빈라인 출력\n",
    "print(10+20)\n",
    "print(10+10)\n",
    "print('test', '123', sep='#!@')"
   ]
  },
  {
   "cell_type": "code",
   "execution_count": 30,
   "id": "193d17d8",
   "metadata": {},
   "outputs": [
    {
     "name": "stdout",
     "output_type": "stream",
     "text": [
      "<class 'int'>\n",
      "<class 'str'>\n",
      "<class 'bool'>\n",
      "<class 'float'>\n"
     ]
    }
   ],
   "source": [
    "print(type(10))\n",
    "print(type('안녕하세요'))\n",
    "print(type(True))\n",
    "print(type(10.3))"
   ]
  },
  {
   "cell_type": "code",
   "execution_count": 31,
   "id": "daa88330",
   "metadata": {},
   "outputs": [
    {
     "data": {
      "text/plain": [
       "10"
      ]
     },
     "execution_count": 31,
     "metadata": {},
     "output_type": "execute_result"
    }
   ],
   "source": [
    "abc = 10\n",
    "abc"
   ]
  },
  {
   "cell_type": "code",
   "execution_count": 33,
   "id": "000ce79b",
   "metadata": {},
   "outputs": [
    {
     "name": "stdout",
     "output_type": "stream",
     "text": [
      "\"안녕하세요\"\n"
     ]
    }
   ],
   "source": [
    "print(\"\\\"안녕하세요\\\"\") # 을 표현하고자 하는 경우 에러 발생\n",
    "# \"을 출력하고자 할 때\" 을 약손 된 문자가 아닌 일반 문자로 인식을 하고자 함\n",
    "# \\ -> 뒤에오는 \"은 일반 문자로 인식"
   ]
  },
  {
   "cell_type": "code",
   "execution_count": 36,
   "id": "651a9eb2",
   "metadata": {},
   "outputs": [
    {
     "name": "stdout",
     "output_type": "stream",
     "text": [
      "이름\t나이\t지역\n",
      "홍길동\t25\t강서구\n",
      "홍미나\t22\t강동구\n",
      "홍세나\t29\t강남구\n"
     ]
    }
   ],
   "source": [
    "# escape를 이용한 탭 사용\n",
    "print('이름\\t나이\\t지역')\n",
    "print('홍길동\\t25\\t강서구')\n",
    "print('홍미나\\t22\\t강동구')\n",
    "print('홍세나\\t29\\t강남구')"
   ]
  },
  {
   "cell_type": "code",
   "execution_count": 39,
   "id": "f7b3da70",
   "metadata": {},
   "outputs": [
    {
     "name": "stdout",
     "output_type": "stream",
     "text": [
      "동해물과\n",
      "동해물과 백두산이 마르고 닳도록\n",
      "하느님이 보우하사 우리나라 만세\n"
     ]
    }
   ],
   "source": [
    "# 여러 줄 문자열 만들기\n",
    "print('동해물과')\n",
    "print('''\\\n",
    "동해물과 백두산이 마르고 닳도록\n",
    "하느님이 보우하사 우리나라 만세''')\n"
   ]
  },
  {
   "cell_type": "code",
   "execution_count": 27,
   "id": "4713041c",
   "metadata": {},
   "outputs": [
    {
     "name": "stdout",
     "output_type": "stream",
     "text": [
      "<class 'str'>\n"
     ]
    }
   ],
   "source": [
    "print(type('안녕하세요'))"
   ]
  },
  {
   "cell_type": "code",
   "execution_count": 43,
   "id": "4196fdab",
   "metadata": {},
   "outputs": [
    {
     "name": "stdout",
     "output_type": "stream",
     "text": [
      "하이 하이 하이 \n",
      "하이 하이\n"
     ]
    }
   ],
   "source": [
    "print('하이 ' * 3)\n",
    "print('하이' +' '+ '하이')"
   ]
  },
  {
   "cell_type": "code",
   "execution_count": 74,
   "id": "25b9a822",
   "metadata": {},
   "outputs": [
    {
     "name": "stdout",
     "output_type": "stream",
     "text": [
      "2\n"
     ]
    }
   ],
   "source": [
    "# 배열 길이 값 구하기\n",
    "ary = ['안녕하세요', '하이']\n",
    "len(ary)\n",
    "print(len(ary[1]))"
   ]
  },
  {
   "cell_type": "code",
   "execution_count": 87,
   "id": "32410f2e",
   "metadata": {},
   "outputs": [
    {
     "name": "stdout",
     "output_type": "stream",
     "text": [
      "3.14\n",
      "7.140000000000001\n",
      "<class 'float'>\n",
      "string test\n",
      "<class 'str'>\n",
      "a : True type :  <class 'bool'>\n"
     ]
    }
   ],
   "source": [
    "# 변수 활용 변수명 = 값\n",
    "pi = 3.14 # pi 방에 3.14 할당\n",
    "print(pi)\n",
    "print(pi + 4)\n",
    "print(type(pi))\n",
    "pi = 'string test'# pi 값은 'string test' 변경 됨\n",
    "print(pi)\n",
    "print(type(pi))\n",
    "\n",
    "a = 'str'\n",
    "a = 10\n",
    "a = True\n",
    "print('a :', a, 'type : ', type(a))"
   ]
  },
  {
   "cell_type": "code",
   "execution_count": 102,
   "id": "c812ee06",
   "metadata": {},
   "outputs": [
    {
     "name": "stdout",
     "output_type": "stream",
     "text": [
      "input data > 10\n"
     ]
    }
   ],
   "source": [
    "# input 함수 : 입력 된 값의 데이터 타입은 string\n",
    "string = input('input data > ')"
   ]
  },
  {
   "cell_type": "code",
   "execution_count": 119,
   "id": "f9ab4b8a",
   "metadata": {},
   "outputs": [
    {
     "data": {
      "text/plain": [
       "1010"
      ]
     },
     "execution_count": 119,
     "metadata": {},
     "output_type": "execute_result"
    }
   ],
   "source": [
    "string = int(string)\n",
    "#string # 문자를 숫자로 변경 int()\n",
    "string\n",
    "# 숫자를 문자로 변경  str(숫자)\n",
    "str(type(string)) + 'test'"
   ]
  },
  {
   "cell_type": "code",
   "execution_count": 120,
   "id": "1702cde5",
   "metadata": {},
   "outputs": [
    {
     "name": "stdout",
     "output_type": "stream",
     "text": [
      "첫번째 인풋박스 >10\n",
      "두번째 인풋박수 >10\n"
     ]
    },
    {
     "data": {
      "text/plain": [
       "20"
      ]
     },
     "execution_count": 120,
     "metadata": {},
     "output_type": "execute_result"
    }
   ],
   "source": [
    "input1 = int(input('첫번째 인풋박스 >'))\n",
    "input2 = int(input('두번째 인풋박수 >'))\n",
    "input1 + input2"
   ]
  },
  {
   "cell_type": "code",
   "execution_count": 159,
   "id": "04f9ca53",
   "metadata": {},
   "outputs": [
    {
     "name": "stdout",
     "output_type": "stream",
     "text": [
      "10 test add\n",
      "10 10.000000 10.1231230000\n"
     ]
    }
   ],
   "source": [
    "# 문자열 함수 format\n",
    "a_str = \"{} test {}\".format(10, 'add')\n",
    "print(a_str)\n",
    "print('{:d} {:f} {:.10f}'.format(10, 10.0, 10.1231230))"
   ]
  },
  {
   "cell_type": "code",
   "execution_count": 196,
   "id": "5dd9fecf",
   "metadata": {},
   "outputs": [
    {
     "name": "stdout",
     "output_type": "stream",
     "text": [
      "   TEST STR 10 NUM ABC DEF \n",
      "   test str 10 num abc def \n",
      "test str 10 num Abc DEf\n",
      "/   test str 10 num Abc DEf/\n",
      "/test str 10 num Abc DEf /\n",
      "False\n",
      "   \n",
      "True\n",
      "<class 'list'> <class 'str'>\n",
      "u\n"
     ]
    }
   ],
   "source": [
    "# 문자열 관련함수 : upper(), lower(), srtip(), lstrip(), rstrip()\n",
    "a_str = '   test str 10 num Abc DEf ' \n",
    "print(a_str.upper())\n",
    "print(a_str.lower())\n",
    "print(a_str.strip())\n",
    "print('/{}/'.format(a_str.rstrip()))\n",
    "print('/{}/'.format(a_str.lstrip()))\n",
    "\n",
    "print(a_str[:2].isalnum())\n",
    "print(a_str[:3])\n",
    "a_str.find('test') # find 인덱스 반환\n",
    "a_str.rfind('Abc')\n",
    "\n",
    "print('test' in a_str) # in 'test' 문자가 존재하면 true\n",
    "#split() : 문자열 자르기 -> 리스트로 반환\n",
    "a_list = a_str.split()\n",
    "print(type(a_list), type(a_list[0]))\n",
    "print(a_list[3][1])"
   ]
  },
  {
   "cell_type": "code",
   "execution_count": 215,
   "id": "70e3cd99",
   "metadata": {},
   "outputs": [
    {
     "name": "stdout",
     "output_type": "stream",
     "text": [
      "입력10 10\n",
      "10 + 10 = 20\n",
      "10 - 10 = 0\n"
     ]
    }
   ],
   "source": [
    "input_data = (input('입력')).split()\n",
    "num1 = int(input_data[0])\n",
    "num2 = int(input_data[1])\n",
    "print('{} + {} = {}'.format(num1,num2,num1+num2))\n",
    "print('{} - {} = {}'.format(num1,num2,num1-num2))"
   ]
  },
  {
   "cell_type": "code",
   "execution_count": 254,
   "id": "4446271d",
   "metadata": {},
   "outputs": [
    {
     "name": "stdout",
     "output_type": "stream",
     "text": [
      "글 입력 >qqer sadf zxcv gh rtyu fdghj \n",
      "qqer sadf zxcv gh rtyu fdghj \n",
      "QQER SADF ZXCV GH RTYU FDGHJ \n",
      "False\n",
      "r\n",
      " \n",
      "숫자 입력 >10 10 10\n",
      "3\n",
      "False\n",
      "10 + 10 = 20\n",
      "10 * 10 = 100\n"
     ]
    }
   ],
   "source": [
    "text_input = (input('글 입력 >'))\n",
    "print(text_input.lower())\n",
    "print(text_input.upper())\n",
    "print(text_input.isdigit())\n",
    "print(text_input[3][0])\n",
    "print(text_input[4][-1])\n",
    "\n",
    "\n",
    "\n",
    "num_input = (input('숫자 입력 >')).split()\n",
    "print(len(num_input))\n",
    "print('test' in num_input)\n",
    "\n",
    "input_num1 = int(num_input[0])\n",
    "input_num2 = int(num_input[1])\n",
    "input_num3 = int(num_input[2])\n",
    "\n",
    "print('{} + {} = {}'.format(input_num1,input_num3,input_num1+input_num3))\n",
    "print('{} * {} = {}'.format(input_num1,input_num2,input_num1*input_num2))"
   ]
  },
  {
   "cell_type": "code",
   "execution_count": null,
   "id": "86d9cbc1",
   "metadata": {},
   "outputs": [],
   "source": [
    "\n",
    "\n"
   ]
  },
  {
   "cell_type": "code",
   "execution_count": null,
   "id": "3af59c4f",
   "metadata": {},
   "outputs": [],
   "source": []
  },
  {
   "cell_type": "code",
   "execution_count": null,
   "id": "28565245",
   "metadata": {},
   "outputs": [],
   "source": []
  }
 ],
 "metadata": {
  "kernelspec": {
   "display_name": "Python 3 (ipykernel)",
   "language": "python",
   "name": "python3"
  },
  "language_info": {
   "codemirror_mode": {
    "name": "ipython",
    "version": 3
   },
   "file_extension": ".py",
   "mimetype": "text/x-python",
   "name": "python",
   "nbconvert_exporter": "python",
   "pygments_lexer": "ipython3",
   "version": "3.9.7"
  }
 },
 "nbformat": 4,
 "nbformat_minor": 5
}
