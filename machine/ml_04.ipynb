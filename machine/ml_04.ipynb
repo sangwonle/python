{
 "cells": [
  {
   "cell_type": "code",
   "execution_count": 154,
   "id": "61574dfc",
   "metadata": {},
   "outputs": [
    {
     "name": "stdout",
     "output_type": "stream",
     "text": [
      "numpy  version -  1.20.3\n",
      "pandas version -  1.3.4\n",
      "sklearn version -  0.24.2\n"
     ]
    }
   ],
   "source": [
    "import numpy  as np\n",
    "import pandas as pd\n",
    "\n",
    "print('numpy  version - ' , np.__version__) \n",
    "print('pandas version - ' , pd.__version__) \n",
    "\n",
    "from   io import StringIO\n",
    "\n",
    "# ml\n",
    "import sklearn\n",
    "from   sklearn.datasets import load_iris, load_breast_cancer\n",
    "\n",
    "print('sklearn version - ' , sklearn.__version__)\n",
    "\n",
    "from sklearn.model_selection import train_test_split, KFold , StratifiedKFold , cross_val_score, cross_validate, GridSearchCV \n",
    "from sklearn.tree            import DecisionTreeClassifier\n",
    "from sklearn.ensemble        import RandomForestClassifier         \n",
    "from sklearn.linear_model    import LogisticRegression , LinearRegression\n",
    "\n",
    "\n",
    "from sklearn.metrics         import accuracy_score, recall_score, precision_score, f1_score, confusion_matrix, make_scorer , precision_recall_curve \n",
    "from sklearn.impute          import SimpleImputer\n",
    "\n",
    "from sklearn.metrics         import mean_squared_error, mean_absolute_error\n",
    "\n",
    "from sklearn.preprocessing   import LabelEncoder, OneHotEncoder, StandardScaler, MinMaxScaler\n",
    "\n",
    "from IPython.display import Image\n",
    "\n",
    "import matplotlib.pyplot as plt\n",
    "%matplotlib inline\n",
    "\n",
    "import seaborn as sns"
   ]
  },
  {
   "cell_type": "markdown",
   "id": "b1c1a9b9",
   "metadata": {},
   "source": [
    "#### Regression(회귀)\n",
    "- 회귀란 종속변수(target)와 하나이상의 독립변수(feature)간의 관계를 모델링하는 선형 또는 비선형 접근법 \n",
    "- 예측이고 예측을 위해서는 종속변수의 타입은 연속된 숫자이여야 한다\n",
    "- 회귀분석은 데이터 값이 평균과 같은 일정한 값으로 돌아가려는 경향을 이용한 통계학 기법이다.\n",
    "- Y = (w * x) + b\n",
    "- w : weight , b : bias\n",
    "- cost(w, b) - 업데이트를 통해서 예측값과 실제값의 차이를 계산\n",
    "- 회귀계수 : coefficients -> 독립변수가 종속변수에 미치는 영향의 강도\n",
    "- 회귀유형 : 독립변수 1개이면    단일회귀 - 선형회귀\n",
    "- 회귀유형 : 독립변수 여러개이면 다중회귀 - 비선형회귀\n"
   ]
  },
  {
   "cell_type": "code",
   "execution_count": null,
   "id": "65f00a8c",
   "metadata": {},
   "outputs": [],
   "source": [
    "print('단일회귀 - ') \n",
    "print()\n",
    "frm = pd.DataFrame({\n",
    "  \"height\" : [1.47, 1.50, 1.52, 1.57, 1.60, 1.63, 1.65, 1.68, 1.70, 1.75, 1.78, 1.80, 1.83],\n",
    "  \"mass\"   : [52.21, 53.12, 54.48, 55.84, 57.20, 58.57, 59.93, 61.29, 63.11, 64.47, 66.28, 68.10, 68.92]\n",
    "})\n",
    "frm"
   ]
  },
  {
   "cell_type": "code",
   "execution_count": null,
   "id": "4c9d4690",
   "metadata": {},
   "outputs": [],
   "source": [
    "print(\"독립변수 또는 설명변수 - \") \n",
    "print('type - ' , type(frm[['height']]) , frm[['height']].shape)\n",
    "X = frm[['height']]"
   ]
  },
  {
   "cell_type": "code",
   "execution_count": null,
   "id": "33b8de5c",
   "metadata": {},
   "outputs": [],
   "source": [
    "print(\"종속변수 - \") \n",
    "print('type - ' , type(frm[['mass']]) , frm[['mass']].shape)\n",
    "Y = frm[['mass']]"
   ]
  },
  {
   "cell_type": "code",
   "execution_count": null,
   "id": "4b62b6c7",
   "metadata": {},
   "outputs": [],
   "source": [
    "plt.figure(figsize=(15,5))\n",
    "\n",
    "plt.plot(X, Y, 'o')\n",
    "\n",
    "plt.show()\n",
    "plt.close()"
   ]
  },
  {
   "cell_type": "code",
   "execution_count": null,
   "id": "e3e1a45a",
   "metadata": {},
   "outputs": [],
   "source": [
    "sns.pairplot(frm)\n",
    "plt.show()\n",
    "plt.close()"
   ]
  },
  {
   "cell_type": "code",
   "execution_count": null,
   "id": "2155f293",
   "metadata": {},
   "outputs": [],
   "source": [
    "linear_model = LinearRegression() # 모델 생성\n",
    "linear_model.fit(X, Y)  # fit을 통해서 학습시킴"
   ]
  },
  {
   "cell_type": "code",
   "execution_count": null,
   "id": "71be7c78",
   "metadata": {},
   "outputs": [],
   "source": [
    "print('사용자 데이터를 입력하여 예측값을 확인 - ') \n",
    "user_pred = linear_model.predict([[1.79]]) # 형식은 2차원이여야 한다.\n",
    "print('user pred - ' , user_pred)\n",
    "y_pred = linear_model.predict(X)\n",
    "print('y_pred - ' , y_pred)\n"
   ]
  },
  {
   "cell_type": "code",
   "execution_count": null,
   "id": "1d09602b",
   "metadata": {},
   "outputs": [],
   "source": [
    "print(\"w = 기울기 : \" , linear_model.coef_)\n",
    "print()\n",
    "print('b = 절편   : ' , linear_model.intercept_)"
   ]
  },
  {
   "cell_type": "code",
   "execution_count": null,
   "id": "b001c9f5",
   "metadata": {},
   "outputs": [],
   "source": [
    "# 1.47 -> X 첫번째 데이터에서 * 기울기 + 절편 = 예측값\n",
    "(47.66432207 * 1.79) + -18.48535678"
   ]
  },
  {
   "cell_type": "code",
   "execution_count": null,
   "id": "cf034e52",
   "metadata": {},
   "outputs": [],
   "source": [
    "print(\"R - squared(결정계수) - \")\n",
    "print()\n",
    "print('R = ' , linear_model.score(X,Y)) "
   ]
  },
  {
   "cell_type": "code",
   "execution_count": null,
   "id": "0bc137ca",
   "metadata": {},
   "outputs": [],
   "source": [
    "y_pred = linear_model.predict(X)\n",
    "y_pred"
   ]
  },
  {
   "cell_type": "code",
   "execution_count": null,
   "id": "1ab21f65",
   "metadata": {},
   "outputs": [],
   "source": [
    "plt.figure(figsize=(15,5))\n",
    "\n",
    "plt.plot(X, Y, 'o')\n",
    "# plt.plot(X, linear_model.predict(X))\n",
    "plt.plot(X, y_pred)\n",
    "\n",
    "plt.show()\n",
    "plt.close()"
   ]
  },
  {
   "cell_type": "code",
   "execution_count": null,
   "id": "1f563a2d",
   "metadata": {},
   "outputs": [],
   "source": [
    "mpg_frm = pd.read_csv('output/auto-mpg.csv' , header = None)\n",
    "mpg_frm.columns = ['mpg', 'cylinders' , 'displacement', 'horsepower', 'weight', 'acc', 'model year', 'origin', 'name'] "
   ]
  },
  {
   "cell_type": "code",
   "execution_count": null,
   "id": "6dd2f02b",
   "metadata": {},
   "outputs": [],
   "source": [
    "mpg_frm.info()"
   ]
  },
  {
   "cell_type": "code",
   "execution_count": null,
   "id": "2f80a42b",
   "metadata": {},
   "outputs": [],
   "source": [
    "mpg_frm.describe()"
   ]
  },
  {
   "cell_type": "code",
   "execution_count": null,
   "id": "96bc720d",
   "metadata": {},
   "outputs": [],
   "source": [
    "mpg_frm['horsepower'].unique()"
   ]
  },
  {
   "cell_type": "code",
   "execution_count": null,
   "id": "01422c1e",
   "metadata": {},
   "outputs": [],
   "source": [
    "mpg_frm['horsepower'].replace('?' , np.NaN , inplace = True) # 결측처리"
   ]
  },
  {
   "cell_type": "code",
   "execution_count": null,
   "id": "14e60e04",
   "metadata": {},
   "outputs": [],
   "source": [
    "mpg_frm['horsepower'].unique()"
   ]
  },
  {
   "cell_type": "code",
   "execution_count": null,
   "id": "24dc91a5",
   "metadata": {},
   "outputs": [],
   "source": [
    "mpg_frm.dropna(subset=['horsepower'] , axis=0 , inplace = True)"
   ]
  },
  {
   "cell_type": "code",
   "execution_count": null,
   "id": "8d383034",
   "metadata": {},
   "outputs": [],
   "source": [
    "mpg_frm['horsepower'].unique()"
   ]
  },
  {
   "cell_type": "code",
   "execution_count": null,
   "id": "055750dc",
   "metadata": {},
   "outputs": [],
   "source": [
    "mpg_frm['horsepower'] = mpg_frm['horsepower'].astype('float')\n",
    "mpg_frm['horsepower'].unique()"
   ]
  },
  {
   "cell_type": "code",
   "execution_count": null,
   "id": "aded9f6b",
   "metadata": {},
   "outputs": [],
   "source": [
    "mpg_frm.info()"
   ]
  },
  {
   "cell_type": "code",
   "execution_count": null,
   "id": "69f3e13a",
   "metadata": {},
   "outputs": [],
   "source": [
    "print('다중회귀 - ')\n",
    "mpg_subset_frm = mpg_frm[['mpg', 'cylinders', 'horsepower' , 'weight']]\n",
    "mpg_subset_frm"
   ]
  },
  {
   "cell_type": "code",
   "execution_count": null,
   "id": "8068a9b2",
   "metadata": {},
   "outputs": [],
   "source": [
    "sns.pairplot(mpg_subset_frm)\n",
    "plt.show()\n",
    "plt.close()"
   ]
  },
  {
   "cell_type": "code",
   "execution_count": null,
   "id": "dbc308f9",
   "metadata": {},
   "outputs": [],
   "source": [
    "print('종속변수 독립변수 분리 - ') \n",
    "print('종속변수 - ')\n",
    "Y = mpg_subset_frm['mpg']\n",
    "print('독릷변수 - ')\n",
    "X = mpg_subset_frm[['cylinders' , 'horsepower' , 'weight']] \n"
   ]
  },
  {
   "cell_type": "code",
   "execution_count": null,
   "id": "776935e9",
   "metadata": {},
   "outputs": [],
   "source": [
    "X_train, X_test , y_train, y_test = train_test_split(X, Y,\n",
    "                                                     test_size = 0.2,\n",
    "                                                     random_state = 111) \n",
    "X_train.shape , X_test.shape , y_train.shape , y_test.shape"
   ]
  },
  {
   "cell_type": "code",
   "execution_count": null,
   "id": "59bf93e1",
   "metadata": {},
   "outputs": [],
   "source": [
    "mpg_linear_model = LinearRegression()\n",
    "mpg_linear_model.fit(X_train, y_train)\n",
    "print(\"w = 기울기 : \" , mpg_linear_model.coef_)\n",
    "print()\n",
    "print('b = 절편   : ' , mpg_linear_model.intercept_)"
   ]
  },
  {
   "cell_type": "code",
   "execution_count": null,
   "id": "de956c2a",
   "metadata": {},
   "outputs": [],
   "source": [
    "print('모델의 신뢰도 - score')\n",
    "r_squared = mpg_linear_model.score(X_test, y_test)\n",
    "print(r_squared)"
   ]
  },
  {
   "cell_type": "code",
   "execution_count": null,
   "id": "bc7fedbe",
   "metadata": {
    "tags": []
   },
   "outputs": [],
   "source": [
    "print('예측 - ')\n",
    "y_pred = mpg_linear_model.predict(X_test)\n",
    "y_pred"
   ]
  },
  {
   "cell_type": "code",
   "execution_count": null,
   "id": "fe778932",
   "metadata": {},
   "outputs": [],
   "source": [
    "regression_actual_guess = pd.DataFrame({\n",
    "    'actual' : y_test , \n",
    "    'guess'  : y_pred\n",
    "})\n",
    "regression_actual_guess"
   ]
  },
  {
   "cell_type": "code",
   "execution_count": null,
   "id": "595e5768",
   "metadata": {},
   "outputs": [],
   "source": [
    "plt.figure(figsize=(10,5))\n",
    "\n",
    "ax1 = sns.distplot(y_test, hist=False, label='actual')\n",
    "ax2 = sns.distplot(y_pred, hist=False, label='guess')\n",
    "\n",
    "\n",
    "\n",
    "plt.legend()\n",
    "plt.show()\n",
    "plt.close()"
   ]
  },
  {
   "cell_type": "code",
   "execution_count": null,
   "id": "46adee77-8f8f-4272-92b6-d1657681c6b6",
   "metadata": {},
   "outputs": [],
   "source": [
    "\n",
    "house_frm = pd.read_csv('output/manhattan.csv')\n",
    "house_frm.head()\n",
    "house_frm.info()"
   ]
  },
  {
   "cell_type": "code",
   "execution_count": null,
   "id": "8cca3f2f-870a-4e20-864e-6732433410c1",
   "metadata": {},
   "outputs": [],
   "source": [
    "Y = house_frm['rent']\n",
    "\n",
    "X = house_frm[['bedrooms' , 'bathrooms' , 'size_sqft', 'min_to_subway', 'floor', 'no_fee']] "
   ]
  },
  {
   "cell_type": "code",
   "execution_count": null,
   "id": "acc5f992-e382-4b9c-a5e0-595d38422ebb",
   "metadata": {},
   "outputs": [],
   "source": [
    "print('상관관계 분석을 위한 시각화 - ')\n",
    "print()\n",
    "\n",
    "fig, axs = plt.subplots(figsize=(16,14), ncols=4, nrows=3)\n",
    "\n",
    "for idx, feature in enumerate(X):\n",
    "    row = int(idx / 4)\n",
    "    col = idx % 4\n",
    "    sns.regplot(x=feature, y='rent', data=house_frm, ax=axs[row][col])\n"
   ]
  },
  {
   "cell_type": "code",
   "execution_count": null,
   "id": "b5181f08-3b1e-46ba-8755-87b737adf7ea",
   "metadata": {},
   "outputs": [],
   "source": [
    "print('데이터셋 분리')\n",
    "print('모델 생성 및 학습')\n",
    "print('기울기 절편 확인')\n",
    "print('모델의 신뢰도 확인')\n",
    "print('사용자의 데이터를 넣어서 가격 예측')\n",
    "print('실제 임대료 에측 임대료 프레임 구축')\n",
    "print('scatter 이용해서 실제 임대료, 예측 임대로 분포확인')"
   ]
  },
  {
   "cell_type": "code",
   "execution_count": null,
   "id": "84c5e526-b49b-4e46-82d0-1aa45fce93dc",
   "metadata": {},
   "outputs": [],
   "source": [
    "X_train, X_test , y_train, y_test = train_test_split(X, Y,\n",
    "                                                     test_size = 0.2,\n",
    "                                                     random_state = 111) \n",
    "X_train.shape , X_test.shape , y_train.shape , y_test.shape"
   ]
  },
  {
   "cell_type": "code",
   "execution_count": null,
   "id": "2bcac1ce-3864-42ba-9871-ed9050318483",
   "metadata": {},
   "outputs": [],
   "source": [
    "rent_linear_model = LinearRegression()\n",
    "rent_linear_model.fit(X_train, y_train)\n",
    "print(\"w = 기울기 \\n: \" , rent_linear_model.coef_)\n",
    "print()\n",
    "print('b = 절편   : ' , rent_linear_model.intercept_)"
   ]
  },
  {
   "cell_type": "code",
   "execution_count": null,
   "id": "302faed2-9c82-4011-85fd-6e052570f0ae",
   "metadata": {},
   "outputs": [],
   "source": [
    "rent_squared = rent_linear_model.score(X_test, y_test)\n",
    "print(rent_squared)"
   ]
  },
  {
   "cell_type": "code",
   "execution_count": null,
   "id": "342e8fca-8ac5-4d95-bd8d-39701155e26b",
   "metadata": {
    "tags": []
   },
   "outputs": [],
   "source": [
    "print('예측 - ')\n",
    "\n",
    "my_apt = [[2,1,620,10,11,12]]\n",
    "user_pred = rent_linear_model.predict(my_apt)\n",
    "user_pred\n",
    "\n",
    "\n",
    "y_pred = rent_linear_model.predict(X_test)\n",
    "y_pred"
   ]
  },
  {
   "cell_type": "code",
   "execution_count": null,
   "id": "ff62c5cb-a7fa-4ec6-9bf1-01da5cd5a719",
   "metadata": {},
   "outputs": [],
   "source": [
    "regression_actual_guess = pd.DataFrame({\n",
    "    'actual' : y_test , \n",
    "    'guess'  : y_pred\n",
    "})\n",
    "regression_actual_guess"
   ]
  },
  {
   "cell_type": "code",
   "execution_count": null,
   "id": "a8181c23-c671-4750-a86d-c40efb0f3f9b",
   "metadata": {},
   "outputs": [],
   "source": [
    "plt.figure(figsize=(10,5))\n",
    "\n",
    "ax1 = sns.distplot(y_test, hist=False, label='actual')\n",
    "ax2 = sns.distplot(y_pred, hist=False, label='guess')\n",
    "\n",
    "\n",
    "plt.legend()\n",
    "plt.show()\n",
    "plt.close()"
   ]
  },
  {
   "cell_type": "code",
   "execution_count": null,
   "id": "bf5aa45f-2420-435a-aad3-54a3935cfe71",
   "metadata": {},
   "outputs": [],
   "source": [
    "plt.scatter(y_test, y_pred, alpha=0.8)\n",
    "\n",
    "plt.xlabel('actual')\n",
    "plt.ylabel('guess')\n",
    "\n",
    "\n",
    "plt.show()\n",
    "plt.close()"
   ]
  },
  {
   "cell_type": "code",
   "execution_count": 140,
   "id": "128c6eb5-ce37-439d-aeb4-eaccd8db1ffb",
   "metadata": {},
   "outputs": [
    {
     "name": "stdout",
     "output_type": "stream",
     "text": [
      "type -  <class 'sklearn.utils.Bunch'>\n",
      "keys -  dict_keys(['data', 'target', 'frame', 'target_names', 'DESCR', 'feature_names', 'filename'])\n"
     ]
    }
   ],
   "source": [
    "### 성능 지표\n",
    "\n",
    "iris = load_iris()\n",
    "print('type - ', type(iris))\n",
    "print('keys - ', iris.keys())"
   ]
  },
  {
   "cell_type": "code",
   "execution_count": 166,
   "id": "c5f74951-eb2c-4a2c-b021-3d921e14e296",
   "metadata": {},
   "outputs": [
    {
     "name": "stdout",
     "output_type": "stream",
     "text": [
      "종속변수 - \n"
     ]
    },
    {
     "data": {
      "text/html": [
       "<div>\n",
       "<style scoped>\n",
       "    .dataframe tbody tr th:only-of-type {\n",
       "        vertical-align: middle;\n",
       "    }\n",
       "\n",
       "    .dataframe tbody tr th {\n",
       "        vertical-align: top;\n",
       "    }\n",
       "\n",
       "    .dataframe thead th {\n",
       "        text-align: right;\n",
       "    }\n",
       "</style>\n",
       "<table border=\"1\" class=\"dataframe\">\n",
       "  <thead>\n",
       "    <tr style=\"text-align: right;\">\n",
       "      <th></th>\n",
       "      <th>species</th>\n",
       "    </tr>\n",
       "  </thead>\n",
       "  <tbody>\n",
       "    <tr>\n",
       "      <th>0</th>\n",
       "      <td>0</td>\n",
       "    </tr>\n",
       "    <tr>\n",
       "      <th>1</th>\n",
       "      <td>0</td>\n",
       "    </tr>\n",
       "    <tr>\n",
       "      <th>2</th>\n",
       "      <td>0</td>\n",
       "    </tr>\n",
       "    <tr>\n",
       "      <th>3</th>\n",
       "      <td>0</td>\n",
       "    </tr>\n",
       "    <tr>\n",
       "      <th>4</th>\n",
       "      <td>0</td>\n",
       "    </tr>\n",
       "    <tr>\n",
       "      <th>...</th>\n",
       "      <td>...</td>\n",
       "    </tr>\n",
       "    <tr>\n",
       "      <th>145</th>\n",
       "      <td>2</td>\n",
       "    </tr>\n",
       "    <tr>\n",
       "      <th>146</th>\n",
       "      <td>2</td>\n",
       "    </tr>\n",
       "    <tr>\n",
       "      <th>147</th>\n",
       "      <td>2</td>\n",
       "    </tr>\n",
       "    <tr>\n",
       "      <th>148</th>\n",
       "      <td>2</td>\n",
       "    </tr>\n",
       "    <tr>\n",
       "      <th>149</th>\n",
       "      <td>2</td>\n",
       "    </tr>\n",
       "  </tbody>\n",
       "</table>\n",
       "<p>150 rows × 1 columns</p>\n",
       "</div>"
      ],
      "text/plain": [
       "     species\n",
       "0          0\n",
       "1          0\n",
       "2          0\n",
       "3          0\n",
       "4          0\n",
       "..       ...\n",
       "145        2\n",
       "146        2\n",
       "147        2\n",
       "148        2\n",
       "149        2\n",
       "\n",
       "[150 rows x 1 columns]"
      ]
     },
     "execution_count": 166,
     "metadata": {},
     "output_type": "execute_result"
    }
   ],
   "source": [
    "print('종속변수 - ') # 데이터 분리\n",
    "Y = pd.DataFrame(data = iris.target, columns=['species'])\n",
    "Y"
   ]
  },
  {
   "cell_type": "code",
   "execution_count": 163,
   "id": "ad26424c-8d04-4be0-8b7b-af51a3d87260",
   "metadata": {},
   "outputs": [
    {
     "name": "stdout",
     "output_type": "stream",
     "text": [
      "독립변수 - \n"
     ]
    },
    {
     "data": {
      "text/html": [
       "<div>\n",
       "<style scoped>\n",
       "    .dataframe tbody tr th:only-of-type {\n",
       "        vertical-align: middle;\n",
       "    }\n",
       "\n",
       "    .dataframe tbody tr th {\n",
       "        vertical-align: top;\n",
       "    }\n",
       "\n",
       "    .dataframe thead th {\n",
       "        text-align: right;\n",
       "    }\n",
       "</style>\n",
       "<table border=\"1\" class=\"dataframe\">\n",
       "  <thead>\n",
       "    <tr style=\"text-align: right;\">\n",
       "      <th></th>\n",
       "      <th>sepal length (cm)</th>\n",
       "      <th>sepal width (cm)</th>\n",
       "      <th>petal length (cm)</th>\n",
       "      <th>petal width (cm)</th>\n",
       "    </tr>\n",
       "  </thead>\n",
       "  <tbody>\n",
       "    <tr>\n",
       "      <th>0</th>\n",
       "      <td>5.1</td>\n",
       "      <td>3.5</td>\n",
       "      <td>1.4</td>\n",
       "      <td>0.2</td>\n",
       "    </tr>\n",
       "    <tr>\n",
       "      <th>1</th>\n",
       "      <td>4.9</td>\n",
       "      <td>3.0</td>\n",
       "      <td>1.4</td>\n",
       "      <td>0.2</td>\n",
       "    </tr>\n",
       "    <tr>\n",
       "      <th>2</th>\n",
       "      <td>4.7</td>\n",
       "      <td>3.2</td>\n",
       "      <td>1.3</td>\n",
       "      <td>0.2</td>\n",
       "    </tr>\n",
       "    <tr>\n",
       "      <th>3</th>\n",
       "      <td>4.6</td>\n",
       "      <td>3.1</td>\n",
       "      <td>1.5</td>\n",
       "      <td>0.2</td>\n",
       "    </tr>\n",
       "    <tr>\n",
       "      <th>4</th>\n",
       "      <td>5.0</td>\n",
       "      <td>3.6</td>\n",
       "      <td>1.4</td>\n",
       "      <td>0.2</td>\n",
       "    </tr>\n",
       "    <tr>\n",
       "      <th>...</th>\n",
       "      <td>...</td>\n",
       "      <td>...</td>\n",
       "      <td>...</td>\n",
       "      <td>...</td>\n",
       "    </tr>\n",
       "    <tr>\n",
       "      <th>145</th>\n",
       "      <td>6.7</td>\n",
       "      <td>3.0</td>\n",
       "      <td>5.2</td>\n",
       "      <td>2.3</td>\n",
       "    </tr>\n",
       "    <tr>\n",
       "      <th>146</th>\n",
       "      <td>6.3</td>\n",
       "      <td>2.5</td>\n",
       "      <td>5.0</td>\n",
       "      <td>1.9</td>\n",
       "    </tr>\n",
       "    <tr>\n",
       "      <th>147</th>\n",
       "      <td>6.5</td>\n",
       "      <td>3.0</td>\n",
       "      <td>5.2</td>\n",
       "      <td>2.0</td>\n",
       "    </tr>\n",
       "    <tr>\n",
       "      <th>148</th>\n",
       "      <td>6.2</td>\n",
       "      <td>3.4</td>\n",
       "      <td>5.4</td>\n",
       "      <td>2.3</td>\n",
       "    </tr>\n",
       "    <tr>\n",
       "      <th>149</th>\n",
       "      <td>5.9</td>\n",
       "      <td>3.0</td>\n",
       "      <td>5.1</td>\n",
       "      <td>1.8</td>\n",
       "    </tr>\n",
       "  </tbody>\n",
       "</table>\n",
       "<p>150 rows × 4 columns</p>\n",
       "</div>"
      ],
      "text/plain": [
       "     sepal length (cm)  sepal width (cm)  petal length (cm)  petal width (cm)\n",
       "0                  5.1               3.5                1.4               0.2\n",
       "1                  4.9               3.0                1.4               0.2\n",
       "2                  4.7               3.2                1.3               0.2\n",
       "3                  4.6               3.1                1.5               0.2\n",
       "4                  5.0               3.6                1.4               0.2\n",
       "..                 ...               ...                ...               ...\n",
       "145                6.7               3.0                5.2               2.3\n",
       "146                6.3               2.5                5.0               1.9\n",
       "147                6.5               3.0                5.2               2.0\n",
       "148                6.2               3.4                5.4               2.3\n",
       "149                5.9               3.0                5.1               1.8\n",
       "\n",
       "[150 rows x 4 columns]"
      ]
     },
     "execution_count": 163,
     "metadata": {},
     "output_type": "execute_result"
    }
   ],
   "source": [
    "print('독립변수 - ') # 데이터 분리\n",
    "X = pd.DataFrame(data = iris.data, columns=iris.feature_names)\n",
    "X"
   ]
  },
  {
   "cell_type": "code",
   "execution_count": 167,
   "id": "a45a1617-4878-4367-9450-bc9c51314b3c",
   "metadata": {},
   "outputs": [
    {
     "data": {
      "text/html": [
       "<div>\n",
       "<style scoped>\n",
       "    .dataframe tbody tr th:only-of-type {\n",
       "        vertical-align: middle;\n",
       "    }\n",
       "\n",
       "    .dataframe tbody tr th {\n",
       "        vertical-align: top;\n",
       "    }\n",
       "\n",
       "    .dataframe thead th {\n",
       "        text-align: right;\n",
       "    }\n",
       "</style>\n",
       "<table border=\"1\" class=\"dataframe\">\n",
       "  <thead>\n",
       "    <tr style=\"text-align: right;\">\n",
       "      <th></th>\n",
       "      <th>sepal length (cm)</th>\n",
       "      <th>sepal width (cm)</th>\n",
       "      <th>petal length (cm)</th>\n",
       "      <th>petal width (cm)</th>\n",
       "      <th>species</th>\n",
       "    </tr>\n",
       "  </thead>\n",
       "  <tbody>\n",
       "    <tr>\n",
       "      <th>0</th>\n",
       "      <td>5.1</td>\n",
       "      <td>3.5</td>\n",
       "      <td>1.4</td>\n",
       "      <td>0.2</td>\n",
       "      <td>setosa</td>\n",
       "    </tr>\n",
       "    <tr>\n",
       "      <th>1</th>\n",
       "      <td>4.9</td>\n",
       "      <td>3.0</td>\n",
       "      <td>1.4</td>\n",
       "      <td>0.2</td>\n",
       "      <td>setosa</td>\n",
       "    </tr>\n",
       "    <tr>\n",
       "      <th>2</th>\n",
       "      <td>4.7</td>\n",
       "      <td>3.2</td>\n",
       "      <td>1.3</td>\n",
       "      <td>0.2</td>\n",
       "      <td>setosa</td>\n",
       "    </tr>\n",
       "    <tr>\n",
       "      <th>3</th>\n",
       "      <td>4.6</td>\n",
       "      <td>3.1</td>\n",
       "      <td>1.5</td>\n",
       "      <td>0.2</td>\n",
       "      <td>setosa</td>\n",
       "    </tr>\n",
       "    <tr>\n",
       "      <th>4</th>\n",
       "      <td>5.0</td>\n",
       "      <td>3.6</td>\n",
       "      <td>1.4</td>\n",
       "      <td>0.2</td>\n",
       "      <td>setosa</td>\n",
       "    </tr>\n",
       "    <tr>\n",
       "      <th>...</th>\n",
       "      <td>...</td>\n",
       "      <td>...</td>\n",
       "      <td>...</td>\n",
       "      <td>...</td>\n",
       "      <td>...</td>\n",
       "    </tr>\n",
       "    <tr>\n",
       "      <th>145</th>\n",
       "      <td>6.7</td>\n",
       "      <td>3.0</td>\n",
       "      <td>5.2</td>\n",
       "      <td>2.3</td>\n",
       "      <td>vriginica</td>\n",
       "    </tr>\n",
       "    <tr>\n",
       "      <th>146</th>\n",
       "      <td>6.3</td>\n",
       "      <td>2.5</td>\n",
       "      <td>5.0</td>\n",
       "      <td>1.9</td>\n",
       "      <td>vriginica</td>\n",
       "    </tr>\n",
       "    <tr>\n",
       "      <th>147</th>\n",
       "      <td>6.5</td>\n",
       "      <td>3.0</td>\n",
       "      <td>5.2</td>\n",
       "      <td>2.0</td>\n",
       "      <td>vriginica</td>\n",
       "    </tr>\n",
       "    <tr>\n",
       "      <th>148</th>\n",
       "      <td>6.2</td>\n",
       "      <td>3.4</td>\n",
       "      <td>5.4</td>\n",
       "      <td>2.3</td>\n",
       "      <td>vriginica</td>\n",
       "    </tr>\n",
       "    <tr>\n",
       "      <th>149</th>\n",
       "      <td>5.9</td>\n",
       "      <td>3.0</td>\n",
       "      <td>5.1</td>\n",
       "      <td>1.8</td>\n",
       "      <td>vriginica</td>\n",
       "    </tr>\n",
       "  </tbody>\n",
       "</table>\n",
       "<p>150 rows × 5 columns</p>\n",
       "</div>"
      ],
      "text/plain": [
       "     sepal length (cm)  sepal width (cm)  petal length (cm)  petal width (cm)  \\\n",
       "0                  5.1               3.5                1.4               0.2   \n",
       "1                  4.9               3.0                1.4               0.2   \n",
       "2                  4.7               3.2                1.3               0.2   \n",
       "3                  4.6               3.1                1.5               0.2   \n",
       "4                  5.0               3.6                1.4               0.2   \n",
       "..                 ...               ...                ...               ...   \n",
       "145                6.7               3.0                5.2               2.3   \n",
       "146                6.3               2.5                5.0               1.9   \n",
       "147                6.5               3.0                5.2               2.0   \n",
       "148                6.2               3.4                5.4               2.3   \n",
       "149                5.9               3.0                5.1               1.8   \n",
       "\n",
       "       species  \n",
       "0       setosa  \n",
       "1       setosa  \n",
       "2       setosa  \n",
       "3       setosa  \n",
       "4       setosa  \n",
       "..         ...  \n",
       "145  vriginica  \n",
       "146  vriginica  \n",
       "147  vriginica  \n",
       "148  vriginica  \n",
       "149  vriginica  \n",
       "\n",
       "[150 rows x 5 columns]"
      ]
     },
     "execution_count": 167,
     "metadata": {},
     "output_type": "execute_result"
    }
   ],
   "source": [
    "# 프레임 병합 \n",
    "Y['species'] = Y['species'].replace([0,1,2] , \n",
    "                                    ['setosa', 'versicolor', 'vriginica'])\n",
    "iris_frm = pd.concat([X,Y] , axis = 1) \n",
    "iris_frm "
   ]
  },
  {
   "cell_type": "code",
   "execution_count": 165,
   "id": "b09ff943-6f10-4f90-a50e-63c26d9e7eb0",
   "metadata": {},
   "outputs": [
    {
     "data": {
      "text/plain": [
       "<seaborn.axisgrid.PairGrid at 0x7fd2dfc02550>"
      ]
     },
     "execution_count": 165,
     "metadata": {},
     "output_type": "execute_result"
    },
    {
     "data": {
      "image/png": "[encoded data removed]",
      "text/plain": [
       "<Figure size 799.125x720 with 20 Axes>"
      ]
     },
     "metadata": {
      "needs_background": "light"
     },
     "output_type": "display_data"
    }
   ],
   "source": [
    "sns.pairplot(iris_frm, hue='species')"
   ]
  },
  {
   "cell_type": "code",
   "execution_count": 169,
   "id": "a094de17-e37d-4c91-b9ef-c88d6265787c",
   "metadata": {},
   "outputs": [],
   "source": [
    "iris_frm['species'] = iris_frm['species'].replace(['setosa', 'versicolor', 'vriginica'] ,\n",
    "                                                  [0,1,2])  "
   ]
  },
  {
   "cell_type": "code",
   "execution_count": 170,
   "id": "146c4085-5033-445b-b69e-ff54b3138e36",
   "metadata": {},
   "outputs": [
    {
     "name": "stdout",
     "output_type": "stream",
     "text": [
      "<class 'pandas.core.frame.DataFrame'>\n",
      "RangeIndex: 150 entries, 0 to 149\n",
      "Data columns (total 5 columns):\n",
      " #   Column             Non-Null Count  Dtype  \n",
      "---  ------             --------------  -----  \n",
      " 0   sepal length (cm)  150 non-null    float64\n",
      " 1   sepal width (cm)   150 non-null    float64\n",
      " 2   petal length (cm)  150 non-null    float64\n",
      " 3   petal width (cm)   150 non-null    float64\n",
      " 4   species            150 non-null    int64  \n",
      "dtypes: float64(4), int64(1)\n",
      "memory usage: 6.0 KB\n"
     ]
    }
   ],
   "source": [
    "iris_frm.head()\n",
    "iris_frm.info()"
   ]
  },
  {
   "cell_type": "code",
   "execution_count": 171,
   "id": "e05edfe4-3b1a-4bdc-8a3b-5d6335979e67",
   "metadata": {},
   "outputs": [
    {
     "name": "stdout",
     "output_type": "stream",
     "text": [
      "종속변수 - \n",
      "독립변수 - \n"
     ]
    },
    {
     "data": {
      "text/html": [
       "<div>\n",
       "<style scoped>\n",
       "    .dataframe tbody tr th:only-of-type {\n",
       "        vertical-align: middle;\n",
       "    }\n",
       "\n",
       "    .dataframe tbody tr th {\n",
       "        vertical-align: top;\n",
       "    }\n",
       "\n",
       "    .dataframe thead th {\n",
       "        text-align: right;\n",
       "    }\n",
       "</style>\n",
       "<table border=\"1\" class=\"dataframe\">\n",
       "  <thead>\n",
       "    <tr style=\"text-align: right;\">\n",
       "      <th></th>\n",
       "      <th>sepal width (cm)</th>\n",
       "      <th>petal length (cm)</th>\n",
       "      <th>petal width (cm)</th>\n",
       "      <th>species</th>\n",
       "    </tr>\n",
       "  </thead>\n",
       "  <tbody>\n",
       "    <tr>\n",
       "      <th>0</th>\n",
       "      <td>3.5</td>\n",
       "      <td>1.4</td>\n",
       "      <td>0.2</td>\n",
       "      <td>0</td>\n",
       "    </tr>\n",
       "    <tr>\n",
       "      <th>1</th>\n",
       "      <td>3.0</td>\n",
       "      <td>1.4</td>\n",
       "      <td>0.2</td>\n",
       "      <td>0</td>\n",
       "    </tr>\n",
       "    <tr>\n",
       "      <th>2</th>\n",
       "      <td>3.2</td>\n",
       "      <td>1.3</td>\n",
       "      <td>0.2</td>\n",
       "      <td>0</td>\n",
       "    </tr>\n",
       "    <tr>\n",
       "      <th>3</th>\n",
       "      <td>3.1</td>\n",
       "      <td>1.5</td>\n",
       "      <td>0.2</td>\n",
       "      <td>0</td>\n",
       "    </tr>\n",
       "    <tr>\n",
       "      <th>4</th>\n",
       "      <td>3.6</td>\n",
       "      <td>1.4</td>\n",
       "      <td>0.2</td>\n",
       "      <td>0</td>\n",
       "    </tr>\n",
       "    <tr>\n",
       "      <th>...</th>\n",
       "      <td>...</td>\n",
       "      <td>...</td>\n",
       "      <td>...</td>\n",
       "      <td>...</td>\n",
       "    </tr>\n",
       "    <tr>\n",
       "      <th>145</th>\n",
       "      <td>3.0</td>\n",
       "      <td>5.2</td>\n",
       "      <td>2.3</td>\n",
       "      <td>2</td>\n",
       "    </tr>\n",
       "    <tr>\n",
       "      <th>146</th>\n",
       "      <td>2.5</td>\n",
       "      <td>5.0</td>\n",
       "      <td>1.9</td>\n",
       "      <td>2</td>\n",
       "    </tr>\n",
       "    <tr>\n",
       "      <th>147</th>\n",
       "      <td>3.0</td>\n",
       "      <td>5.2</td>\n",
       "      <td>2.0</td>\n",
       "      <td>2</td>\n",
       "    </tr>\n",
       "    <tr>\n",
       "      <th>148</th>\n",
       "      <td>3.4</td>\n",
       "      <td>5.4</td>\n",
       "      <td>2.3</td>\n",
       "      <td>2</td>\n",
       "    </tr>\n",
       "    <tr>\n",
       "      <th>149</th>\n",
       "      <td>3.0</td>\n",
       "      <td>5.1</td>\n",
       "      <td>1.8</td>\n",
       "      <td>2</td>\n",
       "    </tr>\n",
       "  </tbody>\n",
       "</table>\n",
       "<p>150 rows × 4 columns</p>\n",
       "</div>"
      ],
      "text/plain": [
       "     sepal width (cm)  petal length (cm)  petal width (cm)  species\n",
       "0                 3.5                1.4               0.2        0\n",
       "1                 3.0                1.4               0.2        0\n",
       "2                 3.2                1.3               0.2        0\n",
       "3                 3.1                1.5               0.2        0\n",
       "4                 3.6                1.4               0.2        0\n",
       "..                ...                ...               ...      ...\n",
       "145               3.0                5.2               2.3        2\n",
       "146               2.5                5.0               1.9        2\n",
       "147               3.0                5.2               2.0        2\n",
       "148               3.4                5.4               2.3        2\n",
       "149               3.0                5.1               1.8        2\n",
       "\n",
       "[150 rows x 4 columns]"
      ]
     },
     "execution_count": 171,
     "metadata": {},
     "output_type": "execute_result"
    }
   ],
   "source": [
    "print('종속변수 - ') # 데이터 분리\n",
    "Y = iris_frm['sepal length (cm)']\n",
    "Y\n",
    "\n",
    "print('독립변수 - ')\n",
    "X = iris_frm.drop('sepal length (cm)' , axis = 1)\n",
    "X"
   ]
  },
  {
   "cell_type": "code",
   "execution_count": 172,
   "id": "e1acb981-e9ef-4d01-ae78-6d5eda601525",
   "metadata": {},
   "outputs": [
    {
     "data": {
      "text/plain": [
       "LinearRegression()"
      ]
     },
     "execution_count": 172,
     "metadata": {},
     "output_type": "execute_result"
    }
   ],
   "source": [
    "iris_model = LinearRegression() # 모델 생성\n",
    "iris_model.fit(X, Y)"
   ]
  },
  {
   "cell_type": "code",
   "execution_count": 173,
   "id": "c671f54f-f1fd-45c6-90b8-9a72c1116e1f",
   "metadata": {},
   "outputs": [
    {
     "data": {
      "text/plain": [
       "0.8621931701975808"
      ]
     },
     "execution_count": 173,
     "metadata": {},
     "output_type": "execute_result"
    }
   ],
   "source": [
    "r_squared = iris_model.score(X,Y)\n",
    "r_squared"
   ]
  },
  {
   "cell_type": "code",
   "execution_count": 174,
   "id": "eea4cde4-e74f-4130-8a5b-15c5a94d02ce",
   "metadata": {},
   "outputs": [
    {
     "data": {
      "text/plain": [
       "array([5.13591913])"
      ]
     },
     "execution_count": 174,
     "metadata": {},
     "output_type": "execute_result"
    }
   ],
   "source": [
    "user_pred = iris_model.predict([[4.2,1.3,0.2,1]])\n",
    "user_pred"
   ]
  },
  {
   "cell_type": "code",
   "execution_count": 175,
   "id": "d3278f7b-dcd0-4f4f-b2e6-2d06be9b606e",
   "metadata": {},
   "outputs": [
    {
     "data": {
      "text/plain": [
       "((120, 4), (30, 4), (120,), (30,))"
      ]
     },
     "execution_count": 175,
     "metadata": {},
     "output_type": "execute_result"
    }
   ],
   "source": [
    "X_train, X_test , y_train, y_test = train_test_split(X, Y,\n",
    "                                                     test_size = 0.2,\n",
    "                                                     random_state = 111) \n",
    "X_train.shape , X_test.shape , y_train.shape , y_test.shape"
   ]
  },
  {
   "cell_type": "code",
   "execution_count": 176,
   "id": "3e5f77fb-9dd3-4ba9-b6a6-29bb534313a1",
   "metadata": {},
   "outputs": [
    {
     "data": {
      "text/plain": [
       "LinearRegression()"
      ]
     },
     "execution_count": 176,
     "metadata": {},
     "output_type": "execute_result"
    }
   ],
   "source": [
    "iris_model = LinearRegression() # 모델 생성\n",
    "iris_model.fit(X, Y) "
   ]
  },
  {
   "cell_type": "code",
   "execution_count": 177,
   "id": "e998c48e-344e-49b1-988b-cdf25aaffa87",
   "metadata": {},
   "outputs": [
    {
     "data": {
      "text/plain": [
       "0.8621931701975808"
      ]
     },
     "execution_count": 177,
     "metadata": {},
     "output_type": "execute_result"
    }
   ],
   "source": [
    "r_squared = iris_model.score(X,Y)\n",
    "r_squared"
   ]
  },
  {
   "cell_type": "code",
   "execution_count": 179,
   "id": "38b57662-afcd-4eb7-8aa2-9771a5f69ea8",
   "metadata": {},
   "outputs": [
    {
     "data": {
      "text/html": [
       "<div>\n",
       "<style scoped>\n",
       "    .dataframe tbody tr th:only-of-type {\n",
       "        vertical-align: middle;\n",
       "    }\n",
       "\n",
       "    .dataframe tbody tr th {\n",
       "        vertical-align: top;\n",
       "    }\n",
       "\n",
       "    .dataframe thead th {\n",
       "        text-align: right;\n",
       "    }\n",
       "</style>\n",
       "<table border=\"1\" class=\"dataframe\">\n",
       "  <thead>\n",
       "    <tr style=\"text-align: right;\">\n",
       "      <th></th>\n",
       "      <th>actual_sepal_length</th>\n",
       "      <th>guess_sepal_length</th>\n",
       "    </tr>\n",
       "  </thead>\n",
       "  <tbody>\n",
       "    <tr>\n",
       "      <th>39</th>\n",
       "      <td>5.1</td>\n",
       "      <td>5.010637</td>\n",
       "    </tr>\n",
       "    <tr>\n",
       "      <th>26</th>\n",
       "      <td>5.0</td>\n",
       "      <td>5.004034</td>\n",
       "    </tr>\n",
       "    <tr>\n",
       "      <th>109</th>\n",
       "      <td>7.2</td>\n",
       "      <td>7.170132</td>\n",
       "    </tr>\n",
       "    <tr>\n",
       "      <th>123</th>\n",
       "      <td>6.3</td>\n",
       "      <td>5.999007</td>\n",
       "    </tr>\n",
       "    <tr>\n",
       "      <th>77</th>\n",
       "      <td>6.7</td>\n",
       "      <td>6.527687</td>\n",
       "    </tr>\n",
       "    <tr>\n",
       "      <th>24</th>\n",
       "      <td>4.8</td>\n",
       "      <td>5.307807</td>\n",
       "    </tr>\n",
       "    <tr>\n",
       "      <th>0</th>\n",
       "      <td>5.1</td>\n",
       "      <td>4.998873</td>\n",
       "    </tr>\n",
       "    <tr>\n",
       "      <th>139</th>\n",
       "      <td>6.9</td>\n",
       "      <td>6.499237</td>\n",
       "    </tr>\n",
       "    <tr>\n",
       "      <th>144</th>\n",
       "      <td>6.7</td>\n",
       "      <td>6.685379</td>\n",
       "    </tr>\n",
       "    <tr>\n",
       "      <th>56</th>\n",
       "      <td>6.3</td>\n",
       "      <td>6.532841</td>\n",
       "    </tr>\n",
       "    <tr>\n",
       "      <th>131</th>\n",
       "      <td>7.9</td>\n",
       "      <td>7.720305</td>\n",
       "    </tr>\n",
       "    <tr>\n",
       "      <th>36</th>\n",
       "      <td>5.5</td>\n",
       "      <td>4.924580</td>\n",
       "    </tr>\n",
       "    <tr>\n",
       "      <th>119</th>\n",
       "      <td>6.0</td>\n",
       "      <td>5.882004</td>\n",
       "    </tr>\n",
       "    <tr>\n",
       "      <th>124</th>\n",
       "      <td>6.7</td>\n",
       "      <td>6.847170</td>\n",
       "    </tr>\n",
       "    <tr>\n",
       "      <th>105</th>\n",
       "      <td>7.6</td>\n",
       "      <td>7.328219</td>\n",
       "    </tr>\n",
       "    <tr>\n",
       "      <th>15</th>\n",
       "      <td>5.7</td>\n",
       "      <td>5.555020</td>\n",
       "    </tr>\n",
       "    <tr>\n",
       "      <th>126</th>\n",
       "      <td>6.2</td>\n",
       "      <td>5.987242</td>\n",
       "    </tr>\n",
       "    <tr>\n",
       "      <th>57</th>\n",
       "      <td>4.9</td>\n",
       "      <td>5.172683</td>\n",
       "    </tr>\n",
       "    <tr>\n",
       "      <th>35</th>\n",
       "      <td>5.0</td>\n",
       "      <td>4.662704</td>\n",
       "    </tr>\n",
       "    <tr>\n",
       "      <th>140</th>\n",
       "      <td>6.7</td>\n",
       "      <td>6.526479</td>\n",
       "    </tr>\n",
       "    <tr>\n",
       "      <th>73</th>\n",
       "      <td>6.1</td>\n",
       "      <td>6.381993</td>\n",
       "    </tr>\n",
       "    <tr>\n",
       "      <th>137</th>\n",
       "      <td>6.4</td>\n",
       "      <td>6.694873</td>\n",
       "    </tr>\n",
       "    <tr>\n",
       "      <th>55</th>\n",
       "      <td>5.7</td>\n",
       "      <td>6.192961</td>\n",
       "    </tr>\n",
       "    <tr>\n",
       "      <th>82</th>\n",
       "      <td>5.8</td>\n",
       "      <td>5.725126</td>\n",
       "    </tr>\n",
       "    <tr>\n",
       "      <th>113</th>\n",
       "      <td>5.7</td>\n",
       "      <td>5.867348</td>\n",
       "    </tr>\n",
       "    <tr>\n",
       "      <th>23</th>\n",
       "      <td>5.1</td>\n",
       "      <td>4.975351</td>\n",
       "    </tr>\n",
       "    <tr>\n",
       "      <th>25</th>\n",
       "      <td>5.0</td>\n",
       "      <td>4.834818</td>\n",
       "    </tr>\n",
       "    <tr>\n",
       "      <th>70</th>\n",
       "      <td>5.9</td>\n",
       "      <td>6.463710</td>\n",
       "    </tr>\n",
       "    <tr>\n",
       "      <th>2</th>\n",
       "      <td>4.7</td>\n",
       "      <td>4.736997</td>\n",
       "    </tr>\n",
       "    <tr>\n",
       "      <th>136</th>\n",
       "      <td>6.3</td>\n",
       "      <td>6.714062</td>\n",
       "    </tr>\n",
       "  </tbody>\n",
       "</table>\n",
       "</div>"
      ],
      "text/plain": [
       "     actual_sepal_length  guess_sepal_length\n",
       "39                   5.1            5.010637\n",
       "26                   5.0            5.004034\n",
       "109                  7.2            7.170132\n",
       "123                  6.3            5.999007\n",
       "77                   6.7            6.527687\n",
       "24                   4.8            5.307807\n",
       "0                    5.1            4.998873\n",
       "139                  6.9            6.499237\n",
       "144                  6.7            6.685379\n",
       "56                   6.3            6.532841\n",
       "131                  7.9            7.720305\n",
       "36                   5.5            4.924580\n",
       "119                  6.0            5.882004\n",
       "124                  6.7            6.847170\n",
       "105                  7.6            7.328219\n",
       "15                   5.7            5.555020\n",
       "126                  6.2            5.987242\n",
       "57                   4.9            5.172683\n",
       "35                   5.0            4.662704\n",
       "140                  6.7            6.526479\n",
       "73                   6.1            6.381993\n",
       "137                  6.4            6.694873\n",
       "55                   5.7            6.192961\n",
       "82                   5.8            5.725126\n",
       "113                  5.7            5.867348\n",
       "23                   5.1            4.975351\n",
       "25                   5.0            4.834818\n",
       "70                   5.9            6.463710\n",
       "2                    4.7            4.736997\n",
       "136                  6.3            6.714062"
      ]
     },
     "execution_count": 179,
     "metadata": {},
     "output_type": "execute_result"
    }
   ],
   "source": [
    "y_pred = iris_model.predict(X_test)\n",
    "iris_actual_guess = pd.DataFrame({\n",
    "    'actual_sepal_length' : y_test , \n",
    "    'guess_sepal_length'  : y_pred\n",
    "})\n",
    "iris_actual_guess"
   ]
  },
  {
   "cell_type": "code",
   "execution_count": 180,
   "id": "54347a67-ca1b-4a2c-aa4b-f50435d77e05",
   "metadata": {},
   "outputs": [
    {
     "name": "stdout",
     "output_type": "stream",
     "text": [
      "성능평가 지표 - \n",
      "\n",
      "mae -  0.2301226715837618\n",
      "mse -  0.07820606769727984\n",
      "rmse -  0.279653477892337\n",
      "R -  0.8891567544448002\n"
     ]
    }
   ],
   "source": [
    "print('성능평가 지표 - ')\n",
    "\n",
    "print()\n",
    "\n",
    "print('mae - ', mean_absolute_error(y_test, y_pred))\n",
    "print('mse - ', mean_squared_error(y_test, y_pred))\n",
    "print('rmse - ', np.sqrt(mean_squared_error(y_test, y_pred))) # mse 오류의 값을 실제결과 값 \n",
    "print('R - ', iris_model.score(X_test, y_test))"
   ]
  },
  {
   "cell_type": "code",
   "execution_count": null,
   "id": "d477db16-64ba-4b02-a0c9-cf112d01f757",
   "metadata": {},
   "outputs": [],
   "source": [
    "def mean_error(target, prediction):\n",
    "    print('mae - ', mean_absolute_error(y_test, y_pred))\n",
    "    print('mse - ', mean_squared_error(y_test, y_pred))\n",
    "    print('rmse - ', np.sqrt(mean_squared_error(y_test, y_pred))) # mse 오류의 값을 실제결과 값 \n",
    "    print('R - ', iris_model.score(X_test, y_test))"
   ]
  },
  {
   "cell_type": "code",
   "execution_count": null,
   "id": "b454fd20-e306-49f9-a053-9355701567a7",
   "metadata": {},
   "outputs": [],
   "source": []
  },
  {
   "cell_type": "code",
   "execution_count": null,
   "id": "760af732-7c5b-495f-b623-86d7c9f86d13",
   "metadata": {},
   "outputs": [],
   "source": []
  },
  {
   "cell_type": "code",
   "execution_count": null,
   "id": "a9d3cc24-57e2-4970-8720-742ca87320f2",
   "metadata": {},
   "outputs": [],
   "source": []
  },
  {
   "cell_type": "code",
   "execution_count": null,
   "id": "288d72ee-2d65-457f-9d77-e580a00dab80",
   "metadata": {},
   "outputs": [],
   "source": []
  },
  {
   "cell_type": "code",
   "execution_count": null,
   "id": "d97f1398-d3e5-4c27-8b15-8cc5d200bc3b",
   "metadata": {},
   "outputs": [],
   "source": []
  },
  {
   "cell_type": "code",
   "execution_count": null,
   "id": "f8b5d776-1045-4342-b1b0-baa1475067fb",
   "metadata": {},
   "outputs": [],
   "source": []
  },
  {
   "cell_type": "code",
   "execution_count": null,
   "id": "bd7c9d0f-a00c-4e62-b31a-009de5e715b3",
   "metadata": {},
   "outputs": [],
   "source": []
  },
  {
   "cell_type": "code",
   "execution_count": null,
   "id": "43355c9e-355a-4be5-923c-00e6e226ed44",
   "metadata": {},
   "outputs": [],
   "source": []
  },
  {
   "cell_type": "code",
   "execution_count": null,
   "id": "bc2c23b7-5193-43dc-bed1-364cc18df8d8",
   "metadata": {},
   "outputs": [],
   "source": []
  },
  {
   "cell_type": "code",
   "execution_count": null,
   "id": "bd1b6998-47e2-4f14-9511-6483a11cee4a",
   "metadata": {},
   "outputs": [],
   "source": []
  }
 ],
 "metadata": {
  "kernelspec": {
   "display_name": "Python 3 (ipykernel)",
   "language": "python",
   "name": "python3"
  },
  "language_info": {
   "codemirror_mode": {
    "name": "ipython",
    "version": 3
   },
   "file_extension": ".py",
   "mimetype": "text/x-python",
   "name": "python",
   "nbconvert_exporter": "python",
   "pygments_lexer": "ipython3",
   "version": "3.9.7"
  }
 },
 "nbformat": 4,
 "nbformat_minor": 5
}
