{
 "cells": [
  {
   "cell_type": "code",
   "execution_count": 7,
   "id": "c2ac4577-ade4-4dad-b5ec-58adc866dc8f",
   "metadata": {},
   "outputs": [
    {
     "data": {
      "text/plain": [
       "20"
      ]
     },
     "execution_count": 7,
     "metadata": {},
     "output_type": "execute_result"
    }
   ],
   "source": [
    "udf-8      # 전세계의 문자들의 코드값을 표준화 - 1~4바이트(웹표준)\n",
    "iso-8859-1 # 영문(asclii) - 1바이트\n",
    "ksc5601    # 한국어 - 2바이트"
   ]
  },
  {
   "cell_type": "code",
   "execution_count": null,
   "id": "f285deb8-d8e3-46a8-bc12-0fe08cd85621",
   "metadata": {},
   "outputs": [],
   "source": []
  }
 ],
 "metadata": {
  "kernelspec": {
   "display_name": "Python 3 (ipykernel)",
   "language": "python",
   "name": "python3"
  },
  "language_info": {
   "codemirror_mode": {
    "name": "ipython",
    "version": 3
   },
   "file_extension": ".py",
   "mimetype": "text/x-python",
   "name": "python",
   "nbconvert_exporter": "python",
   "pygments_lexer": "ipython3",
   "version": "3.9.7"
  }
 },
 "nbformat": 4,
 "nbformat_minor": 5
}
