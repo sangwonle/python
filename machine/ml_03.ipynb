{
 "cells": [
  {
   "cell_type": "code",
   "execution_count": null,
   "id": "6a4aa97c-e260-45db-8beb-f7c2689e7202",
   "metadata": {},
   "outputs": [],
   "source": [
    "import pandas as pd\n",
    "import numpy as np\n",
    "\n",
    "\n",
    "from io import StringIO\n",
    "\n",
    "import missingno as msno\n",
    "\n",
    "import sklearn\n",
    "from sklearn.datasets import load_iris, load_breast_cancer\n",
    "from sklearn.model_selection import train_test_split, KFold, StratifiedKFold, cross_validate, cross_val_score, GridSearchCV\n",
    "from sklearn.tree import DecisionTreeClassifier\n",
    "from sklearn.metrics import accuracy_score, recall_score, precision_score, f1_score, confusion_matrix, make_scorer\n",
    "from sklearn.preprocessing import LabelEncoder, OneHotEncoder, StandardScaler, MinMaxScaler\n",
    "from sklearn.impute import SimpleImputer\n",
    "from sklearn.ensemble import RandomForestClassifier\n",
    "from sklearn.linear_model import LogisticRegression\n",
    "\n",
    "\n",
    "\n",
    "import matplotlib.pyplot as plt\n",
    "\n",
    "import seaborn as sns"
   ]
  },
  {
   "cell_type": "code",
   "execution_count": null,
   "id": "1e7412d0-0d79-4a25-965d-17c841d5e204",
   "metadata": {},
   "outputs": [],
   "source": [
    "### 분류모델의 성능평가\n",
    "# 정확도 : 실 데이터와 예측 데이터가 얼마나 같은지를 판단하는 지표\n",
    "# 문제점 : 이진분륜의 경우 모델의 성능을 왜곡할 수 있다\n",
    "# 왜 : 데이터의 불균형\n",
    "# 해결책 : F1 Score (조합평균) Precision, Recall"
   ]
  },
  {
   "cell_type": "code",
   "execution_count": null,
   "id": "dd431a78-d064-4ed9-a709-b9b79bb3af1b",
   "metadata": {},
   "outputs": [],
   "source": [
    "### 분류모델 성능평가를 위한 이해\n",
    "print('TP(target = 1, predict = 1)')\n",
    "print('TN(target = 0, predict = 0)')\n",
    "print('FN(target = 1, predict = 0) -> type 1 error')\n",
    "print('FP(target = 0, predict = 1) -> type 2 error')\n",
    "\n",
    "\n",
    "target = [1,0,0,1,1,1,0,1,1,1]\n",
    "prediction = [0,1,1,1,1,0,1,0,1,0]\n",
    "\n",
    "tp = tn = fn = fp = 0\n",
    "\n",
    "for idx in range(len(target)):\n",
    "    if target[idx] == 1 and prediction[idx] == 1:\n",
    "        tp += 1\n",
    "    if target[idx] == 0 and prediction[idx] == 0:\n",
    "        tn += 1\n",
    "    if target[idx] == 1 and prediction[idx] == 0:\n",
    "        fn += 1\n",
    "    if target[idx] == 0 and prediction[idx] == 1:\n",
    "        fp += 1\n",
    "        \n",
    "        \n",
    "print()\n",
    "\n",
    "print('TP(target = 1, predict = 1)', tp)\n",
    "print('TN(target = 0, predict = 0)', tn)\n",
    "print('FN(target = 1, predict = 0) -> type 1 error', fn)\n",
    "print('FP(target = 0, predict = 1) -> type 2 error', fp)\n"
   ]
  },
  {
   "cell_type": "code",
   "execution_count": null,
   "id": "4442f4b6-e6ca-4a86-9deb-3efc02dbb3a4",
   "metadata": {},
   "outputs": [],
   "source": [
    "print('accuracy - ', accuracy_score(target, prediction))\n",
    "print('recall - ', recall_score(target, prediction))\n",
    "print('precision - ', precision_score(target, prediction))\n",
    "print('f1 - ', f1_score(target, prediction))\n",
    "print()\n",
    "print('confusion_matrix - \\n', confusion_matrix(target, prediction))"
   ]
  },
  {
   "cell_type": "code",
   "execution_count": null,
   "id": "00c297bb-209c-45bf-bdb1-eedb61898a0a",
   "metadata": {},
   "outputs": [],
   "source": [
    "# 정밀도(precision) : TP / (TP + FP)\n",
    "# 상대적으로 정밀도가 더 중요한 지표인 경우의 모델? - 스펨메일\n",
    "# 재현율(recall) : TP / (TP + FN) \n",
    "# 상대적으로 재현율 더 즁요한 지표인 경우의 모델 - 의학(암진단), 금용(사기판단)"
   ]
  },
  {
   "cell_type": "code",
   "execution_count": null,
   "id": "08aa5805-213e-4925-b9c7-4ce88c713ff7",
   "metadata": {},
   "outputs": [],
   "source": [
    "titanic_frm = pd.read_csv('output/titanic_train.csv')\n",
    "\n",
    "titanic_frm['Survived'].value_counts()\n",
    "titanic_frm"
   ]
  },
  {
   "cell_type": "code",
   "execution_count": null,
   "id": "631889de-d862-4ed1-97b6-fdc20fe75a66",
   "metadata": {},
   "outputs": [],
   "source": [
    "## 데이터 분리 - 현재 알아보고자하는 데이터\n",
    "titanic_target = titanic_frm['Survived']\n",
    "titanic_feature = titanic_frm.drop(['Survived'], axis=1)\n",
    "\n",
    "print('target type - ', type(titanic_target))\n",
    "print('feature type - ', type(titanic_feature))\n",
    "\n",
    "# titanic_target.values"
   ]
  },
  {
   "cell_type": "code",
   "execution_count": null,
   "id": "29e454fe-3369-4734-b9f8-2a59297569cf",
   "metadata": {},
   "outputs": [],
   "source": [
    "# 전처리 요구 사항 불필요한 피처 제거 PassengerId, Name, Ticket\n",
    "\n",
    "titanic_frm_drop = titanic_frm.drop([('PassengerId'), ('Name'), ('Ticket')], axis=1)\n",
    "\n",
    "titanic_frm_drop\n",
    "\n",
    "imputer = SimpleImputer(strategy='mean')\n",
    "titanic_frm_drop['Age'] = imputer.fit_transform(titanic_frm_drop[['Age']])\n",
    "\n",
    "# 결측값 처리 Age는 평균, Cabin는 N, Embarked는 N\n",
    "titanic_frm_drop['Cabin'] = titanic['Cabin'].fillna('N')\n",
    "\n",
    "titanic_frm_drop\n",
    "\n",
    "\n",
    "\n",
    "# 레이블 인코딩 Cabin, Embarked 진행"
   ]
  },
  {
   "cell_type": "code",
   "execution_count": null,
   "id": "7004be37-6f48-4b9d-b10b-f0050daae2ed",
   "metadata": {},
   "outputs": [],
   "source": [
    "def drop_features(frm) :\n",
    "    frm.drop([('PassengerId'), ('Name'), ('Ticket')], axis=1, inplace=True)\n",
    "    return frm\n"
   ]
  },
  {
   "cell_type": "code",
   "execution_count": null,
   "id": "bb358fdb-1b52-418a-8d39-ab555959bf59",
   "metadata": {},
   "outputs": [],
   "source": [
    "feature_subset = drop_features(titanic_feature)\n",
    "feature_subset"
   ]
  },
  {
   "cell_type": "code",
   "execution_count": null,
   "id": "e046103e-e233-43ca-87b4-9d810e8b4676",
   "metadata": {},
   "outputs": [],
   "source": [
    "# Age평균 Cabin, Embarked 'N'으로 채움 \n",
    "def pre_processing(frm) :\n",
    "    frm['Age'].fillna(frm['Age'].mean(), inplace=True)\n",
    "    frm['Cabin'].fillna('N',inplace=True)\n",
    "    frm['Embarked'].fillna('N', inplace=True)\n",
    "    return frm"
   ]
  },
  {
   "cell_type": "code",
   "execution_count": null,
   "id": "6a5f034e-5cbd-47f8-a741-f562219e8f84",
   "metadata": {},
   "outputs": [],
   "source": [
    "feature_subset = pre_processing(feature_subset)\n",
    "feature_subset['Cabin'].values\n",
    "feature_subset['Cabin'].str[:1]"
   ]
  },
  {
   "cell_type": "code",
   "execution_count": null,
   "id": "c4e4fedc-ca2f-4af0-ba8f-526db7915993",
   "metadata": {},
   "outputs": [],
   "source": [
    "def label_encoder(frm):\n",
    "    frm['Cabin'] = frm['Cabin'].str[:1]\n",
    "    features = ['Sex', 'Cabin', 'Embarked']\n",
    "    \n",
    "    for feature in features:\n",
    "        encoder = LabelEncoder()\n",
    "        frm[feature] = encoder.fit_transform(frm[feature])\n",
    "        \n",
    "        return frm\n"
   ]
  },
  {
   "cell_type": "code",
   "execution_count": null,
   "id": "33ac2b31-ec5f-4454-8cf2-0a6fba29c7ae",
   "metadata": {},
   "outputs": [],
   "source": [
    "feature_subset = label_encoder(feature_subset)\n",
    "feature_subset\n",
    "msno.matrix(feature_subset)"
   ]
  },
  {
   "cell_type": "code",
   "execution_count": null,
   "id": "b33c3922-0bb7-4532-8417-16aed8a59ce3",
   "metadata": {},
   "outputs": [],
   "source": [
    "# 학습데이터와 테스트데이터를 분리 하는 방법\n",
    "X_train, X_test, y_train, y_test = train_test_split(feature_subset,\n",
    "                                                    titanic_target,\n",
    "                                                    test_size=0.2,\n",
    "                                                    shuffle=True,\n",
    "                                                    random_state=200)"
   ]
  },
  {
   "cell_type": "code",
   "execution_count": null,
   "id": "66e2299b-80d4-4d0c-8aab-9640e8aae2bc",
   "metadata": {},
   "outputs": [],
   "source": [
    "X_train.shape, X_test.shape, y_train.shape, y_test.shape"
   ]
  },
  {
   "cell_type": "code",
   "execution_count": null,
   "id": "039bf00e-6af8-43fc-8ae5-5dd050752ad4",
   "metadata": {},
   "outputs": [],
   "source": [
    "# 모델 만들기\n",
    "lr_model = LogisticRegression()\n",
    "lr_model.fit(X_train, y_train)\n",
    "\n",
    "# 예측\n",
    "lr_y_pred = lr_model.predict(X_test)"
   ]
  },
  {
   "cell_type": "code",
   "execution_count": null,
   "id": "bf95814f-c169-46b7-859e-9feafe5f8d5a",
   "metadata": {},
   "outputs": [],
   "source": [
    "# 모델 만들기\n",
    "dt_model = DecisionTreeClassifier()\n",
    "dt_model.fit(X_train, y_train)\n",
    "\n",
    "# 예측\n",
    "dt_y_pred = dt_model.predict(X_test)"
   ]
  },
  {
   "cell_type": "code",
   "execution_count": null,
   "id": "20049797-e1ef-4d30-aa47-953247fb10cd",
   "metadata": {},
   "outputs": [],
   "source": [
    "def metrics_eval(target, prediction):\n",
    "    print('accuracy - ', accuracy_score(target, prediction))\n",
    "    print('recall - ', recall_score(target, prediction))\n",
    "    print('precision - ', precision_score(target, prediction))\n",
    "    print('f1 - ', f1_score(target, prediction))\n",
    "    print()\n",
    "    print('confusion_matrix - \\n', confusion_matrix(target, prediction))"
   ]
  },
  {
   "cell_type": "code",
   "execution_count": null,
   "id": "a26788f8-ae3b-472b-8a71-21e7af3763cb",
   "metadata": {},
   "outputs": [],
   "source": [
    "print('LogisticRegression -' )\n",
    "print()\n",
    "metrice_eval(y_test, lr_y_pred)\n",
    "print()\n",
    "print('acc - ', (90+54)/(90+54+14+21))"
   ]
  },
  {
   "cell_type": "code",
   "execution_count": null,
   "id": "71078470-b102-460b-b616-94475b3601b7",
   "metadata": {},
   "outputs": [],
   "source": [
    "print('DecisionTreeClassifier -' )\n",
    "print()\n",
    "metrice_eval(y_test, dt_y_pred)"
   ]
  },
  {
   "cell_type": "code",
   "execution_count": null,
   "id": "e05b3440-d45b-49c8-977d-33a17302be19",
   "metadata": {},
   "outputs": [],
   "source": [
    "## 교체 검증\n",
    "fold = KFold(n_splits=20)\n",
    "\n",
    "scoring = {\n",
    "    'accuracy'  : make_scorer(accuracy_score),\n",
    "    'precision' : make_scorer(precision_score), \n",
    "    'recall'    : make_scorer(recall_score), \n",
    "    'f1' : make_scorer(f1_score), \n",
    "}\n",
    "\n",
    "result = cross_validate(lr_model, X_train, y_train, \n",
    "                        cv = fold,\n",
    "                        scoring = scoring)\n",
    "result.keys()"
   ]
  },
  {
   "cell_type": "code",
   "execution_count": null,
   "id": "a6bfa544-ca17-4de7-99ec-05e011698c98",
   "metadata": {},
   "outputs": [],
   "source": [
    "result['test_accuracy'].mean()"
   ]
  },
  {
   "cell_type": "code",
   "execution_count": null,
   "id": "6ef8712e-a2e2-451b-a999-d910e33d6aaf",
   "metadata": {
    "tags": []
   },
   "outputs": [],
   "source": [
    "cancer = load_breast_cancer()\n",
    "cancer.keys()"
   ]
  },
  {
   "cell_type": "code",
   "execution_count": null,
   "id": "27cd7f4f-8570-48d4-a96c-fb577779cac3",
   "metadata": {
    "tags": []
   },
   "outputs": [],
   "source": [
    "print(\"1. 프레임 만들기(feature, target) 포함\")\n",
    "print(\"2. target에 대한 균형 여부 확인\")\n",
    "print(\"3. 데이터 세트 분리\")\n",
    "print(\"4. RandomForestClassifier\")\n",
    "print(\"5. 평가지표 확인\")"
   ]
  },
  {
   "cell_type": "code",
   "execution_count": null,
   "id": "607c7516-71fb-4f7e-a65b-10a63a92ac29",
   "metadata": {},
   "outputs": [],
   "source": [
    "cancer_frm = pd.DataFrame(data    = cancer['data'] , \n",
    "                          columns = cancer['feature_names'])\n",
    "cancer_frm['target'] = cancer['target']\n",
    "cancer_frm"
   ]
  },
  {
   "cell_type": "code",
   "execution_count": null,
   "id": "8c507b25-11fb-4585-bcb1-bcbb43208527",
   "metadata": {
    "tags": []
   },
   "outputs": [],
   "source": [
    "print('데이터의 균형 여부 확인 - ')\n",
    "cancer_target = cancer_frm['target']\n",
    "cancer_features =  cancer_frm.drop(['target'], axis = 1)\n",
    "    \n"
   ]
  },
  {
   "cell_type": "code",
   "execution_count": null,
   "id": "6d2b1def-9a54-4fdb-81d2-f7e01dca65e4",
   "metadata": {},
   "outputs": [],
   "source": [
    "X_train, X_test, y_train, y_test = train_test_split(cancer.data,\n",
    "                                                    cancer.target,\n",
    "                                                    test_size=0.3,\n",
    "                                                    shuffle=True,\n",
    "                                                    random_state=200)\n"
   ]
  },
  {
   "cell_type": "code",
   "execution_count": null,
   "id": "7d77cad0-7eff-49fb-ba06-dccbd9b4bebd",
   "metadata": {},
   "outputs": [],
   "source": [
    "rf_model = RandomForestClassifier()\n",
    "rf_model.fit(X_train, y_train)"
   ]
  },
  {
   "cell_type": "code",
   "execution_count": null,
   "id": "b49dafc5-6e9a-4574-ab2e-8f05e085ee85",
   "metadata": {},
   "outputs": [],
   "source": [
    "rf_y_pred = rf_model.predict(X_test)"
   ]
  },
  {
   "cell_type": "code",
   "execution_count": null,
   "id": "01ed0a27-d0ab-4932-a20d-72fd8dafad6f",
   "metadata": {},
   "outputs": [],
   "source": [
    "metrics_eval(y_test , rf_y_pred)"
   ]
  },
  {
   "cell_type": "code",
   "execution_count": null,
   "id": "108ee469-f1fd-4cd2-97af-8aed5102263d",
   "metadata": {},
   "outputs": [],
   "source": [
    "print('교차검증 - ')\n",
    "fold = KFold(n_splits=20)\n",
    "\n",
    "scoring = {\n",
    "    'accuracy' : make_scorer(accuracy_score),\n",
    "    'preecision' :  make_scorer(precision_score),\n",
    "    'recall' : make_scorer(recall_score),\n",
    "    'f1' : make_scorer(f1_score)\n",
    "}\n",
    "\n",
    "result = cross_validate(rf_model, X_train, y_train,\n",
    "                        cv = fold, \n",
    "                        scoring = scoring\n",
    "                       )\n",
    "result.keys()"
   ]
  },
  {
   "cell_type": "code",
   "execution_count": null,
   "id": "dee47f72-2bc9-4be2-8468-7b02a6090f95",
   "metadata": {},
   "outputs": [],
   "source": [
    "result['test_recall'].mean()"
   ]
  },
  {
   "cell_type": "code",
   "execution_count": null,
   "id": "729b2fcf-0b0b-4e15-bc4c-aab5a090842e",
   "metadata": {},
   "outputs": [],
   "source": [
    "# 재현율을 높이기 위한 방법으로 GridSearchCV를 이용한 파라미터 튜닝!!\n",
    "# n_mestimators -  tree 갯수를 의미\n",
    "# max_featrures - 최대 선택할 피처의 수를 의미\n",
    "# max_depth - 최대 선택할 트리의 깊이를 의미\n",
    "    "
   ]
  },
  {
   "cell_type": "code",
   "execution_count": null,
   "id": "2ef870ad-d238-4f79-b5c3-f186ce2decb1",
   "metadata": {},
   "outputs": [],
   "source": [
    "param = {\n",
    "    'n_estimators' : [50, 100, 150, 200] , \n",
    "    'max_features' : [6, 8, 15, 20] , \n",
    "    'max_depth'    : [4, 6, 8] \n",
    "}\n",
    "\n",
    "grid_search_model = GridSearchCV(rf_model,\n",
    "                                 param_grid = param,\n",
    "                                 cv = 20,\n",
    "                                 refit = True,\n",
    "                                 scoring = 'recall')\n",
    "grid_search_model.fit(X_train, y_train)"
   ]
  },
  {
   "cell_type": "code",
   "execution_count": null,
   "id": "3f1dad61-4070-4e4d-8612-effef3dfff28",
   "metadata": {},
   "outputs": [],
   "source": [
    "grid_search_model.cv_results_"
   ]
  },
  {
   "cell_type": "code",
   "execution_count": null,
   "id": "34845185-3bdc-4600-979d-f9b6b1ecd345",
   "metadata": {},
   "outputs": [],
   "source": [
    "grid_search_model.best_params_"
   ]
  },
  {
   "cell_type": "code",
   "execution_count": null,
   "id": "e4fa38f8-c4d6-417b-affc-78a8a7900a5f",
   "metadata": {},
   "outputs": [],
   "source": [
    "grid_search_model.best_score_"
   ]
  },
  {
   "cell_type": "code",
   "execution_count": null,
   "id": "504d3ff0-a25f-43c8-9715-cd66e41123a3",
   "metadata": {},
   "outputs": [],
   "source": [
    "matrix = [\n",
    "    [-1,-1,2],\n",
    "    [2,0,0],\n",
    "    [0,1.1,1.2]\n",
    "]"
   ]
  },
  {
   "cell_type": "code",
   "execution_count": null,
   "id": "8daaf088-118d-4d5c-9a79-a82909bb066a",
   "metadata": {},
   "outputs": [],
   "source": [
    "from sklearn.preprocessing import Binarizer\n",
    "\n",
    "holder = Binarizer(threshold=1.1)\n",
    "print(holder.fit_transform(matrix))"
   ]
  },
  {
   "cell_type": "code",
   "execution_count": null,
   "id": "3db01faf-78f5-45ee-83a4-f2465b055687",
   "metadata": {},
   "outputs": [],
   "source": [
    "print(\"1. 데이터 로드\")\n",
    "print()\n",
    "titanic_frm = pd.read_csv(\"output//titanic_train.csv\")\n",
    "titanic_frm.head()"
   ]
  },
  {
   "cell_type": "code",
   "execution_count": null,
   "id": "f9fedb4a-c105-448d-81de-d83fe03cfd2f",
   "metadata": {},
   "outputs": [],
   "source": [
    "print('2. target , feature로 데이터 분리')\n",
    "\n",
    "titanic_target  =  titanic_frm['Survived']\n",
    "titanic_feature =  titanic_frm.drop(['Survived'] , axis = 1) \n",
    "\n",
    "print('target  type - ' , type(titanic_target))\n",
    "print('feature type - ' , type(titanic_feature))"
   ]
  },
  {
   "cell_type": "code",
   "execution_count": null,
   "id": "163d82b4-b0d6-4a98-9d4b-9729a0961e4a",
   "metadata": {},
   "outputs": [],
   "source": [
    "feature_subset = drop_features(titanic_feature)\n",
    "feature_subset = pre_processing(feature_subset)\n",
    "feature_subset = label_encoder(feature_subset)\n",
    "feature_subset"
   ]
  },
  {
   "cell_type": "code",
   "execution_count": null,
   "id": "7c2a4325-cce1-4d7c-9872-44dce7a280a5",
   "metadata": {},
   "outputs": [],
   "source": [
    "print('학습과 테스트 분리 - ')\n",
    "print()\n",
    "X_train , X_test , y_train , y_test = train_test_split(feature_subset , \n",
    "                                                       titanic_target , \n",
    "                                                       test_size = 0.2 , \n",
    "                                                       random_state = 100)"
   ]
  },
  {
   "cell_type": "code",
   "execution_count": null,
   "id": "2f93eedc-1a88-41ab-9d44-259ebe355d22",
   "metadata": {},
   "outputs": [],
   "source": [
    "X_train.shape , X_test.shape , y_train.shape , y_test.shape"
   ]
  },
  {
   "cell_type": "code",
   "execution_count": null,
   "id": "e66e7b36-0f4f-41e5-a82f-ab4ebf1b18e4",
   "metadata": {},
   "outputs": [],
   "source": [
    "logistic_model = LogisticRegression()\n",
    "logistic_model.fit(X_train, y_train)\n",
    "y_pred = logistic_model.predict(X_test)"
   ]
  },
  {
   "cell_type": "code",
   "execution_count": null,
   "id": "f2bb1439-7904-4a64-a1ca-9d0583bfbe1d",
   "metadata": {},
   "outputs": [],
   "source": [
    "print('확률예측 값 - predict_proba()')\n",
    "predict_proba_result = logistic_model.predict_proba(X_test)\n",
    "print('type  - ' , type(predict_proba_result))\n",
    "print('shape - ' , predict_proba_result.shape)\n",
    "print('y_pred type  - ' , type(y_pred))\n",
    "print('y_pred shape - ' , y_pred.shape)"
   ]
  },
  {
   "cell_type": "code",
   "execution_count": null,
   "id": "5c1690b2-9466-45e4-b003-7c853726d76e",
   "metadata": {},
   "outputs": [],
   "source": [
    "predict_proba_result[0:3]"
   ]
  },
  {
   "cell_type": "code",
   "execution_count": null,
   "id": "e290b9c7-6482-4c0f-8fd1-855fa5c0141c",
   "metadata": {},
   "outputs": [],
   "source": [
    "y_pred[:3]"
   ]
  },
  {
   "cell_type": "code",
   "execution_count": null,
   "id": "fb56a7bd-f547-4278-8b21-c8c16326b51e",
   "metadata": {},
   "outputs": [],
   "source": [
    "pred_prob_concat = np.concatenate([predict_proba_result , y_pred.reshape(-1,1)] , axis=1)\n",
    "pred_prob_concat[:10]"
   ]
  },
  {
   "cell_type": "code",
   "execution_count": null,
   "id": "51f118e9-227a-4617-b689-12c4b840c712",
   "metadata": {},
   "outputs": [],
   "source": [
    "user_th = 0.3\n",
    "predict_proba_positive = predict_proba_result[ : , 1].reshape(-1, 1)\n",
    "user_pred = Binarizer(threshold = user_th) \\\n",
    "                .fit_transform(predict_proba_positive)"
   ]
  },
  {
   "cell_type": "code",
   "execution_count": null,
   "id": "20d6f8ea-0098-4929-8143-a565226ac9fc",
   "metadata": {},
   "outputs": [],
   "source": [
    "print('default - ')\n",
    "print()\n",
    "metrics_eval(y_test , y_pred)\n",
    "print()\n",
    "print('user th - 0.3 ')\n",
    "print()\n",
    "metrics_eval(y_test , user_pred)\n"
   ]
  },
  {
   "cell_type": "code",
   "execution_count": null,
   "id": "046cbf16-b57e-4c00-9d98-487510b62e33",
   "metadata": {},
   "outputs": [],
   "source": [
    "import matplotlib.pyplot as plt\n",
    "%matplotlib inline"
   ]
  },
  {
   "cell_type": "code",
   "execution_count": null,
   "id": "d937b9ee-1eb2-4c9b-9aac-2c7e66d9c09b",
   "metadata": {},
   "outputs": [],
   "source": [
    "predict_proba_positive = predict_proba_result[ : , 1]\n",
    "precision, recall, th  = precision_recall_curve(y_test , predict_proba_positive)\n",
    "print('precision type - ' , type(precision))\n",
    "print('recall    type - ' , type(recall))\n",
    "print('th        type - ' , type(th))\n",
    "print('precision shape - ' , precision.shape)\n",
    "print('recall    shape - ' , recall.shape)\n",
    "print('th        shape - ' , th.shape)"
   ]
  },
  {
   "cell_type": "code",
   "execution_count": null,
   "id": "e23174d2-e131-4aca-90c8-b3c5a9feba74",
   "metadata": {},
   "outputs": [],
   "source": [
    "plt.figure(figsize=(15,5))\n",
    "\n",
    "\n",
    "plt.plot(th, precision[ 0 : th.shape[0]] , linestyle=\"--\", label=\"precision\")\n",
    "plt.plot(th, recall[ 0 : th.shape[0]]    , linestyle=\"-\" , label=\"recall\")\n",
    "\n",
    "plt.xlabel('threshold ratio')\n",
    "plt.ylabel('precision and recall value')\n",
    "\n",
    "plt.grid()\n",
    "plt.legend()\n",
    "plt.show()\n",
    "plt.close()"
   ]
  },
  {
   "cell_type": "code",
   "execution_count": null,
   "id": "b51dcb16-badc-4537-8875-6ea78c7bcacf",
   "metadata": {},
   "outputs": [],
   "source": []
  },
  {
   "cell_type": "code",
   "execution_count": null,
   "id": "901a97c8-4a10-406e-9de7-e5b1c34187a2",
   "metadata": {},
   "outputs": [],
   "source": []
  },
  {
   "cell_type": "code",
   "execution_count": null,
   "id": "940e6d26-0c4d-446c-a818-9d0c62fc1465",
   "metadata": {},
   "outputs": [],
   "source": []
  },
  {
   "cell_type": "code",
   "execution_count": null,
   "id": "ee667a46-88c2-4ea2-825a-0f0a9442bbf5",
   "metadata": {},
   "outputs": [],
   "source": []
  },
  {
   "cell_type": "code",
   "execution_count": null,
   "id": "ffd243bb-4fff-41f2-8cbc-41f94cd20178",
   "metadata": {},
   "outputs": [],
   "source": []
  },
  {
   "cell_type": "code",
   "execution_count": null,
   "id": "c414b0a2-81c1-47bb-b395-88580b78824c",
   "metadata": {},
   "outputs": [],
   "source": []
  },
  {
   "cell_type": "code",
   "execution_count": null,
   "id": "9e6b3e68-6f0d-4751-8225-43b2e4e6a490",
   "metadata": {},
   "outputs": [],
   "source": []
  },
  {
   "cell_type": "code",
   "execution_count": null,
   "id": "0fb90edd-e37c-48d5-9989-9d037adb5a43",
   "metadata": {},
   "outputs": [],
   "source": []
  },
  {
   "cell_type": "code",
   "execution_count": null,
   "id": "ef0eb4f4-6a4d-475c-beff-bc47c6b9fd59",
   "metadata": {},
   "outputs": [],
   "source": []
  },
  {
   "cell_type": "code",
   "execution_count": null,
   "id": "fc9d93f8-bd36-429f-898e-ddd995b846f8",
   "metadata": {},
   "outputs": [],
   "source": []
  },
  {
   "cell_type": "code",
   "execution_count": null,
   "id": "54773f30-67ab-4233-9656-ffe9cde1d763",
   "metadata": {},
   "outputs": [],
   "source": []
  },
  {
   "cell_type": "code",
   "execution_count": null,
   "id": "27b5f15e-7e7e-4cef-b050-876743ebdd91",
   "metadata": {},
   "outputs": [],
   "source": []
  },
  {
   "cell_type": "code",
   "execution_count": null,
   "id": "1cd6ecfd-efe3-4cc3-adb6-54fa0b98240b",
   "metadata": {},
   "outputs": [],
   "source": []
  },
  {
   "cell_type": "code",
   "execution_count": null,
   "id": "5b8a2c26-fec9-4042-9dde-e4c6b9b26dd7",
   "metadata": {},
   "outputs": [],
   "source": []
  },
  {
   "cell_type": "code",
   "execution_count": null,
   "id": "92d9c3d6-ddfc-4e04-a8ef-67a3d5f0fe0d",
   "metadata": {},
   "outputs": [],
   "source": []
  }
 ],
 "metadata": {
  "kernelspec": {
   "display_name": "pydatavenv",
   "language": "python",
   "name": "pydatavenv"
  },
  "language_info": {
   "codemirror_mode": {
    "name": "ipython",
    "version": 3
   },
   "file_extension": ".py",
   "mimetype": "text/x-python",
   "name": "python",
   "nbconvert_exporter": "python",
   "pygments_lexer": "ipython3",
   "version": "3.8.12"
  }
 },
 "nbformat": 4,
 "nbformat_minor": 5
}
