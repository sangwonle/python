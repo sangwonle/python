{
 "cells": [
  {
   "cell_type": "code",
   "execution_count": null,
   "id": "e08cdbe6-cbe8-423e-bd5b-b220002d2edb",
   "metadata": {
    "tags": []
   },
   "outputs": [],
   "source": [
    "import urllib.request\n",
    "import urllib.parse\n",
    "\n",
    "params = urllib.parse.urlencode({'category':'역사', 'page': 100})\n",
    "url = 'http://unico2013.dothome.co.kr/crawling/exercise.php?%s' % params\n",
    "print(url)\n",
    "r = urllib.request.urlopen(url)\n",
    "\n",
    "print(r.read().decode('utf-8'))\n"
   ]
  },
  {
   "cell_type": "code",
   "execution_count": null,
   "id": "f2c041cc-37ab-418b-b030-c9ce45cbd9cf",
   "metadata": {
    "tags": []
   },
   "outputs": [],
   "source": [
    "import requests\n",
    "\n",
    "dicdata = {'category':'둘리', 'page': 100}\n",
    "urlstr = 'http://unico2013.dothome.co.kr/crawling/exercise.php'\n",
    "r = requests.get(urlstr, params=dicdata)\n",
    "r.encoding = 'utf-8'\n",
    "print(r.url)\n",
    "print(r.text)               \n",
    "                   "
   ]
  },
  {
   "cell_type": "code",
   "execution_count": null,
   "id": "03922888-8253-4aa8-9427-4f9bc7233f70",
   "metadata": {},
   "outputs": [],
   "source": [
    "import requests\n",
    "from bs4 import BeautifulSoup\n",
    "import re\n",
    "import pandas as pd\n",
    "\n",
    "req = 'http://media.daum.net/ranking/popular/'\n",
    "r = requests.get(req)\n",
    "bs = BeautifulSoup(r.text, 'html.parser')\n",
    "\n",
    "title_list = bs.select('.tit_thumb > .link_txt')\n",
    "title_sub_list = bs.select('.tit_thumb > .info_news')\n",
    "new_title = []\n",
    "new_sub_title = []\n",
    "\n",
    "\n",
    "for new_dom in title_list:\n",
    "    new_title.append(new_dom.text)\n",
    "    \n",
    "for new_dom in title_sub_list:\n",
    "    new_sub_title.append(new_dom.text)\n",
    "\n",
    "\n",
    "with open('output/news.csv', \"wt\", encoding=\"utf-8\") as f:\n",
    "    f.write('news_title,news_sub_title\\n')\n",
    "    for i in range(50):\n",
    "        print(new_title[i] + ' - ' + new_sub_title[i])\n",
    "        f.write(new_title[i]+\",\"+new_sub_title[i]+'\\n') \n",
    "\n"
   ]
  },
  {
   "cell_type": "code",
   "execution_count": null,
   "id": "56cdd9a9-38c6-4fa8-8017-3944ccae2ed9",
   "metadata": {},
   "outputs": [],
   "source": []
  },
  {
   "cell_type": "code",
   "execution_count": null,
   "id": "d82fa4d5-b353-4abc-9dbb-4dd384e1c8b3",
   "metadata": {},
   "outputs": [],
   "source": []
  },
  {
   "cell_type": "code",
   "execution_count": null,
   "id": "6a5d9721-0057-4cbb-9417-49740c53fdb5",
   "metadata": {},
   "outputs": [],
   "source": []
  }
 ],
 "metadata": {
  "kernelspec": {
   "display_name": "pydatavenv",
   "language": "python",
   "name": "pydatavenv"
  },
  "language_info": {
   "codemirror_mode": {
    "name": "ipython",
    "version": 3
   },
   "file_extension": ".py",
   "mimetype": "text/x-python",
   "name": "python",
   "nbconvert_exporter": "python",
   "pygments_lexer": "ipython3",
   "version": "3.8.12"
  },
  "toc-showcode": true
 },
 "nbformat": 4,
 "nbformat_minor": 5
}
