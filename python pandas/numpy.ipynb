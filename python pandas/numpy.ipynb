{
 "cells": [
  {
   "cell_type": "code",
   "execution_count": 1,
   "id": "415985f4",
   "metadata": {},
   "outputs": [],
   "source": [
    "# numpy 관련\n",
    "import numpy as np"
   ]
  },
  {
   "cell_type": "code",
   "execution_count": 17,
   "id": "305f53c1",
   "metadata": {},
   "outputs": [
    {
     "name": "stdout",
     "output_type": "stream",
     "text": [
      "[ 0  1  2  3  4  5  6  7  8  9 10 11 12 13 14] <class 'numpy.ndarray'>\n",
      "[[ 0  1  2  3  4]\n",
      " [ 5  6  7  8  9]\n",
      " [10 11 12 13 14]] 2\n",
      "(3, 5) 15 int64\n",
      "8\n"
     ]
    }
   ],
   "source": [
    "arr = np.arange(15)\n",
    "print(arr, type(arr)) # array \n",
    "arr = arr.reshape(3,5) # reshape: 배열 재정의\n",
    "print(arr, arr.ndim) # ndim 몇 차원인지\n",
    "print(arr.shape, arr.size, arr.dtype.name) # shape(3 * 5)\n",
    "print(arr.dtype.itemsize) # 데이터의 저장 공간 사이즈 : 4byte"
   ]
  },
  {
   "cell_type": "code",
   "execution_count": 26,
   "id": "54d7c524",
   "metadata": {},
   "outputs": [
    {
     "name": "stdout",
     "output_type": "stream",
     "text": [
      "[[-5.  -4.5 -4.  -3.5 -3. ]\n",
      " [-2.5 -2.  -1.5 -1.  -0.5]\n",
      " [ 0.   0.5  1.   1.5  2. ]\n",
      " [ 2.5  3.   3.5  4.   4.5]]\n"
     ]
    },
    {
     "data": {
      "text/plain": [
       "1"
      ]
     },
     "execution_count": 26,
     "metadata": {},
     "output_type": "execute_result"
    }
   ],
   "source": [
    "arr = np.arange(-5,5,0.5)\n",
    "arr = arr.reshape(4, int(arr.size / 4))\n",
    "print(arr)\n",
    "arr1 = arr.flatten() # 다차원을 1차원으로 변형\n",
    "arr1.ndim"
   ]
  },
  {
   "cell_type": "code",
   "execution_count": 36,
   "id": "157b2167",
   "metadata": {},
   "outputs": [
    {
     "name": "stdout",
     "output_type": "stream",
     "text": [
      "list_a : [1 2 3 4], list_a의 type : <class 'numpy.ndarray'>\n",
      "list_b : [[1 2 3]\n",
      " [4 5 6]], list_b의 type : <class 'numpy.ndarray'>\n",
      "list_a dim : 1, list_a의 shape : (4,)\n",
      "list_b dim : 2, list_b의 shape : (2, 3)\n",
      "list_a의 size 4, list_a의 dtype int64\n"
     ]
    }
   ],
   "source": [
    "# 기존의 파이썬 리스트로 array 생성\n",
    "\n",
    "list_a = np.array([1,2,3,4]) \n",
    "list_b = np.array([[1,2,3], [4,5,6]])\n",
    "print('list_a : {}, list_a의 type : {}'.format(list_a, type(list_a)))\n",
    "print('list_b : {}, list_b의 type : {}'.format(list_b, type(list_b)))\n",
    "print('list_a dim : {}, list_a의 shape : {}'.format(list_a.ndim, list_a.shape))\n",
    "print('list_b dim : {}, list_b의 shape : {}'.format(list_b.ndim, list_b.shape))\n",
    "print('list_a의 size {}, list_a의 dtype {}'.format(list_a.size, list_a.dtype))\n",
    "\n",
    "\n",
    "\n"
   ]
  },
  {
   "cell_type": "code",
   "execution_count": null,
   "id": "e479aef1",
   "metadata": {},
   "outputs": [],
   "source": [
    "# np.arange([start], stop, [step])\n",
    "# np.array.reshape(차수, ...), np.flatten() 1차원으로 변경\n",
    "# np.ndim, np.shape, np.dype, np.dtpye.name, np.size"
   ]
  },
  {
   "cell_type": "code",
   "execution_count": null,
   "id": "dc90453e",
   "metadata": {},
   "outputs": [],
   "source": []
  },
  {
   "cell_type": "code",
   "execution_count": null,
   "id": "a1331371",
   "metadata": {},
   "outputs": [],
   "source": []
  },
  {
   "cell_type": "code",
   "execution_count": null,
   "id": "117c2b9e",
   "metadata": {},
   "outputs": [],
   "source": []
  }
 ],
 "metadata": {
  "kernelspec": {
   "display_name": "Python 3 (ipykernel)",
   "language": "python",
   "name": "python3"
  },
  "language_info": {
   "codemirror_mode": {
    "name": "ipython",
    "version": 3
   },
   "file_extension": ".py",
   "mimetype": "text/x-python",
   "name": "python",
   "nbconvert_exporter": "python",
   "pygments_lexer": "ipython3",
   "version": "3.9.7"
  }
 },
 "nbformat": 4,
 "nbformat_minor": 5
}
