{
 "cells": [
  {
   "cell_type": "code",
   "execution_count": 50,
   "id": "718c2ac4",
   "metadata": {},
   "outputs": [
    {
     "name": "stdout",
     "output_type": "stream",
     "text": [
      "   이름   수학  영어\n",
      "0  서준   90  98\n",
      "1  우현   90  99\n",
      "2  인아  100  88\n",
      "0\n",
      "1\n",
      "2\n",
      "     수학  영어\n",
      "이름         \n",
      "서준   90  98\n",
      "우현   90  99\n",
      "인아  100  88\n"
     ]
    }
   ],
   "source": [
    "# 데이터프레임의 행과 열을 바꿈 ; 전체 행렬\n",
    "\n",
    "import pandas as pd\n",
    "\n",
    "exam_data = {\n",
    "    '이름' : ['서준', '우현', '인아'],\n",
    "    '수학' : [90, 90, 100],\n",
    "    '영어' : [98, 99, 88]\n",
    "}\n",
    "\n",
    "df = pd.DataFrame(exam_data)\n",
    "print(df)\n",
    "\n",
    "\n",
    "df.set_index('이름', inplace=True)\n",
    "print(df)"
   ]
  },
  {
   "cell_type": "code",
   "execution_count": 5,
   "id": "a2d53722",
   "metadata": {},
   "outputs": [
    {
     "name": "stdout",
     "output_type": "stream",
     "text": [
      "     0   1    2\n",
      "이름  서준  우현   인아\n",
      "수학  90  90  100\n",
      "영어  98  99   88\n"
     ]
    }
   ],
   "source": [
    "df = df.T\n",
    "print(df)"
   ]
  },
  {
   "cell_type": "code",
   "execution_count": 32,
   "id": "a36bb648",
   "metadata": {},
   "outputs": [
    {
     "data": {
      "text/html": [
       "<div>\n",
       "<style scoped>\n",
       "    .dataframe tbody tr th:only-of-type {\n",
       "        vertical-align: middle;\n",
       "    }\n",
       "\n",
       "    .dataframe tbody tr th {\n",
       "        vertical-align: top;\n",
       "    }\n",
       "\n",
       "    .dataframe thead th {\n",
       "        text-align: right;\n",
       "    }\n",
       "</style>\n",
       "<table border=\"1\" class=\"dataframe\">\n",
       "  <thead>\n",
       "    <tr style=\"text-align: right;\">\n",
       "      <th></th>\n",
       "      <th>c0</th>\n",
       "      <th>c1</th>\n",
       "      <th>c2</th>\n",
       "      <th>c3</th>\n",
       "    </tr>\n",
       "  </thead>\n",
       "  <tbody>\n",
       "    <tr>\n",
       "      <th>r1</th>\n",
       "      <td>1</td>\n",
       "      <td>4</td>\n",
       "      <td>7</td>\n",
       "      <td>10</td>\n",
       "    </tr>\n",
       "    <tr>\n",
       "      <th>r2</th>\n",
       "      <td>2</td>\n",
       "      <td>5</td>\n",
       "      <td>8</td>\n",
       "      <td>11</td>\n",
       "    </tr>\n",
       "    <tr>\n",
       "      <th>r3</th>\n",
       "      <td>3</td>\n",
       "      <td>6</td>\n",
       "      <td>9</td>\n",
       "      <td>12</td>\n",
       "    </tr>\n",
       "  </tbody>\n",
       "</table>\n",
       "</div>"
      ],
      "text/plain": [
       "    c0  c1  c2  c3\n",
       "r1   1   4   7  10\n",
       "r2   2   5   8  11\n",
       "r3   3   6   9  12"
      ]
     },
     "execution_count": 32,
     "metadata": {},
     "output_type": "execute_result"
    }
   ],
   "source": [
    "# reindex(새로운 인덱스 배열) : 기졵의 자료 변경 안함, 새로운 데이터프레임 반환\n",
    "\n",
    "dict_data = {\n",
    "    'c0': [1,2,3], 'c1': [4,5,6], 'c2': [7,8,9], 'c3': [10,11,12]}\n",
    "\n",
    "df = pd.DataFrame(dict_data, index = ['r1', 'r2', 'r3'])\n",
    "df"
   ]
  },
  {
   "cell_type": "code",
   "execution_count": 25,
   "id": "b8581988",
   "metadata": {},
   "outputs": [
    {
     "name": "stdout",
     "output_type": "stream",
     "text": [
      "     c0   c1   c2    c3\n",
      "r0  NaN  NaN  NaN   NaN\n",
      "r1  1.0  4.0  7.0  10.0\n",
      "r2  2.0  5.0  8.0  11.0\n",
      "r3  3.0  6.0  9.0  12.0\n",
      "r4  NaN  NaN  NaN   NaN\n"
     ]
    },
    {
     "data": {
      "text/html": [
       "<div>\n",
       "<style scoped>\n",
       "    .dataframe tbody tr th:only-of-type {\n",
       "        vertical-align: middle;\n",
       "    }\n",
       "\n",
       "    .dataframe tbody tr th {\n",
       "        vertical-align: top;\n",
       "    }\n",
       "\n",
       "    .dataframe thead th {\n",
       "        text-align: right;\n",
       "    }\n",
       "</style>\n",
       "<table border=\"1\" class=\"dataframe\">\n",
       "  <thead>\n",
       "    <tr style=\"text-align: right;\">\n",
       "      <th></th>\n",
       "      <th>c0</th>\n",
       "      <th>c1</th>\n",
       "      <th>c2</th>\n",
       "      <th>c3</th>\n",
       "    </tr>\n",
       "  </thead>\n",
       "  <tbody>\n",
       "    <tr>\n",
       "      <th>r0</th>\n",
       "      <td>1.0</td>\n",
       "      <td>4.0</td>\n",
       "      <td>7.0</td>\n",
       "      <td>10.0</td>\n",
       "    </tr>\n",
       "    <tr>\n",
       "      <th>r1</th>\n",
       "      <td>1.0</td>\n",
       "      <td>4.0</td>\n",
       "      <td>7.0</td>\n",
       "      <td>10.0</td>\n",
       "    </tr>\n",
       "    <tr>\n",
       "      <th>r2</th>\n",
       "      <td>2.0</td>\n",
       "      <td>5.0</td>\n",
       "      <td>8.0</td>\n",
       "      <td>11.0</td>\n",
       "    </tr>\n",
       "    <tr>\n",
       "      <th>r3</th>\n",
       "      <td>3.0</td>\n",
       "      <td>6.0</td>\n",
       "      <td>9.0</td>\n",
       "      <td>12.0</td>\n",
       "    </tr>\n",
       "    <tr>\n",
       "      <th>r4</th>\n",
       "      <td>NaN</td>\n",
       "      <td>NaN</td>\n",
       "      <td>NaN</td>\n",
       "      <td>NaN</td>\n",
       "    </tr>\n",
       "  </tbody>\n",
       "</table>\n",
       "</div>"
      ],
      "text/plain": [
       "     c0   c1   c2    c3\n",
       "r0  1.0  4.0  7.0  10.0\n",
       "r1  1.0  4.0  7.0  10.0\n",
       "r2  2.0  5.0  8.0  11.0\n",
       "r3  3.0  6.0  9.0  12.0\n",
       "r4  NaN  NaN  NaN   NaN"
      ]
     },
     "execution_count": 25,
     "metadata": {},
     "output_type": "execute_result"
    }
   ],
   "source": [
    "# index를 ['r0','r1','r2','r3','r4']\n",
    "\n",
    "new_index = ['r0','r1','r2','r3','r4']\n",
    "ndf = df.reindex(new_index) # 존재하지 않는 인덱스의 값은 Nan으로 채워 짐\n",
    "print(ndf)\n",
    "\n",
    "# 존재하지 않는 인덱스의 값은 0으로 채워 줌\n",
    "ndf1 = df.reindex(new_index, fill_value = 0)\n",
    "ndf1\n",
    "\n",
    "# method -> ffill 이전자료 복사(front, bfill : 이후 자료 복사(back)\n",
    "ndf2 = df.reindex(new_index, method = 'bfill')\n",
    "ndf2"
   ]
  },
  {
   "cell_type": "code",
   "execution_count": 38,
   "id": "5de97824",
   "metadata": {},
   "outputs": [
    {
     "name": "stdout",
     "output_type": "stream",
     "text": [
      "    c0  c1  c2  c3\n",
      "r1   1   4   7  10\n",
      "r2   2   5   8  11\n",
      "r3   3   6   9  12\n",
      "  index  c0  c1  c2  c3\n",
      "0    r1   1   4   7  10\n",
      "1    r2   2   5   8  11\n",
      "2    r3   3   6   9  12\n"
     ]
    },
    {
     "data": {
      "text/html": [
       "<div>\n",
       "<style scoped>\n",
       "    .dataframe tbody tr th:only-of-type {\n",
       "        vertical-align: middle;\n",
       "    }\n",
       "\n",
       "    .dataframe tbody tr th {\n",
       "        vertical-align: top;\n",
       "    }\n",
       "\n",
       "    .dataframe thead th {\n",
       "        text-align: right;\n",
       "    }\n",
       "</style>\n",
       "<table border=\"1\" class=\"dataframe\">\n",
       "  <thead>\n",
       "    <tr style=\"text-align: right;\">\n",
       "      <th></th>\n",
       "      <th>c0</th>\n",
       "      <th>c1</th>\n",
       "      <th>c2</th>\n",
       "      <th>c3</th>\n",
       "    </tr>\n",
       "  </thead>\n",
       "  <tbody>\n",
       "    <tr>\n",
       "      <th>r1</th>\n",
       "      <td>1</td>\n",
       "      <td>4</td>\n",
       "      <td>7</td>\n",
       "      <td>10</td>\n",
       "    </tr>\n",
       "    <tr>\n",
       "      <th>r2</th>\n",
       "      <td>2</td>\n",
       "      <td>5</td>\n",
       "      <td>8</td>\n",
       "      <td>11</td>\n",
       "    </tr>\n",
       "    <tr>\n",
       "      <th>r3</th>\n",
       "      <td>3</td>\n",
       "      <td>6</td>\n",
       "      <td>9</td>\n",
       "      <td>12</td>\n",
       "    </tr>\n",
       "  </tbody>\n",
       "</table>\n",
       "</div>"
      ],
      "text/plain": [
       "    c0  c1  c2  c3\n",
       "r1   1   4   7  10\n",
       "r2   2   5   8  11\n",
       "r3   3   6   9  12"
      ]
     },
     "execution_count": 38,
     "metadata": {},
     "output_type": "execute_result"
    }
   ],
   "source": [
    "# reset_index() : 인덱스 초기화\n",
    "\n",
    "print(df)\n",
    "print(df.reset_index()) # 기존의 인덱스가 컬럼으로 변환, 인덱스 초기화\n",
    "df.reset_index(drop=True) # 기존의 인덱스을 삭제, 인덱스 초기화\n",
    "df"
   ]
  },
  {
   "cell_type": "code",
   "execution_count": 41,
   "id": "dcb0fe6a",
   "metadata": {},
   "outputs": [
    {
     "data": {
      "text/html": [
       "<div>\n",
       "<style scoped>\n",
       "    .dataframe tbody tr th:only-of-type {\n",
       "        vertical-align: middle;\n",
       "    }\n",
       "\n",
       "    .dataframe tbody tr th {\n",
       "        vertical-align: top;\n",
       "    }\n",
       "\n",
       "    .dataframe thead th {\n",
       "        text-align: right;\n",
       "    }\n",
       "</style>\n",
       "<table border=\"1\" class=\"dataframe\">\n",
       "  <thead>\n",
       "    <tr style=\"text-align: right;\">\n",
       "      <th></th>\n",
       "      <th>c0</th>\n",
       "      <th>c1</th>\n",
       "      <th>c2</th>\n",
       "      <th>c3</th>\n",
       "    </tr>\n",
       "  </thead>\n",
       "  <tbody>\n",
       "    <tr>\n",
       "      <th>r3</th>\n",
       "      <td>3</td>\n",
       "      <td>6</td>\n",
       "      <td>9</td>\n",
       "      <td>12</td>\n",
       "    </tr>\n",
       "    <tr>\n",
       "      <th>r2</th>\n",
       "      <td>2</td>\n",
       "      <td>5</td>\n",
       "      <td>8</td>\n",
       "      <td>11</td>\n",
       "    </tr>\n",
       "    <tr>\n",
       "      <th>r1</th>\n",
       "      <td>1</td>\n",
       "      <td>4</td>\n",
       "      <td>7</td>\n",
       "      <td>10</td>\n",
       "    </tr>\n",
       "  </tbody>\n",
       "</table>\n",
       "</div>"
      ],
      "text/plain": [
       "    c0  c1  c2  c3\n",
       "r3   3   6   9  12\n",
       "r2   2   5   8  11\n",
       "r1   1   4   7  10"
      ]
     },
     "execution_count": 41,
     "metadata": {},
     "output_type": "execute_result"
    }
   ],
   "source": [
    "# 인덱스를 기준으로 정렬\n",
    "df.sort_index(ascending=False) # ascending = True 로 설정되어 있음\n"
   ]
  },
  {
   "cell_type": "code",
   "execution_count": 45,
   "id": "84e7798e",
   "metadata": {},
   "outputs": [
    {
     "data": {
      "text/html": [
       "<div>\n",
       "<style scoped>\n",
       "    .dataframe tbody tr th:only-of-type {\n",
       "        vertical-align: middle;\n",
       "    }\n",
       "\n",
       "    .dataframe tbody tr th {\n",
       "        vertical-align: top;\n",
       "    }\n",
       "\n",
       "    .dataframe thead th {\n",
       "        text-align: right;\n",
       "    }\n",
       "</style>\n",
       "<table border=\"1\" class=\"dataframe\">\n",
       "  <thead>\n",
       "    <tr style=\"text-align: right;\">\n",
       "      <th></th>\n",
       "      <th>c0</th>\n",
       "      <th>c1</th>\n",
       "      <th>c2</th>\n",
       "      <th>c3</th>\n",
       "    </tr>\n",
       "  </thead>\n",
       "  <tbody>\n",
       "    <tr>\n",
       "      <th>r3</th>\n",
       "      <td>3</td>\n",
       "      <td>6</td>\n",
       "      <td>9</td>\n",
       "      <td>12</td>\n",
       "    </tr>\n",
       "    <tr>\n",
       "      <th>r1</th>\n",
       "      <td>2</td>\n",
       "      <td>9</td>\n",
       "      <td>14</td>\n",
       "      <td>10</td>\n",
       "    </tr>\n",
       "    <tr>\n",
       "      <th>r2</th>\n",
       "      <td>2</td>\n",
       "      <td>5</td>\n",
       "      <td>8</td>\n",
       "      <td>11</td>\n",
       "    </tr>\n",
       "  </tbody>\n",
       "</table>\n",
       "</div>"
      ],
      "text/plain": [
       "    c0  c1  c2  c3\n",
       "r3   3   6   9  12\n",
       "r1   2   9  14  10\n",
       "r2   2   5   8  11"
      ]
     },
     "execution_count": 45,
     "metadata": {},
     "output_type": "execute_result"
    }
   ],
   "source": [
    "# 컬럼을 기준으로 정렬\n",
    "df.loc['r1', 'c0'] = 2\n",
    "df.loc['r1', 'c2'] = 14\n",
    "df.sort_values(by = ['c0', 'c1'], ascending=False)"
   ]
  },
  {
   "cell_type": "code",
   "execution_count": 47,
   "id": "c05c62cc",
   "metadata": {},
   "outputs": [],
   "source": [
    "# 인덱스를 설정 df.index = []\n",
    "# 컬럼명을 설정 df.columns = []\n",
    "# 인덱스의 이름을 변경 df.rename({기존 인덱스 : 새로운 인덱스, ...}, inplace=)\n",
    "# 컬럼명을 변경 df.rename({기존컬럼: 새로운 컬럼}, inplace=)\n",
    "# 인덱스를 삭제 df.drop([인덱스명], axis = 0)\n",
    "# 새로운 인덱스 이름 부여 : ndf = df.reindex(new_index, [fill.value], method=)\n",
    "# 인덱스 제거 df.reset_index([drop=Ture]) 인덱스를 컬럼으로 변환 하지 않음\n",
    "# 인덱스 기준으로 정렬 df.sort_index([acending])\n",
    "# 컬럼 기준으로 정렬 df.sort_values(by = [컬럼명])\n",
    "\n",
    "\n"
   ]
  },
  {
   "cell_type": "code",
   "execution_count": null,
   "id": "1095cf63",
   "metadata": {},
   "outputs": [],
   "source": [
    "# 시리즈 연상 : 시리즈 + * / - 사칙연산 가능\n",
    "# 1. 인덱스로 정렬\n",
    "# 2. 매칭되는 값에 대해 연산, Nan이 있으면 결과는 Nan\n",
    "# 3. 결과 리턴 -> 인덱스로 정렬된 상태\n",
    "\n"
   ]
  },
  {
   "cell_type": "code",
   "execution_count": 56,
   "id": "18562d46",
   "metadata": {},
   "outputs": [
    {
     "name": "stdout",
     "output_type": "stream",
     "text": [
      "국어    100\n",
      "수학     90\n",
      "영어     90\n",
      "dtype: int64\n",
      "국어    200\n",
      "수학    190\n",
      "영어    190\n",
      "dtype: int64\n",
      "국어    1.0\n",
      "수학    0.9\n",
      "영어    0.9\n",
      "dtype: float64\n",
      "국어    50\n",
      "수학    40\n",
      "영어    40\n",
      "dtype: int64\n"
     ]
    }
   ],
   "source": [
    "student = pd.Series({'국어': 100, '수학': 90, '영어': 90})\n",
    "\n",
    "print(student)\n",
    "\n",
    "print(student + 100)\n",
    "print(student / 100)\n",
    "print(student - 50)"
   ]
  },
  {
   "cell_type": "code",
   "execution_count": 60,
   "id": "7f904a04",
   "metadata": {},
   "outputs": [
    {
     "name": "stdout",
     "output_type": "stream",
     "text": [
      "과학      NaN\n",
      "국어    190.0\n",
      "수학    190.0\n",
      "영어    180.0\n",
      "dtype: float64\n"
     ]
    }
   ],
   "source": [
    "# 시리즈 연산\n",
    "student1 = pd.Series({'국어': 100, '수학': 90, '영어': 90})\n",
    "student2 = pd.Series({'수학': 100, '국어': 90, '영어': 90, '과학': 88})\n",
    "\n",
    "print(student1 + student2)"
   ]
  },
  {
   "cell_type": "code",
   "execution_count": 61,
   "id": "c8e112a9",
   "metadata": {},
   "outputs": [
    {
     "name": "stdout",
     "output_type": "stream",
     "text": [
      "과학      NaN\n",
      "국어      NaN\n",
      "수학    190.0\n",
      "영어    180.0\n",
      "dtype: float64\n"
     ]
    }
   ],
   "source": [
    "# 시리즈 연산\n",
    "import numpy as np\n",
    "student1 = pd.Series({'국어': np.nan, '수학': 90, '영어': 90})\n",
    "student2 = pd.Series({'수학': 100, '국어': 90, '영어': 90, '과학': 88})\n",
    "\n",
    "print(student1 + student2)"
   ]
  },
  {
   "cell_type": "code",
   "execution_count": 64,
   "id": "d1338904",
   "metadata": {},
   "outputs": [
    {
     "name": "stdout",
     "output_type": "stream",
     "text": [
      "과학     88.0\n",
      "국어     90.0\n",
      "수학    190.0\n",
      "영어    180.0\n",
      "dtype: float64\n",
      "과학   -88.0\n",
      "국어   -90.0\n",
      "수학   -10.0\n",
      "영어     0.0\n",
      "dtype: float64\n",
      "과학       0.0\n",
      "국어       0.0\n",
      "수학    9000.0\n",
      "영어    8100.0\n",
      "dtype: float64\n",
      "과학    0.0\n",
      "국어    0.0\n",
      "수학    0.9\n",
      "영어    1.0\n",
      "dtype: float64\n"
     ]
    }
   ],
   "source": [
    "# 시리즈 연산 메서드 : 시리즈.add(시리즈1, fill_value=0)\n",
    "print(student1.add(student2, fill_value=0))\n",
    "print(student1.sub(student2, fill_value=0))\n",
    "print(student1.mul(student2, fill_value=0))\n",
    "print(student1.div(student2, fill_value=0))"
   ]
  },
  {
   "cell_type": "code",
   "execution_count": 66,
   "id": "24154f44",
   "metadata": {},
   "outputs": [],
   "source": [
    "# 데이터프레임 연산(+,-,*,/)\n",
    "# seaborn에서 dataset 가져오기\n",
    "import seaborn as sns"
   ]
  },
  {
   "cell_type": "code",
   "execution_count": 76,
   "id": "3724e7ac",
   "metadata": {},
   "outputs": [],
   "source": [
    "titanic = sns.load_dataset('titanic')\n",
    "titanic.head()# haed는 5프레이만 보여줌\n",
    "titanic.columns # age, fare 컬럼의 자료만 검색\n",
    "df = titanic.loc[:, ['age', 'fare']]"
   ]
  },
  {
   "cell_type": "code",
   "execution_count": 77,
   "id": "b8427ec6",
   "metadata": {},
   "outputs": [
    {
     "name": "stdout",
     "output_type": "stream",
     "text": [
      "    age     fare\n",
      "0  22.0   7.2500\n",
      "1  38.0  71.2833\n",
      "2  26.0   7.9250\n",
      "3  35.0  53.1000\n",
      "4  35.0   8.0500 \n",
      "\n",
      "     age     fare\n",
      "0  32.0  17.2500\n",
      "1  48.0  81.2833\n",
      "2  36.0  17.9250\n",
      "3  45.0  63.1000\n",
      "4  45.0  18.0500\n"
     ]
    }
   ],
   "source": [
    "print(df.head(),'\\n\\n', (df + 10).head())"
   ]
  },
  {
   "cell_type": "code",
   "execution_count": 78,
   "id": "1d27942f",
   "metadata": {},
   "outputs": [
    {
     "name": "stdout",
     "output_type": "stream",
     "text": [
      "    age     fare\n",
      "0  22.0   7.2500\n",
      "1  38.0  71.2833\n",
      "2  26.0   7.9250\n",
      "3  35.0  53.1000\n",
      "4  35.0   8.0500 \n",
      "\n",
      "       age   fare\n",
      "886  37.0  23.00\n",
      "887  29.0  40.00\n",
      "888   NaN  33.45\n",
      "889  36.0  40.00\n",
      "890  42.0  17.75\n"
     ]
    }
   ],
   "source": [
    "print(df.head(),'\\n\\n', (df + 10).tail())"
   ]
  },
  {
   "cell_type": "code",
   "execution_count": 85,
   "id": "35bdc03c",
   "metadata": {},
   "outputs": [
    {
     "data": {
      "text/html": [
       "<div>\n",
       "<style scoped>\n",
       "    .dataframe tbody tr th:only-of-type {\n",
       "        vertical-align: middle;\n",
       "    }\n",
       "\n",
       "    .dataframe tbody tr th {\n",
       "        vertical-align: top;\n",
       "    }\n",
       "\n",
       "    .dataframe thead th {\n",
       "        text-align: right;\n",
       "    }\n",
       "</style>\n",
       "<table border=\"1\" class=\"dataframe\">\n",
       "  <thead>\n",
       "    <tr style=\"text-align: right;\">\n",
       "      <th></th>\n",
       "      <th>age</th>\n",
       "      <th>fare</th>\n",
       "    </tr>\n",
       "  </thead>\n",
       "  <tbody>\n",
       "    <tr>\n",
       "      <th>886</th>\n",
       "      <td>27.0</td>\n",
       "      <td>13.00</td>\n",
       "    </tr>\n",
       "    <tr>\n",
       "      <th>887</th>\n",
       "      <td>19.0</td>\n",
       "      <td>30.00</td>\n",
       "    </tr>\n",
       "    <tr>\n",
       "      <th>888</th>\n",
       "      <td>0.0</td>\n",
       "      <td>23.45</td>\n",
       "    </tr>\n",
       "    <tr>\n",
       "      <th>889</th>\n",
       "      <td>26.0</td>\n",
       "      <td>30.00</td>\n",
       "    </tr>\n",
       "    <tr>\n",
       "      <th>890</th>\n",
       "      <td>32.0</td>\n",
       "      <td>7.75</td>\n",
       "    </tr>\n",
       "  </tbody>\n",
       "</table>\n",
       "</div>"
      ],
      "text/plain": [
       "      age   fare\n",
       "886  27.0  13.00\n",
       "887  19.0  30.00\n",
       "888   0.0  23.45\n",
       "889  26.0  30.00\n",
       "890  32.0   7.75"
      ]
     },
     "execution_count": 85,
     "metadata": {},
     "output_type": "execute_result"
    }
   ],
   "source": [
    "add_df = df.add(0, fill_value=0)\n",
    "add_df.tail()"
   ]
  },
  {
   "cell_type": "code",
   "execution_count": null,
   "id": "06023aff",
   "metadata": {},
   "outputs": [],
   "source": [
    "# seaborn 에서 titaic 데이터셋 자료를 가져와서\n",
    "# 'clss', 'sex', 'age', 'alive' 컬럼과  0행부터 100행까지만 자료가지고 올 것\n",
    "# df에 저장"
   ]
  },
  {
   "cell_type": "code",
   "execution_count": 116,
   "id": "8361c764",
   "metadata": {},
   "outputs": [
    {
     "name": "stdout",
     "output_type": "stream",
     "text": [
      "      class     sex   age alive\n",
      "0     Third    male  22.0    no\n",
      "1     First  female  38.0   yes\n",
      "2     Third  female  26.0   yes\n",
      "3     First  female  35.0   yes\n",
      "4     Third    male  35.0    no\n",
      "..      ...     ...   ...   ...\n",
      "96    First    male  71.0    no\n",
      "97    First    male  23.0   yes\n",
      "98   Second  female  34.0   yes\n",
      "99   Second    male  34.0    no\n",
      "100   Third  female  28.0    no\n",
      "\n",
      "[101 rows x 4 columns]\n",
      "           sex   age alive\n",
      "class                     \n",
      "Third     male  22.0    no\n",
      "First   female  38.0   yes\n",
      "Third   female  26.0   yes\n",
      "First   female  35.0   yes\n",
      "Third     male  35.0    no\n",
      "...        ...   ...   ...\n",
      "First     male  71.0    no\n",
      "First     male  23.0   yes\n",
      "Second  female  34.0   yes\n",
      "Second    male  34.0    no\n",
      "Third   female  28.0    no\n",
      "\n",
      "[101 rows x 3 columns]\n"
     ]
    },
    {
     "data": {
      "text/html": [
       "<div>\n",
       "<style scoped>\n",
       "    .dataframe tbody tr th:only-of-type {\n",
       "        vertical-align: middle;\n",
       "    }\n",
       "\n",
       "    .dataframe tbody tr th {\n",
       "        vertical-align: top;\n",
       "    }\n",
       "\n",
       "    .dataframe thead th {\n",
       "        text-align: right;\n",
       "    }\n",
       "</style>\n",
       "<table border=\"1\" class=\"dataframe\">\n",
       "  <thead>\n",
       "    <tr style=\"text-align: right;\">\n",
       "      <th></th>\n",
       "      <th>sex</th>\n",
       "      <th>age</th>\n",
       "      <th>alive</th>\n",
       "    </tr>\n",
       "    <tr>\n",
       "      <th>class</th>\n",
       "      <th></th>\n",
       "      <th></th>\n",
       "      <th></th>\n",
       "    </tr>\n",
       "  </thead>\n",
       "  <tbody>\n",
       "    <tr>\n",
       "      <th>First</th>\n",
       "      <td>female</td>\n",
       "      <td>NaN</td>\n",
       "      <td>yes</td>\n",
       "    </tr>\n",
       "    <tr>\n",
       "      <th>First</th>\n",
       "      <td>male</td>\n",
       "      <td>NaN</td>\n",
       "      <td>no</td>\n",
       "    </tr>\n",
       "    <tr>\n",
       "      <th>First</th>\n",
       "      <td>male</td>\n",
       "      <td>NaN</td>\n",
       "      <td>yes</td>\n",
       "    </tr>\n",
       "    <tr>\n",
       "      <th>First</th>\n",
       "      <td>male</td>\n",
       "      <td>65.0</td>\n",
       "      <td>no</td>\n",
       "    </tr>\n",
       "    <tr>\n",
       "      <th>First</th>\n",
       "      <td>female</td>\n",
       "      <td>49.0</td>\n",
       "      <td>yes</td>\n",
       "    </tr>\n",
       "  </tbody>\n",
       "</table>\n",
       "</div>"
      ],
      "text/plain": [
       "          sex   age alive\n",
       "class                    \n",
       "First  female   NaN   yes\n",
       "First    male   NaN    no\n",
       "First    male   NaN   yes\n",
       "First    male  65.0    no\n",
       "First  female  49.0   yes"
      ]
     },
     "execution_count": 116,
     "metadata": {},
     "output_type": "execute_result"
    }
   ],
   "source": [
    "df = titanic.loc[0 : 100, ['class', 'sex', 'age', 'alive']]\n",
    "# add_df1 = df.add(0, fill_value = 0)\n",
    "# print(add_df1)\n",
    "# print(df.head(20))\n",
    "print(df)\n",
    "df.set_index('class', inplace=True)\n",
    "print(df)\n",
    "df.sort_index().head()\n",
    "\n"
   ]
  },
  {
   "cell_type": "code",
   "execution_count": null,
   "id": "8a559442",
   "metadata": {},
   "outputs": [],
   "source": []
  },
  {
   "cell_type": "code",
   "execution_count": null,
   "id": "81e0fa00",
   "metadata": {},
   "outputs": [],
   "source": []
  },
  {
   "cell_type": "code",
   "execution_count": null,
   "id": "589ed94a",
   "metadata": {},
   "outputs": [],
   "source": []
  },
  {
   "cell_type": "code",
   "execution_count": null,
   "id": "0ca602b2",
   "metadata": {},
   "outputs": [],
   "source": []
  },
  {
   "cell_type": "code",
   "execution_count": null,
   "id": "65cccfa9",
   "metadata": {},
   "outputs": [],
   "source": []
  },
  {
   "cell_type": "code",
   "execution_count": null,
   "id": "241fb196",
   "metadata": {},
   "outputs": [],
   "source": []
  },
  {
   "cell_type": "code",
   "execution_count": null,
   "id": "580aa511",
   "metadata": {},
   "outputs": [],
   "source": []
  },
  {
   "cell_type": "code",
   "execution_count": null,
   "id": "20ac78f1",
   "metadata": {},
   "outputs": [],
   "source": []
  },
  {
   "cell_type": "code",
   "execution_count": null,
   "id": "061c30f8",
   "metadata": {},
   "outputs": [],
   "source": []
  },
  {
   "cell_type": "code",
   "execution_count": null,
   "id": "1ca8384d",
   "metadata": {},
   "outputs": [],
   "source": []
  },
  {
   "cell_type": "code",
   "execution_count": null,
   "id": "5c643d67",
   "metadata": {},
   "outputs": [],
   "source": []
  },
  {
   "cell_type": "code",
   "execution_count": null,
   "id": "419b044e",
   "metadata": {},
   "outputs": [],
   "source": []
  },
  {
   "cell_type": "code",
   "execution_count": null,
   "id": "101b1f32",
   "metadata": {},
   "outputs": [],
   "source": []
  },
  {
   "cell_type": "code",
   "execution_count": null,
   "id": "2236e16f",
   "metadata": {},
   "outputs": [],
   "source": []
  },
  {
   "cell_type": "code",
   "execution_count": null,
   "id": "7453f96e",
   "metadata": {},
   "outputs": [],
   "source": []
  },
  {
   "cell_type": "code",
   "execution_count": null,
   "id": "72387728",
   "metadata": {},
   "outputs": [],
   "source": []
  },
  {
   "cell_type": "code",
   "execution_count": null,
   "id": "bd3d910d",
   "metadata": {},
   "outputs": [],
   "source": []
  },
  {
   "cell_type": "code",
   "execution_count": null,
   "id": "70ec9381",
   "metadata": {},
   "outputs": [],
   "source": []
  },
  {
   "cell_type": "code",
   "execution_count": null,
   "id": "70f7025f",
   "metadata": {},
   "outputs": [],
   "source": []
  },
  {
   "cell_type": "code",
   "execution_count": null,
   "id": "86b53b35",
   "metadata": {},
   "outputs": [],
   "source": []
  }
 ],
 "metadata": {
  "kernelspec": {
   "display_name": "Python 3 (ipykernel)",
   "language": "python",
   "name": "python3"
  },
  "language_info": {
   "codemirror_mode": {
    "name": "ipython",
    "version": 3
   },
   "file_extension": ".py",
   "mimetype": "text/x-python",
   "name": "python",
   "nbconvert_exporter": "python",
   "pygments_lexer": "ipython3",
   "version": "3.9.7"
  }
 },
 "nbformat": 4,
 "nbformat_minor": 5
}
