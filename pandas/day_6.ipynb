{
 "cells": [
  {
   "cell_type": "code",
   "execution_count": 55,
   "id": "ff28d69b",
   "metadata": {},
   "outputs": [],
   "source": [
    "# Beautiful Soup 예제 1\n",
    "\n",
    "from bs4 import BeautifulSoup\n",
    "\n",
    "ex1 = '''\n",
    "<html>\n",
    "    <head>\n",
    "        <title> HTML 연습 </title>\n",
    "    </head>\n",
    "    <body>\n",
    "        <p class='center'> text 1</p>\n",
    "        <p class='right'> text 2</p>\n",
    "        <p class='left'> text 3</p>\n",
    "        <img scr='asdfdsfasfd' alt='' />\n",
    "    </body>\n",
    "</html>\n",
    "'''\n",
    "\n",
    "soup = BeautifulSoup(ex1, 'html.parser')"
   ]
  },
  {
   "cell_type": "code",
   "execution_count": 61,
   "id": "d00e01d1",
   "metadata": {},
   "outputs": [
    {
     "name": "stdout",
     "output_type": "stream",
     "text": [
      "<p class=\"center\"> text 1</p>\n",
      "<p class=\"center\"> text 1</p>\n",
      "<p class=\"right\"> text 2</p>\n",
      "<p class=\"left\"> text 3</p>\n",
      "[<p class=\"center\"> text 1</p>, <p class=\"right\"> text 2</p>, <p class=\"left\"> text 3</p>]\n",
      "[<p class=\"center\"> text 1</p>, <p class=\"right\"> text 2</p>, <p class=\"left\"> text 3</p>, <img alt=\"\" scr=\"asdfdsfasfd\"/>]\n",
      " text 1\n",
      " text 1\n",
      " text 2\n",
      " text 3\n",
      " text 1\n",
      " text 2\n",
      " text 3\n"
     ]
    }
   ],
   "source": [
    "print(soup.find('p'))\n",
    "print(soup.find('p', class_='center'))\n",
    "print(soup.find('p', class_='right'))\n",
    "print(soup.find('p', class_='left'))\n",
    "print(soup.find_all('p'))\n",
    "print(soup.find_all(['p','img']))\n",
    "text = soup.find('p')\n",
    "print(text.string)\n",
    "text2 = soup.find_all('p')\n",
    "for i in text2:\n",
    "    print(i.string)\n",
    "text3 = soup.find_all('p')\n",
    "for i in text3:\n",
    "    print(i.get_text())"
   ]
  },
  {
   "cell_type": "code",
   "execution_count": 3,
   "id": "76c69e61",
   "metadata": {},
   "outputs": [],
   "source": [
    "import requests\n",
    "from bs4 import BeautifulSoup"
   ]
  },
  {
   "cell_type": "code",
   "execution_count": 65,
   "id": "7aab834b",
   "metadata": {},
   "outputs": [],
   "source": [
    "url = 'https://movie.naver.com/movie/sdb/rank/rmovie.naver?sel=cur&date=20211229'\n",
    "resp = requests.get(url)\n",
    "soup = BeautifulSoup(resp.text)\n",
    "# soup"
   ]
  },
  {
   "cell_type": "code",
   "execution_count": 71,
   "id": "7332cf00",
   "metadata": {
    "scrolled": false
   },
   "outputs": [
    {
     "name": "stdout",
     "output_type": "stream",
     "text": [
      "1. 매트릭스 : 9.40\n",
      "2. 코다 : 9.24\n",
      "3. 꽃다발 같은 사랑을 했다 : 9.03\n",
      "4. 스파이더맨: 노 웨이 홈 : 9.03\n",
      "5. 러브 액츄얼리 : 8.93\n",
      "6. 기쿠지로의 여름 : 8.92\n",
      "7. 아멜리에 : 8.81\n",
      "8. 고양이를 부탁해 : 8.81\n",
      "9. 너의 이름은. : 8.80\n",
      "10. 공각기동대 : 8.72\n",
      "11. 돈 룩 업 : 8.65\n",
      "12. 너와 파도를 탈 수 있다면 : 8.53\n",
      "13. 태일이 : 8.49\n",
      "14. 초속5센티미터 : 8.35\n",
      "15. 엔칸토: 마법의 세계 : 8.32\n",
      "16. 연애 빠진 로맨스 : 8.31\n",
      "17. 킹스맨: 퍼스트 에이전트 : 8.22\n",
      "18. 프렌치 디스패치 : 8.03\n",
      "19. 날씨의 아이 : 7.96\n",
      "20. 라스트 나잇 인 소호 : 7.84\n",
      "21. 유체이탈자 : 7.59\n",
      "22. 디어 에반 핸슨 : 7.50\n",
      "23. 아네트 : 7.28\n",
      "24. 장르만 로맨스 : 6.66\n",
      "25. 베놈 2: 렛 데어 비 카니지 : 6.11\n",
      "26. 매트릭스: 리저렉션 : 5.65\n",
      "27. 이터널스 : 5.57\n"
     ]
    }
   ],
   "source": [
    "movie_title = []\n",
    "movie_point = []\n",
    "\n",
    "for line in soup.find_all('tr'):\n",
    "    title = line.find('div', class_='tit5')\n",
    "    if title:\n",
    "        movie_title.append(title.get_text().strip('\\n'))\n",
    "    \n",
    "    point = line.find('td', class_='point')\n",
    "    if point:\n",
    "        movie_point.append(point.get_text())\n",
    "        \n",
    "# 순위, 영화제목, 평점 출력\n",
    "for idx, (title, point) in enumerate(zip(movie_title, movie_point)):\n",
    "    print('{}. {} : {}'.format(idx+1, title, point))\n",
    "       "
   ]
  },
  {
   "cell_type": "code",
   "execution_count": 7,
   "id": "4fdefab6",
   "metadata": {},
   "outputs": [],
   "source": [
    "# 네이버 오픈API 예제\n",
    "text='''Yesterday\n",
    "All my troubles seemed so far away\n",
    "Now it looks as though they're here to stay\n",
    "Oh, I believe in yesterday\n",
    "Suddenly\n",
    "I'm not half the man I used to be\n",
    "There's a shadow hanging over me\n",
    "Oh, yesterday came suddenly\n",
    "Why she had to go, I don't know\n",
    "She wouldn't say\n",
    "I said something wrong\n",
    "Now I long for yesterday\n",
    "Yesterday\n",
    "Love was such an easy game to play\n",
    "Now I need a place to hide away\n",
    "Oh, I believe in yesterday\n",
    "Why she'''\n"
   ]
  },
  {
   "cell_type": "code",
   "execution_count": 12,
   "id": "fa83cc6a",
   "metadata": {},
   "outputs": [],
   "source": [
    "import requests\n",
    "requests_url = 'https://openapi.naver.com/v1/papago/n2mt'\n",
    "\n",
    "headers = {'Content-Type':'application/x-www-form-urlencoded; charset=UTF-8',\n",
    "            'X-Naver-Client-Id':'_5nd3VuAYGefkepATzDE',\n",
    "            'X-Naver-Client-Secret': 'Fq7jZIiJgz'}\n",
    "\n",
    "# source=ko&target=en&text=만나서 반갑습니다.\n",
    "params = {'source':'en','target':'ko','text': text \n",
    "          \n",
    "          "
   ]
  },
  {
   "cell_type": "code",
   "execution_count": 33,
   "id": "59153c7a",
   "metadata": {},
   "outputs": [
    {
     "name": "stdout",
     "output_type": "stream",
     "text": [
      "<class 'str'>\n",
      "{\"message\":{\"@type\":\"response\",\"@service\":\"naverservice.nmt.proxy\",\"@version\":\"1.0.0\",\"result\":{\"srcLangType\":\"en\",\"tarLangType\":\"ko\",\"translatedText\":\"어제\\n내 모든 시름들이 멀리 사라져버린듯 했다\\n이제 그들은 여기 머무르러 온 것처럼 보인다.\\n오, 나는 어제를 다시 그리게 돼.\\n갑자기\\n예전의 나의 반도 안 되는구나.\\n그림자가 드리워져 있어요\\n오, 어제가 갑자기 왔다.\\n왜 그녀가 가야만 했는지 모르겠어\\n그녀는 말하지 않았다.\\n내가 잘못 말했어.\\n이제 나는 어제가 그립다.\\n어제\\n사랑은 정말 하기 쉬운 게임이었다.\\n이제 숨을 곳이 필요해\\n오, 나는 어제를 다시 그리게 돼.\\n왜그녀\",\"engineType\":\"UNDEF_MULTI_SENTENCE\",\"pivot\":null}}}\n",
      "<class 'dict'>\n"
     ]
    }
   ],
   "source": [
    "response = requests.post(requests_url, headers = headers, data = params)\n",
    "print(type(response.text))\n",
    "print(response.text) # 문자열 \n",
    "res = response.json() # json타입으로 바꿔서 진행\n",
    "print(type(res)) # 딕셔너리로 변경\n",
    "\n",
    "\n"
   ]
  },
  {
   "cell_type": "code",
   "execution_count": 35,
   "id": "c60c41a1",
   "metadata": {},
   "outputs": [
    {
     "name": "stdout",
     "output_type": "stream",
     "text": [
      "어제\n",
      "내 모든 시름들이 멀리 사라져버린듯 했다\n",
      "이제 그들은 여기 머무르러 온 것처럼 보인다.\n",
      "오, 나는 어제를 다시 그리게 돼.\n",
      "갑자기\n",
      "예전의 나의 반도 안 되는구나.\n",
      "그림자가 드리워져 있어요\n",
      "오, 어제가 갑자기 왔다.\n",
      "왜 그녀가 가야만 했는지 모르겠어\n",
      "그녀는 말하지 않았다.\n",
      "내가 잘못 말했어.\n",
      "이제 나는 어제가 그립다.\n",
      "어제\n",
      "사랑은 정말 하기 쉬운 게임이었다.\n",
      "이제 숨을 곳이 필요해\n",
      "오, 나는 어제를 다시 그리게 돼.\n",
      "왜그녀\n"
     ]
    }
   ],
   "source": [
    "print(res['message']['result']['translatedText'])"
   ]
  },
  {
   "cell_type": "code",
   "execution_count": 69,
   "id": "eeb03c07",
   "metadata": {},
   "outputs": [],
   "source": [
    "# 객체 지향 프로그램밍 클래스, 객체\n",
    "\n",
    "# 학생, 국어 영어 수학 점수를 입력 받아 student_dict에 저장한 후 출력\n",
    "# student = {'name': , 'kor': , 'eng': , 'math': } \n",
    "    \n",
    "    \n",
    "def create_student():\n",
    "    student = {}\n",
    "    name = input('학생 이름 입력 >')\n",
    "    student['name'] = name\n",
    "    if name == 'q':\n",
    "        return student\n",
    "    \n",
    "    score = list(map(int, input('국어 영어 수학 점수 입력 >').split())) # 리스트 변경\n",
    "    \n",
    "    for idx, value in enumerate(score):\n",
    "        student[score_name[idx]] = value # score_name = ['kor', 'eng', 'math']\n",
    "    \n",
    "    return student\n",
    "    \n",
    "    "
   ]
  },
  {
   "cell_type": "code",
   "execution_count": 203,
   "id": "57459253",
   "metadata": {},
   "outputs": [
    {
     "name": "stdout",
     "output_type": "stream",
     "text": [
      "학생 이름 입력 >e\n",
      "국어 영어 수학 점수 입력 >10 10 10\n",
      "학생 이름 입력 >q\n",
      "name:e\tkor:10\teng:10\tmath:10\t총점:30\t,avg:10.0\n",
      "\n",
      "\n"
     ]
    }
   ],
   "source": [
    "students = []   # [ {'name':'홍길동', 'kor':90, 'eng':80, 'math':90},  ]\n",
    "score_name = ['kor','eng','math']\n",
    "while True:\n",
    "    student = create_student()\n",
    "    if  student['name'] == 'q':\n",
    "        break\n",
    "    students.append(student)\n",
    "    \n",
    "\n",
    "def student_get_sum(student):\n",
    "    return student['kor']+student['eng']+student['math']\n",
    "\n",
    "def student_get_avg(student):\n",
    "    return student_get_sum(student)/3\n",
    "      \n",
    "def student_print(students):\n",
    "    for item in students:\n",
    "        for key in item:\n",
    "            print(\"{}:{}\\t\".format(key,item[key] ), end='')\n",
    "            \n",
    "        print(\"총점:{}\\t,avg:{}\".format(student_get_sum(item),\n",
    "                                student_get_avg(item)))    \n",
    "        print(\"\\n\")\n",
    "\n",
    "\n",
    "student_print(students)   "
   ]
  },
  {
   "cell_type": "code",
   "execution_count": 204,
   "id": "a277bf07",
   "metadata": {},
   "outputs": [
    {
     "ename": "TypeError",
     "evalue": "string indices must be integers",
     "output_type": "error",
     "traceback": [
      "\u001b[0;31m---------------------------------------------------------------------------\u001b[0m",
      "\u001b[0;31mTypeError\u001b[0m                                 Traceback (most recent call last)",
      "\u001b[0;32m/var/folders/8x/my7blpjs0bg1hmjhzgvz02th0000gn/T/ipykernel_1566/1713667334.py\u001b[0m in \u001b[0;36m<module>\u001b[0;34m\u001b[0m\n\u001b[1;32m      1\u001b[0m \u001b[0;32mfor\u001b[0m \u001b[0msutdent\u001b[0m \u001b[0;32min\u001b[0m \u001b[0mstudents\u001b[0m\u001b[0;34m:\u001b[0m\u001b[0;34m\u001b[0m\u001b[0;34m\u001b[0m\u001b[0m\n\u001b[0;32m----> 2\u001b[0;31m     \u001b[0mstudent_print\u001b[0m\u001b[0;34m(\u001b[0m\u001b[0mstudent\u001b[0m\u001b[0;34m)\u001b[0m\u001b[0;34m\u001b[0m\u001b[0;34m\u001b[0m\u001b[0m\n\u001b[0m",
      "\u001b[0;32m/var/folders/8x/my7blpjs0bg1hmjhzgvz02th0000gn/T/ipykernel_1566/291667572.py\u001b[0m in \u001b[0;36mstudent_print\u001b[0;34m(students)\u001b[0m\n\u001b[1;32m     17\u001b[0m     \u001b[0;32mfor\u001b[0m \u001b[0mitem\u001b[0m \u001b[0;32min\u001b[0m \u001b[0mstudents\u001b[0m\u001b[0;34m:\u001b[0m\u001b[0;34m\u001b[0m\u001b[0;34m\u001b[0m\u001b[0m\n\u001b[1;32m     18\u001b[0m         \u001b[0;32mfor\u001b[0m \u001b[0mkey\u001b[0m \u001b[0;32min\u001b[0m \u001b[0mitem\u001b[0m\u001b[0;34m:\u001b[0m\u001b[0;34m\u001b[0m\u001b[0;34m\u001b[0m\u001b[0m\n\u001b[0;32m---> 19\u001b[0;31m             \u001b[0mprint\u001b[0m\u001b[0;34m(\u001b[0m\u001b[0;34m\"{}:{}\\t\"\u001b[0m\u001b[0;34m.\u001b[0m\u001b[0mformat\u001b[0m\u001b[0;34m(\u001b[0m\u001b[0mkey\u001b[0m\u001b[0;34m,\u001b[0m\u001b[0mitem\u001b[0m\u001b[0;34m[\u001b[0m\u001b[0mkey\u001b[0m\u001b[0;34m]\u001b[0m \u001b[0;34m)\u001b[0m\u001b[0;34m,\u001b[0m \u001b[0mend\u001b[0m\u001b[0;34m=\u001b[0m\u001b[0;34m''\u001b[0m\u001b[0;34m)\u001b[0m\u001b[0;34m\u001b[0m\u001b[0;34m\u001b[0m\u001b[0m\n\u001b[0m\u001b[1;32m     20\u001b[0m \u001b[0;34m\u001b[0m\u001b[0m\n\u001b[1;32m     21\u001b[0m         print(\"총점:{}\\t,avg:{}\".format(student_get_sum(item),\n",
      "\u001b[0;31mTypeError\u001b[0m: string indices must be integers"
     ]
    }
   ],
   "source": [
    "for sutdent in students:\n",
    "    student_print(student)"
   ]
  },
  {
   "cell_type": "code",
   "execution_count": 183,
   "id": "96b4a9ff",
   "metadata": {},
   "outputs": [],
   "source": [
    "# class  생성하기 class  클래스명\n",
    "\n",
    "class Student:\n",
    "    def __init__(self, name, kor, eng, math):\n",
    "        self.name = name\n",
    "        self.kor = kor\n",
    "        self.eng = eng\n",
    "        self.math = math\n",
    "    def get_sum(self):\n",
    "        return self.kor + self.eng + self.math\n",
    "    def get_avg(self):\n",
    "        return self.get_sum() / 3\n",
    "    def to_print(self):\n",
    "        return '{}:{}\\t {}\\n'.format(self.name, self.get_sum(), self_get_avg())"
   ]
  },
  {
   "cell_type": "code",
   "execution_count": 184,
   "id": "ecc5c7ec",
   "metadata": {},
   "outputs": [
    {
     "name": "stdout",
     "output_type": "stream",
     "text": [
      "학생 이름 입력 >e\n",
      "국어 , 영어, 수학 점수 입력 > 10 10 10 \n",
      "학생 이름 입력 >r\n",
      "국어 , 영어, 수학 점수 입력 > 20 20 20 \n",
      "학생 이름 입력 >q\n"
     ]
    }
   ],
   "source": [
    "student = []\n",
    "while True:\n",
    "    name = input(\"학생 이름 입력 >\")\n",
    "    if name == 'q':\n",
    "        break\n",
    "    score = list(map(int, input(\"국어 , 영어, 수학 점수 입력 > \").split()))\n",
    "    kor = score[0]\n",
    "    eng = score[1]\n",
    "    math = score[2]\n",
    "    student = Student(name, kor, eng, math)\n",
    "    students.append(student)"
   ]
  },
  {
   "cell_type": "code",
   "execution_count": 185,
   "id": "2003302c",
   "metadata": {},
   "outputs": [
    {
     "name": "stdout",
     "output_type": "stream",
     "text": [
      "윤인성\n"
     ]
    },
    {
     "ename": "AttributeError",
     "evalue": "'Student' object has no attribute 'to_print'",
     "output_type": "error",
     "traceback": [
      "\u001b[0;31m---------------------------------------------------------------------------\u001b[0m",
      "\u001b[0;31mAttributeError\u001b[0m                            Traceback (most recent call last)",
      "\u001b[0;32m/var/folders/8x/my7blpjs0bg1hmjhzgvz02th0000gn/T/ipykernel_1566/3595229568.py\u001b[0m in \u001b[0;36m<module>\u001b[0;34m\u001b[0m\n\u001b[1;32m      1\u001b[0m \u001b[0;32mfor\u001b[0m \u001b[0midx\u001b[0m\u001b[0;34m,\u001b[0m \u001b[0mstudent\u001b[0m \u001b[0;32min\u001b[0m \u001b[0menumerate\u001b[0m\u001b[0;34m(\u001b[0m\u001b[0mstudents\u001b[0m\u001b[0;34m)\u001b[0m\u001b[0;34m:\u001b[0m\u001b[0;34m\u001b[0m\u001b[0;34m\u001b[0m\u001b[0m\n\u001b[1;32m      2\u001b[0m     \u001b[0mprint\u001b[0m\u001b[0;34m(\u001b[0m\u001b[0mstudents\u001b[0m\u001b[0;34m[\u001b[0m\u001b[0midx\u001b[0m\u001b[0;34m]\u001b[0m\u001b[0;34m.\u001b[0m\u001b[0mname\u001b[0m\u001b[0;34m)\u001b[0m\u001b[0;34m\u001b[0m\u001b[0;34m\u001b[0m\u001b[0m\n\u001b[0;32m----> 3\u001b[0;31m     \u001b[0mprint\u001b[0m\u001b[0;34m(\u001b[0m\u001b[0mstudent\u001b[0m\u001b[0;34m.\u001b[0m\u001b[0mto_print\u001b[0m\u001b[0;34m(\u001b[0m\u001b[0;34m)\u001b[0m\u001b[0;34m)\u001b[0m\u001b[0;34m\u001b[0m\u001b[0;34m\u001b[0m\u001b[0m\n\u001b[0m",
      "\u001b[0;31mAttributeError\u001b[0m: 'Student' object has no attribute 'to_print'"
     ]
    }
   ],
   "source": [
    "for idx, student in enumerate(students):\n",
    "    print(students[idx].name)\n",
    "    print(student.to_print())"
   ]
  },
  {
   "cell_type": "code",
   "execution_count": 89,
   "id": "de57a3aa",
   "metadata": {},
   "outputs": [
    {
     "name": "stdout",
     "output_type": "stream",
     "text": [
      "60\n"
     ]
    }
   ],
   "source": [
    "\n",
    "class Test:\n",
    "    def __init__(self, a,b,c):\n",
    "        self.a = a\n",
    "        self.b = b\n",
    "        self.c = c\n",
    "        print(\"Test class 생성자 \")\n",
    "        \n",
    "    def class_print(self):\n",
    "        return self.a + self. b + self. c\n",
    "        \n",
    "    def class_return(self, a):\n",
    "        return a\n",
    "    \n",
    "    def __del__(self):\n",
    "        print(\"Test class 소멸자 \")\n"
   ]
  },
  {
   "cell_type": "code",
   "execution_count": 186,
   "id": "569a1ad6",
   "metadata": {},
   "outputs": [
    {
     "name": "stdout",
     "output_type": "stream",
     "text": [
      "isinstance(student) :  False\n"
     ]
    }
   ],
   "source": [
    "a = Test(10,20,30)\n",
    "a.class_print()\n",
    "\n",
    "del a\n",
    "print('isinstance(student) : ', isinstance(student, Student))"
   ]
  },
  {
   "cell_type": "code",
   "execution_count": 116,
   "id": "ccf7079f",
   "metadata": {},
   "outputs": [],
   "source": [
    "class Student:\n",
    "    def study(self):\n",
    "        print('공부를 합니다.')\n",
    "class Teacher:\n",
    "    def teacher(self):\n",
    "        print('가르칩니다.')"
   ]
  },
  {
   "cell_type": "code",
   "execution_count": 117,
   "id": "7e73ad53",
   "metadata": {},
   "outputs": [
    {
     "name": "stdout",
     "output_type": "stream",
     "text": [
      "공부를 합니다.\n",
      "가르칩니다.\n",
      "공부를 합니다.\n",
      "공부를 합니다.\n",
      "가르칩니다.\n"
     ]
    }
   ],
   "source": [
    "classroom = [Student(), Teacher(), Student(), Student(), Teacher()]\n",
    "\n",
    "for person in classroom:\n",
    "    if isinstance(person, Student):\n",
    "        person.study()\n",
    "    else:\n",
    "        person.teacher()"
   ]
  },
  {
   "cell_type": "code",
   "execution_count": 198,
   "id": "dccedd5b",
   "metadata": {},
   "outputs": [],
   "source": [
    "class Student:\n",
    "    def __init__(self, name, kor, eng, math):\n",
    "        self.name = name\n",
    "        self.kor = kor\n",
    "        self.eng = eng\n",
    "        self.math = math\n",
    "    def get_sum(self):\n",
    "        return self.kor + self.eng + self.math\n",
    "    def get_avg(self):\n",
    "        return self.get_sum() / 3\n",
    "    def __str__(self):\n",
    "        return \"{}\\t{}\\t{}\".format(self.name, self.get_sum(), self.get_avg())\n",
    "    def __eq__(self, value):\n",
    "        return self.get_sum() == value.get_sum()\n",
    "    def __ne__(self, value):\n",
    "        return self.get_sum() != value.get_sum()\n",
    "    def __gt__(self, value):\n",
    "        return self.get_sum() > value.get_sum()   \n",
    "    "
   ]
  },
  {
   "cell_type": "code",
   "execution_count": 199,
   "id": "4fcab87d",
   "metadata": {},
   "outputs": [
    {
     "name": "stdout",
     "output_type": "stream",
     "text": [
      "student_a == student_b > False\n",
      "student_a != student_b > True\n",
      "윤인성 273\n",
      "연하진 286\n",
      "나선주 286\n"
     ]
    }
   ],
   "source": [
    "students = [\n",
    "    Student(\"윤인성\", 87, 98, 88),\n",
    "    Student(\"연하진\", 92, 98, 96),\n",
    "    Student(\"구지연\", 76, 96, 94),\n",
    "    Student(\"나선주\", 98, 92, 96),\n",
    "    Student(\"윤아린\", 95, 98, 98),\n",
    "    Student(\"윤명월\", 64, 88, 92)\n",
    "]\n",
    "\n",
    "student_a = Student('윤인성', 87, 98, 88)\n",
    "student_b = Student('연하진', 92, 98, 96)\n",
    "\n",
    "print('student_a == student_b >', student_a == student_b)\n",
    "print('student_a != student_b >', student_a != student_b)\n",
    "\n",
    "for student in students:\n",
    "    if student == student_a or student == student_b:\n",
    "        print(student.name, student.get_sum())\n",
    "    "
   ]
  },
  {
   "cell_type": "code",
   "execution_count": 205,
   "id": "c0af812b",
   "metadata": {},
   "outputs": [],
   "source": [
    "# 클래스 변수\n",
    "class Student:\n",
    "    count = 0\n",
    "    students = []\n",
    "    def __init__(self, name, kor, eng, math):\n",
    "        self.name = name\n",
    "        self.kor = kor\n",
    "        self.eng = eng\n",
    "        self.math = math   \n",
    "        \n",
    "        Student.count += 1\n",
    "        Student.students.append(self)\n",
    "        \n",
    "    @classmethod\n",
    "    def print(cls):\n",
    "        print(\"--------학생 목록------------\")\n",
    "        print(\"이름\\t총점\\t평균\")\n",
    "        for student in cls.students:\n",
    "            print(str(student))\n",
    "        print(\"----------------------------\")\n",
    "\n",
    "    def get_sum(self):\n",
    "        return self.kor + self.eng + self.math\n",
    "    def get_avg(self):\n",
    "        return self.get_sum()/3\n",
    "    def __str__(self):\n",
    "        return \"{}\\t{}\\t{:0.3f}\".format(self.name, self.get_sum(), self.get_avg())    "
   ]
  },
  {
   "cell_type": "code",
   "execution_count": 206,
   "id": "8fa14be1",
   "metadata": {},
   "outputs": [
    {
     "name": "stdout",
     "output_type": "stream",
     "text": [
      "--------학생 목록------------\n",
      "이름\t총점\t평균\n",
      "윤인성\t273\t91.000\n",
      "연하진\t286\t95.333\n",
      "구지연\t266\t88.667\n",
      "나선주\t286\t95.333\n",
      "윤아린\t291\t97.000\n",
      "윤명월\t244\t81.333\n",
      "----------------------------\n",
      "전체 인원 수 :  6\n"
     ]
    }
   ],
   "source": [
    "Student(\"윤인성\", 87, 98, 88)\n",
    "Student(\"연하진\", 92, 98, 96)\n",
    "Student(\"구지연\", 76, 96, 94)\n",
    "Student(\"나선주\", 98, 92, 96)\n",
    "Student(\"윤아린\", 95, 98, 98)\n",
    "Student(\"윤명월\", 64, 88, 92)\n",
    "\n",
    "Student.print()   # 클래스의 매서드 또는 함수\n",
    "print(\"전체 인원 수 : \", Student.count) # Student 클래 전체의 global 변수"
   ]
  },
  {
   "cell_type": "code",
   "execution_count": 207,
   "id": "8982aa6a",
   "metadata": {},
   "outputs": [],
   "source": [
    "# 학생 자료를 입력 받아 클래스 리스트에 저장한 후\n",
    "# 학생들의 각 과목별 점수와 총점 평균을 출력하고\n",
    "# 전체 학생의 인원수와 전체 학생의 총점과 평균을 구하세요\n",
    "\n",
    "# 클래스 변수\n",
    "class Student:\n",
    "    count = 0\n",
    "    students = []\n",
    "    def __init__(self, name, kor, eng, math):\n",
    "        self.name = name\n",
    "        self.kor = kor\n",
    "        self.eng = eng\n",
    "        self.math = math\n",
    "        \n",
    "        Student.count += 1\n",
    "        Student.students.append(self)\n",
    "    \n",
    "    @classmethod\n",
    "    def print(cls):\n",
    "        print('------학생 목록 --------')\n",
    "        print('이름\\t총점\\t평균')\n",
    "        for student in cls.students:\n",
    "            print(str(student))\n",
    "        print('----------------------')\n",
    "            \n",
    "    def get_sum(self):\n",
    "        return self.kor + self.eng + self.math\n",
    "    \n",
    "    def get_avg(self):\n",
    "        return self.get_sum() / 3 \n",
    "    \n",
    "    def __srt__(self):\n",
    "        return '{}\\t{}\\t{}\\t{}\\t{}\\t{:0.3f}'.format(self.name, \n",
    "                                                    self.kor, self.eng, self, math,\n",
    "                                                    self.get_sum(), self.get_avg()                                                   )\n",
    "\n"
   ]
  },
  {
   "cell_type": "code",
   "execution_count": 208,
   "id": "2a1e2ebb",
   "metadata": {
    "scrolled": true
   },
   "outputs": [
    {
     "name": "stdout",
     "output_type": "stream",
     "text": [
      "학생 이름 입력 >e\n",
      "국어 , 영어, 수학 점수 입력 > 10 10 10\n",
      "학생 이름 입력 >q\n",
      "------학생 목록 --------\n",
      "이름\t총점\t평균\n",
      "<__main__.Student object at 0x7faa11252130>\n",
      "----------------------\n",
      "전체 인원수 : 1, 총점: 30, 평균: 30.000\n"
     ]
    }
   ],
   "source": [
    "while True:\n",
    "    name = input(\"학생 이름 입력 >\")\n",
    "    if name == 'q':\n",
    "        break\n",
    "    score = list(map(int, input(\"국어 , 영어, 수학 점수 입력 > \").split()))\n",
    "    kor = score[0]\n",
    "    eng = score[1]\n",
    "    math = score[2]\n",
    "    Student(name, kor, eng, math)\n",
    "    \n",
    "Student.print()    # clase 매서드\n",
    "total = 0\n",
    "for student in Student.students:\n",
    "    total += student.kor + student.eng + student.math\n",
    "print(\"전체 인원수 : {}, 총점: {}, 평균: {:.3f}\".format(\n",
    "        Student.count, total, total/Student.count))  "
   ]
  },
  {
   "cell_type": "code",
   "execution_count": 231,
   "id": "64dec47a",
   "metadata": {},
   "outputs": [],
   "source": [
    "class Circle:\n",
    "    def __init__(self, radius):\n",
    "        self.__radius = radius\n",
    "    def get_circum(self):\n",
    "        return self.__radius * 2 * 3.14\n",
    "    def get_area(self):\n",
    "        return self.__radius * self.__radius * 3.14\n",
    "    \n",
    "    def get_radius(self): # 게터\n",
    "        return self.__radius\n",
    "    \n",
    "    def set_radius(self, value): # 세터\n",
    "        self.__radius = value\n",
    "    "
   ]
  },
  {
   "cell_type": "code",
   "execution_count": 232,
   "id": "e2d6e507",
   "metadata": {},
   "outputs": [
    {
     "name": "stdout",
     "output_type": "stream",
     "text": [
      "314.0\n",
      "10\n",
      "5\n"
     ]
    }
   ],
   "source": [
    "circle = Circle(10)\n",
    "print(circle.get_area())\n",
    "\n",
    "print(circle.get_radius())\n",
    "circle.set_radius(5)\n",
    "print(circle.get_radius())\n"
   ]
  },
  {
   "cell_type": "code",
   "execution_count": null,
   "id": "b46ed3fa",
   "metadata": {},
   "outputs": [],
   "source": [
    "# 학생들의 이름과 점수를 입력 받아 리스트에 저정한 후 자료 출력\n",
    "# 학생들의 이름과 점수를 입력 받아 딕셔너리에 저장한 후 출력\n",
    "# 클래스를 생성하여 입력 후 출력"
   ]
  },
  {
   "cell_type": "code",
   "execution_count": null,
   "id": "36352fc0",
   "metadata": {},
   "outputs": [],
   "source": []
  },
  {
   "cell_type": "code",
   "execution_count": null,
   "id": "d87ff2b8",
   "metadata": {},
   "outputs": [],
   "source": []
  }
 ],
 "metadata": {
  "kernelspec": {
   "display_name": "Python 3 (ipykernel)",
   "language": "python",
   "name": "python3"
  },
  "language_info": {
   "codemirror_mode": {
    "name": "ipython",
    "version": 3
   },
   "file_extension": ".py",
   "mimetype": "text/x-python",
   "name": "python",
   "nbconvert_exporter": "python",
   "pygments_lexer": "ipython3",
   "version": "3.9.7"
  }
 },
 "nbformat": 4,
 "nbformat_minor": 5
}
