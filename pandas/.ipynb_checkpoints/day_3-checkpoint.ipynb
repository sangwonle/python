{
 "cells": [
  {
   "cell_type": "code",
   "execution_count": 15,
   "id": "3c267364",
   "metadata": {},
   "outputs": [
    {
     "name": "stdout",
     "output_type": "stream",
     "text": [
      "range(5)\n",
      "0 = 반복문장\n",
      "1 = 반복문장\n",
      "2 = 반복문장\n",
      "3 = 반복문장\n",
      "4 = 반복문장\n",
      "range(1,5)\n",
      "1 = 반복문장\n",
      "2 = 반복문장\n",
      "3 = 반복문장\n",
      "4 = 반복문장\n",
      "range(1,10,2)\n",
      "1 = 반복문장\n",
      "3 = 반복문장\n",
      "5 = 반복문장\n",
      "7 = 반복문장\n",
      "9 = 반복문장\n",
      "273\n",
      "32\n",
      "103\n",
      "68\n",
      "90\n",
      "0번째 반복 : 273\n",
      "1번째 반복 : 32\n",
      "2번째 반복 : 103\n",
      "3번째 반복 : 68\n",
      "4번째 반복 : 90\n",
      "4번째 반복 : 90\n",
      "3번째 반복 : 68\n",
      "2번째 반복 : 103\n",
      "1번째 반복 : 32\n",
      "0번째 반복 : 273\n",
      "\n",
      "4번째 반복: 90\n",
      "3번째 반복: 68\n",
      "2번째 반복: 103\n",
      "1번째 반복: 32\n",
      "0번째 반복: 273\n",
      "\n",
      "0번째 반복: 273\n",
      "1번째 반복: 32\n",
      "2번째 반복: 103\n",
      "3번째 반복: 68\n",
      "4번째 반복: 90\n"
     ]
    }
   ],
   "source": [
    "# range(start, end, [step]) 함수를 사용한 for 반복문 실행\n",
    "# range(5)\n",
    "\n",
    "print('range(5)')\n",
    "for i in range(5):\n",
    "    print(str(i)+ ' = 반복문장')\n",
    "\n",
    "# range(1,5)\n",
    "print('range(1,5)')\n",
    "for i in range(1,5):\n",
    "    print(str(i)+ ' = 반복문장')\n",
    "\n",
    "# range(1,10,2)\n",
    "print('range(1,10,2)')\n",
    "for i in range(1,10,2):\n",
    "    print(str(i)+ ' = 반복문장')\n",
    "    \n",
    "# list\n",
    "list(range(10+1))\n",
    "\n",
    "# list 와 for 사용하기\n",
    "list_a = [273,32,103,68,90]\n",
    "for element in list_a:\n",
    "    print(element)\n",
    "\n",
    "#list의 길이를 range함수에 적용해서\n",
    "for i in range(len(list_a)):\n",
    "    print('{}번째 반복 : {}'.format(i, list_a[i]))\n",
    "# 리스트의 값을 역으로 출력 1\n",
    "for i in range(len(list_a)-1, -1, -1):\n",
    "    print('{}번째 반복 : {}'.format(i, list_a[i]))\n",
    "print()\n",
    "# 리스트의 값을 역으로 출력 2\n",
    "for i in reversed(range(len(list_a))):\n",
    "    print('{}번째 반복: {}'.format(i, list_a[i]))\n",
    "print()\n",
    "# list의 값을 인덱스와 같이 출력\n",
    "for idx, value in enumerate(list_a):\n",
    "    print('{}번째 반복: {}'.format(idx, value ))"
   ]
  },
  {
   "cell_type": "code",
   "execution_count": 23,
   "id": "b2f98b21",
   "metadata": {},
   "outputs": [
    {
     "name": "stdout",
     "output_type": "stream",
     "text": [
      "273\n",
      "32\n",
      "103\n",
      "68\n",
      "90\n",
      "[1, 1]\n"
     ]
    }
   ],
   "source": [
    "# while 표현식: \n",
    "# while True:\n",
    "#     print('.', end = '')\n",
    "\n",
    "# while문을 for문처럼 사용하기\n",
    "i = 0\n",
    "while i < len(list_a): # 반복문을 처리할 수 있는 조건이 True이면 실행\n",
    "    print(list_a[i])\n",
    "    i += 1\n",
    "\n",
    "# 상태를 기반으로 반복문 실행\n",
    "list_b = [1,2,1,2]\n",
    "value = 2\n",
    "while value in list_b: # Treu인지 False 인지 판단해서 True 이면 실행\n",
    "    list_b.remove(value)\n",
    "print(list_b)"
   ]
  },
  {
   "cell_type": "code",
   "execution_count": 42,
   "id": "f16e431a",
   "metadata": {},
   "outputs": [
    {
     "name": "stdout",
     "output_type": "stream",
     "text": [
      "이름 성적 입력('q'를 입력하면 종료)a 10\n",
      "이름 성적 입력('q'를 입력하면 종료)b 10\n",
      "이름 성적 입력('q'를 입력하면 종료)q\n",
      "검색할 이름 : a\n",
      "a의 성적 : 10\n"
     ]
    }
   ],
   "source": [
    "# 이름과 점수를 입력받아 딕셔너리에 저장\n",
    "# 이름에 'q'가 입력되면 종료\n",
    "# 검색할 이름을 입력받아 해당 이름이 있으면 이름과 점수 출력\n",
    "# 검색할 이름이 없으면 자료없음\n",
    "\n",
    "dict_score = {}\n",
    "while True:\n",
    "    input_list = input('이름 성적 입력(\\'q\\'를 입력하면 종료)').split()\n",
    "    if input_list[0] == 'q':\n",
    "        break\n",
    "    # 입력 데이터 수가 2가 아니고 두번째 입력 자료가 숫자가 아니면 다시 입력\n",
    "    if len(input_list) != 2 or not input_list[1].isdigit(): \n",
    "        continue\n",
    "\n",
    "    dict_score[input_list[0]] = int(input_list[1])\n",
    "    \n",
    "#데이터 검색\n",
    "search_name = input('검색할 이름 : ')\n",
    "if search_name in dict_score:\n",
    "    print('{}의 성적 : {}'.format(search_name, dict_score[search_name]))\n",
    "else:\n",
    "    print('자료가 없습니다.')\n",
    "\n",
    "    \n"
   ]
  },
  {
   "cell_type": "code",
   "execution_count": 68,
   "id": "81e77100",
   "metadata": {},
   "outputs": [
    {
     "name": "stdout",
     "output_type": "stream",
     "text": [
      "계산식 입력 >ㅂ\n",
      "계산식 입력 >ㄷ + 1\n",
      "다시 입력해주세요\n",
      "계산식 입력 >ㅉ\n",
      "계산식 입력 >3+ 3ㅇ\n",
      "계산식 입력 >3 + ㅎ\n",
      "다시 입력해주세요\n",
      "계산식 입력 >ㅂ\n",
      "계산식 입력 >q\n"
     ]
    }
   ],
   "source": [
    "# 계산식을 입력받아 결과를 출력하는 프로그램 작성\\\n",
    "# 10+20 = 30\n",
    "# + - * / 모두 가능\n",
    "# 처음 문자 'q'입력하면 종료\n",
    "while True:\n",
    "    input_field = input('계산식 입력 >').split()\n",
    "\n",
    "    if input_field[0] == 'q':\n",
    "        break\n",
    "    if len(input_field) != 3 or not input_field[1] in '+-*/':\n",
    "        continue\n",
    "    if input_field[0].isdigit() and input_field[2].isdigit():\n",
    "        \n",
    "        start_num = int(input_field[0])\n",
    "        end_num = int(input_field[2])\n",
    "        if input_field[1] == '+':\n",
    "            result = start_num + end_num\n",
    "        print('{} {} {} = {}'.format(start_num, input_field[1], end_num, result))\n",
    "    else:\n",
    "        print('다시 입력해주세요')\n",
    "\n",
    "    "
   ]
  },
  {
   "cell_type": "code",
   "execution_count": 46,
   "id": "ec9eb137",
   "metadata": {},
   "outputs": [
    {
     "name": "stdout",
     "output_type": "stream",
     "text": [
      "계산식 입력 10 + 20 = 3010 + 10\n",
      "10 + 10 = 20\n",
      "계산식 입력 10 + 20 = 3010 + 30\n",
      "10 + 30 = 40\n",
      "계산식 입력 10 + 20 = 30q\n"
     ]
    }
   ],
   "source": [
    "# 계산식을 입력받아 결과를 출력하는 프로그램 작성\\\n",
    "# 10+20 = 30\n",
    "# + - * / 모두 가능\n",
    "# 처음 문자 'q'입력하면 종료\n",
    "\n",
    "while True:\n",
    "    cal_list = input('계산식 입력 10 + 20 = 30').split()\n",
    "    if cal_list[0] == 'q':\n",
    "        break\n",
    "    if len(cal_list) != 3 or not cal_list[1] in '+-*/':\n",
    "        continue\n",
    "    if cal_list[1] == '+':\n",
    "        result = int(cal_list[0]) + int(cal_list[2])\n",
    "    elif cal_list[1] == '-':\n",
    "        result = int(cal_list[0]) - int(cal_list[2])\n",
    "    elif cal_list[1] == '*':\n",
    "        result = int(cal_list[0]) * int(cal_list[2])\n",
    "    elif cal_list[1] == '%':\n",
    "        result = int(cal_list[0]) % int(cal_list[2])\n",
    "    \n",
    "    print('{} {} {} = {}'.format(cal_list[0], cal_list[1],cal_list[2],result))\n",
    "        \n",
    "        \n",
    "    "
   ]
  },
  {
   "cell_type": "code",
   "execution_count": 66,
   "id": "cfb3cc40",
   "metadata": {},
   "outputs": [
    {
     "name": "stdout",
     "output_type": "stream",
     "text": [
      "5초동안 35224494번 실행\n"
     ]
    }
   ],
   "source": [
    "import time\n",
    "\n",
    "number = 0\n",
    "target_time = time.time() + 5\n",
    "\n",
    "while time.time() < target_time:\n",
    "    number += 1\n",
    "print('5초동안 {}번 실행'.format(number))"
   ]
  },
  {
   "cell_type": "code",
   "execution_count": 92,
   "id": "bb7f0097",
   "metadata": {},
   "outputs": [
    {
     "name": "stdout",
     "output_type": "stream",
     "text": [
      "5\n",
      "4\n",
      "3\n",
      "2\n",
      "1\n",
      "5\n",
      "4\n",
      "3\n",
      "2\n",
      "1\n",
      "[5, 4, 3, 2, 1]\n"
     ]
    }
   ],
   "source": [
    "# reversed() 함수\n",
    "list_a = [1,2,3,4,5]\n",
    "revers_a = reversed(list_a) # 주소 복사\n",
    "\n",
    "\n",
    "for i in revers_a:\n",
    "    print('{}'.format(i))\n",
    "    \n",
    "\n",
    "for i in reversed(list_a):\n",
    "    print('{}'.format(i))\n",
    "    \n",
    "print(list_a[::-1])\n"
   ]
  },
  {
   "cell_type": "code",
   "execution_count": null,
   "id": "3a62d665",
   "metadata": {},
   "outputs": [],
   "source": [
    "# 리스트의 idx value를 동시에 반환 : enumerate(list)\n",
    "# 딕셔너리의 key와 value 동시에 반환 : items()"
   ]
  },
  {
   "cell_type": "code",
   "execution_count": 76,
   "id": "b418ff34",
   "metadata": {},
   "outputs": [
    {
     "data": {
      "text/plain": [
       "[0, 2, 4, 6, 8]"
      ]
     },
     "execution_count": 76,
     "metadata": {},
     "output_type": "execute_result"
    }
   ],
   "source": [
    "# 리스트 내포 : [i for i in 반복 조건식]\n",
    "array = [i for i in range(10) if i % 2 == 0]\n",
    "array"
   ]
  },
  {
   "cell_type": "code",
   "execution_count": 80,
   "id": "b8c92747",
   "metadata": {},
   "outputs": [
    {
     "name": "stdout",
     "output_type": "stream",
     "text": [
      "2500 2450\n"
     ]
    }
   ],
   "source": [
    "# 1에서 100까지의 홀수의 합과 짝수의 합을 구하세요\n",
    "odd_sum = sum([i for i in range(100) if i % 2])\n",
    "even_sum = sum([i for i in range(100) if not i % 2])\n",
    "print(odd_sum, even_sum)"
   ]
  },
  {
   "cell_type": "code",
   "execution_count": 84,
   "id": "be1a2d14",
   "metadata": {},
   "outputs": [
    {
     "name": "stdout",
     "output_type": "stream",
     "text": [
      "1-2-3-4-5\n"
     ]
    },
    {
     "data": {
      "text/plain": [
       "['1', '2', '3', '4', '5']"
      ]
     },
     "execution_count": 84,
     "metadata": {},
     "output_type": "execute_result"
    }
   ],
   "source": [
    "# [] 리스트, {} 딕셔너리, () 튜플 : 데이터 변경 불가능\n",
    "# 묹열 연결 함수 : 문자열.join(list)\n",
    "list_a = ['1','2','3','4','5']\n",
    "join_list = '-'.join(list_a)\n",
    "print(join_list)\n",
    "join_list.split(sep='-')"
   ]
  },
  {
   "cell_type": "code",
   "execution_count": 91,
   "id": "e09d2d7c",
   "metadata": {},
   "outputs": [
    {
     "name": "stdout",
     "output_type": "stream",
     "text": [
      "reversed_nubers : <list_reverseiterator object at 0x7fb1d1b77b80>\n",
      "5\n",
      "4\n",
      "3\n",
      "2\n",
      "1\n"
     ]
    }
   ],
   "source": [
    "# 이터레이터 함수\n",
    "numbers = [1,2,3,4,5]\n",
    "r_num = reversed(numbers)\n",
    "\n",
    "print('reversed_nubers :', r_num)\n",
    "print(next(r_num))\n",
    "print(next(r_num))\n",
    "print(next(r_num))\n",
    "print(next(r_num))\n",
    "print(next(r_num))"
   ]
  },
  {
   "cell_type": "code",
   "execution_count": 113,
   "id": "e138e7cb",
   "metadata": {},
   "outputs": [
    {
     "name": "stdout",
     "output_type": "stream",
     "text": [
      "이름 전화번호를 입력하세요  > a 123 123 123\n",
      "이름 전화번호를 입력하세요  > q\n",
      "{'q': '123-123-123'}\n"
     ]
    }
   ],
   "source": [
    "# 전화번호부를 작성\n",
    "# 이름 전화번호 입력 : 홍길동 123 345 789\n",
    "# 저장 딕셔너리 이름 전화번호로 저장 - 전화번호는 123-345-890 형식으로\n",
    "# 이름에 'q' 입력되면 입력 종료\n",
    "# 검색할 이름 입력하면 전화번호를 검색해서 출력, 자료 없음\n",
    "\n",
    "telno_dict = {}\n",
    "\n",
    "while True:\n",
    "    info_data = input('이름 전화번호를 입력하세요  > ').split()\n",
    "    name = info_data[0]\n",
    "    if name == 'q':\n",
    "        break\n",
    "    if len(info_data) != 4:\n",
    "        continue\n",
    "#     telno = []\n",
    "#     for value in input_data[1:]:\n",
    "#         telno.append(value)\n",
    "#     telno_dict[name] = '-'.join(telno)\n",
    "    telno_dict[name] = '-'.join(info_data[1:])\n",
    "print(telno_dict)\n"
   ]
  },
  {
   "cell_type": "code",
   "execution_count": 112,
   "id": "115c7e99",
   "metadata": {},
   "outputs": [
    {
     "name": "stdout",
     "output_type": "stream",
     "text": [
      "검색할 이름a\n",
      "a  :  123-123-123\n"
     ]
    }
   ],
   "source": [
    "\n",
    "# 전화번호 검색\n",
    "search_name = input('검색할 이름')\n",
    "if search_name in telno_dict:\n",
    "    print(search_name, ' : ', telno_dict[search_name])\n",
    "else:\n",
    "    print('자료 없음')"
   ]
  },
  {
   "cell_type": "code",
   "execution_count": 140,
   "id": "33ee0331",
   "metadata": {},
   "outputs": [],
   "source": [
    "# 함수의 정의는 -> def 함수명():\n",
    "# 함수의 사용은 -> 함수명()\n",
    "def print_3_times():\n",
    "    print('hello')\n",
    "    print('hello')\n",
    "    print('hello')\n",
    "    \n",
    "def print_n_times(value, n):\n",
    "    for i in range(n):\n",
    "        print(value)\n",
    "        \n",
    "# 가변 매개변수        \n",
    "def print_v_times(n, *values):\n",
    "    for i in range(n):\n",
    "        for value in values:\n",
    "            print(value)\n",
    "        print()\n",
    "\n",
    "def print_d_times(value, n=2):\n",
    "    for i in range(2):\n",
    "        print(value)\n",
    "\n",
    "def print_c_times(value, n=2, a=3, b=10):\n",
    "    for i in range(2):\n",
    "        print(value)\n",
    "    print('a:{}, b:{}, n{}'.format(a,b,n))\n",
    "    return a+b+n"
   ]
  },
  {
   "cell_type": "code",
   "execution_count": 155,
   "id": "67dad8bd",
   "metadata": {},
   "outputs": [
    {
     "name": "stdout",
     "output_type": "stream",
     "text": [
      "hello\n",
      "hello\n",
      "hello\n",
      "test\n",
      "test\n",
      "test\n",
      "hello\n",
      "python\n",
      "\n",
      "test\n",
      "hello\n",
      "python\n",
      "\n",
      "test\n",
      "hello\n",
      "python\n",
      "\n",
      "hello\n",
      "hello\n",
      "hello\n",
      "hello\n",
      "a:5, b:5, n2\n"
     ]
    },
    {
     "data": {
      "text/plain": [
       "12"
      ]
     },
     "execution_count": 155,
     "metadata": {},
     "output_type": "execute_result"
    }
   ],
   "source": [
    "print_3_times()\n",
    "print_n_times('test', 2)\n",
    "print_v_times(3, 'test', 'hello', 'python')\n",
    "print_d_times('hello')\n",
    "print_c_times('hello',a=5,b=5)"
   ]
  },
  {
   "cell_type": "code",
   "execution_count": 12,
   "id": "385b7da1",
   "metadata": {},
   "outputs": [],
   "source": [
    "# 계산 프로그램 작성\n",
    "# +,-*,/가 입력되면 작성, 함수\n",
    "def add(num1, num2):\n",
    "    return num1 + num2\n",
    "def sub(num1, num2):\n",
    "    return num1 - num2\n",
    "def mul(num1, num2):\n",
    "    return num1 * num2\n",
    "def div(num1, num2):\n",
    "    if num2:\n",
    "        return num / num2\n",
    "    else:\n",
    "        return 'error'   \n"
   ]
  },
  {
   "cell_type": "code",
   "execution_count": 16,
   "id": "ce53e17d",
   "metadata": {},
   "outputs": [
    {
     "name": "stdout",
     "output_type": "stream",
     "text": [
      "계산식 입력 10 + 20 = 3010 + 10\n",
      "10 + 10 = 20\n",
      "계산식 입력 10 + 20 = 30q\n"
     ]
    }
   ],
   "source": [
    "while True:\n",
    "    cal_list = input('계산식 입력 10 + 20 = 30').split()\n",
    "    if cal_list[0] == 'q':\n",
    "        break\n",
    "    if cal_list[1] == '+':\n",
    "        result = add(int(cal_list[0]),int(cal_list[2]))\n",
    "    elif cal_list[1] == '-':\n",
    "        result = sub(int(cal_list[0]),int(cal_list[2]))\n",
    "    elif cal_list[1] == '*':\n",
    "        result = mul(int(cal_list[0]),int(cal_list[2]))\n",
    "    else:\n",
    "        result = div(int(cal_list[0]),int(cal_list[2]))\n",
    "                     \n",
    "    if result == 'ERR':\n",
    "        print(\"처리 불능 \")\n",
    "    else:\n",
    "        print(\"{} {} {} = {}\".format(cal_list[0],cal_list[1],cal_list[2],\n",
    "                                     result))"
   ]
  },
  {
   "cell_type": "code",
   "execution_count": 17,
   "id": "e3ac7296",
   "metadata": {},
   "outputs": [
    {
     "name": "stdout",
     "output_type": "stream",
     "text": [
      "계산식 입력 q\n"
     ]
    }
   ],
   "source": [
    "cal_dict = {\n",
    "    '+': add, \n",
    "    '-': sub, \n",
    "    '*': mul, \n",
    "    '/': div\n",
    "}\n",
    "\n",
    "while True:\n",
    "    cal_list = input('계산식 입력 ').split()\n",
    "    if cal_list[0] == 'q':\n",
    "        break\n",
    "    if len(cal_list) != 3 or not cal_list[1] in '+-*/':\n",
    "        continue\n",
    "        \n",
    "    result = cal_dict[cal_list[1]](int(cal_list[0]),int(cal_list[2]))\n",
    "    \n",
    "    if result == 'ERR':\n",
    "        print('처리 불능')\n",
    "    else:\n",
    "        print('{} {} {} = {}'.format(cal_list[0], cal_list[1], cal_list[2], result))"
   ]
  },
  {
   "cell_type": "code",
   "execution_count": 42,
   "id": "2e8ed2ba",
   "metadata": {},
   "outputs": [],
   "source": [
    "# 이름 국어 영어 수학 점수 입력받아 딕셔너리 저장 한 후\n",
    "# 이름에 'q' 입력되면 종료\n",
    "# 1. 각 사람의 합계와 평균을 구하는 딕셔너리 추가하는 함수\n",
    "# 2. 전체 학생의 합계가 최고 점수, 최저 점수를 가진 학생의 이름과 점수\n",
    "# 3. 전체 학생의 평균 인원수 출력\n",
    "\n",
    "def input_data():\n",
    "    stud_dict = {}\n",
    "    while True:\n",
    "        name = input('이름 입력')\n",
    "        if name == 'q':\n",
    "            break\n",
    "        score = input('이름 국어 영어 수학 점수 입력 >').split()\n",
    "        if len(score) != 3:\n",
    "            continue\n",
    "        score = list(map(int,score)) #데이터 타입을 int로 변경\n",
    "        stud_dict[name] = score\n",
    "    return stud_dict\n",
    "    \n",
    "def input_tot_avg(stud_dict):\n",
    "    for key, score in stud_dict.items():\n",
    "        score.append(sum(score))\n",
    "        score.append(sum(score) / len(score))\n",
    "    return stud_dict\n",
    "\n",
    "def max_min(stud_dict):\n",
    "    name_list = []\n",
    "    tot_list = []\n",
    "    for name, score in stud_dict.items():\n",
    "        name_list.append(name)\n",
    "        tot_list.append(score[3])\n",
    "        \n",
    "        \n",
    "        max_score = max(tot_list)\n",
    "        min_score = min(tot_list)\n",
    "        for idx, score in enumerate(tot_list):\n",
    "            if max_score == score:\n",
    "                max_idx = idx\n",
    "            if min_score == score:\n",
    "                min_idx = idx\n",
    "                \n",
    "    return min_idx, max_idx, name_list\n",
    "        \n",
    "def avg_count(stud_dict):\n",
    "    tot_score = 0\n",
    "    for score in stud_dict.values():\n",
    "        tot_score += score[3]\n",
    "        return tot_score"
   ]
  },
  {
   "cell_type": "code",
   "execution_count": 43,
   "id": "3f49e701",
   "metadata": {},
   "outputs": [
    {
     "name": "stdout",
     "output_type": "stream",
     "text": [
      "이름 입력a\n",
      "이름 국어 영어 수학 점수 입력 >10 10 10\n",
      "이름 입력b\n",
      "이름 국어 영어 수학 점수 입력 >20 20 20\n",
      "이름 입력q\n",
      "max_name : b, max_score: 60, min_name: a, min_score: 30\n",
      "total_score: 30, 인원수 : 2\n"
     ]
    }
   ],
   "source": [
    "stud_dict = input_data()\n",
    "stud_dict = input_tot_avg(stud_dict)\n",
    "(min_idx, max_idx, name_list) = max_min(stud_dict)\n",
    "print('max_name : {}, max_score: {}, min_name: {}, min_score: {}'\\\n",
    "      .format(name_list[max_idx], stud_dict[name_list[max_idx]][3], \n",
    "              name_list[min_idx], stud_dict[name_list[min_idx]][3]))\n",
    "print('total_score: {}, 인원수 : {}'.format(avg_count(stud_dict), len(stud_dict)))"
   ]
  },
  {
   "cell_type": "code",
   "execution_count": 6,
   "id": "7a466f18",
   "metadata": {},
   "outputs": [
    {
     "name": "stdout",
     "output_type": "stream",
     "text": [
      "{'name': '기사', 'hp': 200, 'mp': 30, 'level': 50}\n"
     ]
    }
   ],
   "source": [
    "key_list = ['name', 'hp', 'mp', 'level']\n",
    "value_list = ['기사', 200, 30, 50]\n",
    "\n",
    "character = {}\n",
    "\n",
    "for i in range(len(key_list)):\n",
    "    character[key_list[i]] = value_list[i]\n",
    "print(character)\n"
   ]
  },
  {
   "cell_type": "code",
   "execution_count": 13,
   "id": "90c46b35",
   "metadata": {},
   "outputs": [
    {
     "name": "stdout",
     "output_type": "stream",
     "text": [
      "142 10000 10011\n"
     ]
    }
   ],
   "source": [
    "limit = 10000\n",
    "i = 1\n",
    "\n",
    "sum_value = 0\n",
    "while sum_value < limit:\n",
    "    sum_value += i\n",
    "    i += 1\n",
    "print('{} {} {}'.format(i,limit,sum_value))\n"
   ]
  },
  {
   "cell_type": "code",
   "execution_count": null,
   "id": "892c4f84",
   "metadata": {},
   "outputs": [],
   "source": []
  },
  {
   "cell_type": "code",
   "execution_count": null,
   "id": "cd94cce1",
   "metadata": {},
   "outputs": [],
   "source": []
  },
  {
   "cell_type": "code",
   "execution_count": null,
   "id": "0113095a",
   "metadata": {},
   "outputs": [],
   "source": []
  },
  {
   "cell_type": "code",
   "execution_count": null,
   "id": "d8724d02",
   "metadata": {},
   "outputs": [],
   "source": []
  },
  {
   "cell_type": "code",
   "execution_count": null,
   "id": "d2bd3914",
   "metadata": {},
   "outputs": [],
   "source": []
  }
 ],
 "metadata": {
  "kernelspec": {
   "display_name": "Python 3 (ipykernel)",
   "language": "python",
   "name": "python3"
  },
  "language_info": {
   "codemirror_mode": {
    "name": "ipython",
    "version": 3
   },
   "file_extension": ".py",
   "mimetype": "text/x-python",
   "name": "python",
   "nbconvert_exporter": "python",
   "pygments_lexer": "ipython3",
   "version": "3.9.7"
  }
 },
 "nbformat": 4,
 "nbformat_minor": 5
}
