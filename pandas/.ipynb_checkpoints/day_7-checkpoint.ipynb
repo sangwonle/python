{
 "cells": [
  {
   "cell_type": "code",
   "execution_count": 39,
   "id": "8214dbda",
   "metadata": {},
   "outputs": [],
   "source": [
    "# class 정의 class 클래스명: ~~~\n",
    "\n",
    "class Student:\n",
    "    def __init__(self, name, kor, eng, math):\n",
    "        self.name = name\n",
    "        self.kor = kor\n",
    "        self.eng = eng\n",
    "        self.math = math\n",
    "    def get_sum(self):\n",
    "        return self.kor + self.eng + self.math\n",
    "    \n",
    "    def get_avg(self):\n",
    "        return self.get_sum() / 3\n",
    "    \n",
    "    "
   ]
  },
  {
   "cell_type": "code",
   "execution_count": 40,
   "id": "f0772f7e",
   "metadata": {},
   "outputs": [
    {
     "name": "stdout",
     "output_type": "stream",
     "text": [
      "홍길동 90 100 90 280 93.33333333333333\n"
     ]
    }
   ],
   "source": [
    "student = Student('홍길동', 90, 100, 90)\n",
    "print(student.name, student.kor, student.eng, student.math, student.get_sum(), student.get_avg())\n",
    "\n",
    "\n"
   ]
  },
  {
   "cell_type": "code",
   "execution_count": 60,
   "id": "fcb1cf0a",
   "metadata": {},
   "outputs": [],
   "source": [
    "student = [\n",
    "    Student('홍길동', 90, 100, 80),\n",
    "    Student('개나리', 90, 100, 49),\n",
    "    Student('홍길순', 90, 100, 19),\n",
    "    Student('철수', 90, 100, 35),\n",
    "\n",
    "]"
   ]
  },
  {
   "cell_type": "code",
   "execution_count": 129,
   "id": "5314f04d",
   "metadata": {},
   "outputs": [],
   "source": [
    "class Student:\n",
    "    students = []\n",
    "    def __init__(self, name, kor, eng, math):\n",
    "        self.name = name\n",
    "        self.kor = kor\n",
    "        self.eng = eng\n",
    "        self.math = math\n",
    "        \n",
    "        Student.students.append(self)\n",
    "        \n",
    "    def get_sum(self):\n",
    "        return self.kor + self.eng + self.math\n",
    "    \n",
    "    def get_avg(self):\n",
    "        return self.get_sum() / 3\n",
    "    "
   ]
  },
  {
   "cell_type": "code",
   "execution_count": 130,
   "id": "4863230c",
   "metadata": {},
   "outputs": [
    {
     "name": "stdout",
     "output_type": "stream",
     "text": [
      "홍길동\n",
      "개나리\n",
      "홍길순\n",
      "철수\n"
     ]
    }
   ],
   "source": [
    "\n",
    "Student('홍길동', 90, 100, 80)\n",
    "Student('개나리', 90, 100, 49)\n",
    "Student('홍길순', 90, 100, 19)\n",
    "Student('철수', 90, 100, 35)\n",
    "\n",
    "for stu in Student.students:\n",
    "    print(stu.name)"
   ]
  },
  {
   "cell_type": "code",
   "execution_count": 122,
   "id": "e37495f8",
   "metadata": {},
   "outputs": [],
   "source": [
    "# private 변수\n",
    "\n",
    "class Circle:\n",
    "    def __init__(self, radius):\n",
    "        self.__radius = radius # private 변수\n",
    "        \n",
    "    def get_area(self):\n",
    "        return self.__radius * self.__radius\n",
    "    # getter\n",
    "    def get_radius(self):\n",
    "        return self.__radius\n",
    "    # setter\n",
    "    def set_radius(self, value):\n",
    "        self.__radius = value"
   ]
  },
  {
   "cell_type": "code",
   "execution_count": 135,
   "id": "ba47797f",
   "metadata": {},
   "outputs": [],
   "source": [
    "# private 변수\n",
    "\n",
    "class Circle:\n",
    "    def __init__(self, radius):\n",
    "        self.__radius = radius # private 변수\n",
    "        \n",
    "    def get_area(self):\n",
    "        return self.__radius * self._radius\n",
    "    @property\n",
    "    def radius(self):\n",
    "        return self.__radius\n",
    "    \n",
    "    # getter\n",
    "    # def get_radius(self):\n",
    "    # return self.__radius\n",
    "    \n",
    "    # setter\n",
    "    @radius.setter\n",
    "    # def set_radius(self, value):\n",
    "    def radius(self, value):\n",
    "        self.__radius = value"
   ]
  },
  {
   "cell_type": "code",
   "execution_count": 141,
   "id": "251659a5",
   "metadata": {},
   "outputs": [
    {
     "name": "stdout",
     "output_type": "stream",
     "text": [
      "circle.radius :  10\n"
     ]
    }
   ],
   "source": [
    "circle = Circle(10)\n",
    "\n",
    "circle.__radius = 100\n",
    "# print('circle.radius : ', circle.get_radius())\n",
    "print('circle.radius : ', circle.radius)"
   ]
  },
  {
   "cell_type": "code",
   "execution_count": 125,
   "id": "035b3fd6",
   "metadata": {},
   "outputs": [
    {
     "name": "stdout",
     "output_type": "stream",
     "text": [
      "circle.radius :  20\n"
     ]
    }
   ],
   "source": [
    "circle.set_radius(20)\n",
    "print('circle.radius : ', circle.get_radius())"
   ]
  },
  {
   "cell_type": "code",
   "execution_count": 142,
   "id": "1403b694",
   "metadata": {},
   "outputs": [
    {
     "data": {
      "text/plain": [
       "10"
      ]
     },
     "execution_count": 142,
     "metadata": {},
     "output_type": "execute_result"
    }
   ],
   "source": [
    "circle.radius"
   ]
  },
  {
   "cell_type": "code",
   "execution_count": 155,
   "id": "52cad55f",
   "metadata": {},
   "outputs": [],
   "source": [
    "#  상속 : 부모의 속성을 상속\n",
    "class Parent:\n",
    "    def __init__(self):\n",
    "        self.value = '테스트'\n",
    "        print('Parent class init')\n",
    "        \n",
    "    def test(self):\n",
    "        print('Parent test 함수 : ')\n",
    "\n",
    "class Child(Parent): # 상속 클래스 정의 : class 클래스명(상속 받을 클래스 명)\n",
    "    def __init__(self):\n",
    "        Parent.__init__(self)\n",
    "        print('Child class init')\n",
    "        \n",
    "    def child_test(self):\n",
    "        print('child test 함수 : ')\n",
    "        \n",
    "    def test(self):\n",
    "        print('child test() 재정의 : ')\n",
    "    \n",
    "        "
   ]
  },
  {
   "cell_type": "code",
   "execution_count": null,
   "id": "c64ecb2e",
   "metadata": {},
   "outputs": [],
   "source": [
    "# parent = Parent()\n",
    "# print(parent.value, parent.test())\n",
    "\n",
    "child = Child()\n",
    "child.value\n",
    "child.test()\n",
    "child.child_test()\n",
    "child.test()"
   ]
  },
  {
   "cell_type": "code",
   "execution_count": 166,
   "id": "320cc94e",
   "metadata": {},
   "outputs": [],
   "source": [
    "#  상속 : 부모의 속성을 상속\n",
    "class Parent1:\n",
    "    def __init__(self):\n",
    "        self.value1 = '테스트'\n",
    "        print('Parent1 class init')\n",
    "        \n",
    "    def test(self):\n",
    "        print('Parent1 test 함수 : ')\n",
    "\n",
    "class Parent2:\n",
    "    def __init__(self):\n",
    "        self.value2 = '테스트1'\n",
    "        print('Parent2 class init')\n",
    "        \n",
    "    def test1(self):\n",
    "        print('Parent2 test 함수 : ')\n",
    "        \n",
    "\n",
    "class Child(Parent1, Parent2): # 상속 클래스 정의 : class 클래스명(상속 받을 클래스 명)\n",
    "    def __init__(self):\n",
    "        Parent1.__init__(self)\n",
    "        Parent2.__init__(self)\n",
    "        print('Child class init')\n",
    "        \n",
    "    def child_test(self):\n",
    "        print('child test 함수 : ')\n",
    "        \n",
    "    def test(self):\n",
    "        print('child test() 재정의 : ')\n",
    "    \n",
    "        "
   ]
  },
  {
   "cell_type": "code",
   "execution_count": 167,
   "id": "71610fa6",
   "metadata": {},
   "outputs": [
    {
     "name": "stdout",
     "output_type": "stream",
     "text": [
      "Parent1 class init\n",
      "Parent2 class init\n",
      "Child class init\n"
     ]
    }
   ],
   "source": [
    "# parent = Parent()\n",
    "# print(parent.value, parent.test())\n",
    "\n",
    "child = Child()\n"
   ]
  },
  {
   "cell_type": "code",
   "execution_count": null,
   "id": "8937e5fa",
   "metadata": {},
   "outputs": [],
   "source": [
    "# 파이썬의 기본\n",
    "# 데이터 타입 : 문자, 숫자, 불리언\n",
    "\n",
    "# 선택 : if ~ elif ~ else\n",
    "\n",
    "# 반복 : for 변수 in 반복:\n",
    "#       while 표현식 : True 이면 실행\n",
    "#         중간 탈출 break, 계속 진행은 continue\n",
    "\n",
    "# 여러개의 값을 저정 : \n",
    "# list -> 접근방법 index -> [0]\n",
    "\n",
    "# a = [1,2,3,4] 선언 -> a[start : end]-> start는 포함, end 포함 안함\n",
    "# dictionary -> {key : value,....} -> 접근은 dict[key]\n",
    "\n",
    "# 함수 : def 함수명(매개변수, ...): return 값, ....\n",
    "# 기본값(sep=''), 가변값(*value) => 가변값, 기본값 순서로 정의\n",
    "# 함수의 실행 : 함수명(값, ...)\n",
    "\n",
    "# 모듈 : import 모듈명, from 모듈(또는 패키지) improt 모듈명, 변수 as alise명 사용\n",
    "\n",
    "# 클래스 :  변수와 함수를 모와서 정의 class 클래스명: def __init__():\n",
    "#    클래스 변수, 클래스 함수, 프라이빗 변수, __함수명__(), 상속\n",
    "\n",
    "\n",
    "\n"
   ]
  },
  {
   "cell_type": "code",
   "execution_count": null,
   "id": "b0e23c42",
   "metadata": {},
   "outputs": [],
   "source": []
  },
  {
   "cell_type": "code",
   "execution_count": null,
   "id": "e56ce896",
   "metadata": {},
   "outputs": [],
   "source": []
  },
  {
   "cell_type": "code",
   "execution_count": null,
   "id": "c12afe70",
   "metadata": {},
   "outputs": [],
   "source": []
  },
  {
   "cell_type": "code",
   "execution_count": null,
   "id": "340960aa",
   "metadata": {},
   "outputs": [],
   "source": []
  },
  {
   "cell_type": "code",
   "execution_count": null,
   "id": "657084a2",
   "metadata": {},
   "outputs": [],
   "source": []
  },
  {
   "cell_type": "code",
   "execution_count": null,
   "id": "590fdd23",
   "metadata": {},
   "outputs": [],
   "source": []
  },
  {
   "cell_type": "code",
   "execution_count": null,
   "id": "9531c045",
   "metadata": {},
   "outputs": [],
   "source": []
  },
  {
   "cell_type": "code",
   "execution_count": null,
   "id": "1f44b321",
   "metadata": {},
   "outputs": [],
   "source": []
  },
  {
   "cell_type": "code",
   "execution_count": null,
   "id": "25b3f6c3",
   "metadata": {},
   "outputs": [],
   "source": []
  },
  {
   "cell_type": "code",
   "execution_count": null,
   "id": "d21a6062",
   "metadata": {},
   "outputs": [],
   "source": []
  },
  {
   "cell_type": "code",
   "execution_count": null,
   "id": "503912af",
   "metadata": {},
   "outputs": [],
   "source": []
  }
 ],
 "metadata": {
  "kernelspec": {
   "display_name": "Python 3 (ipykernel)",
   "language": "python",
   "name": "python3"
  },
  "language_info": {
   "codemirror_mode": {
    "name": "ipython",
    "version": 3
   },
   "file_extension": ".py",
   "mimetype": "text/x-python",
   "name": "python",
   "nbconvert_exporter": "python",
   "pygments_lexer": "ipython3",
   "version": "3.9.7"
  }
 },
 "nbformat": 4,
 "nbformat_minor": 5
}
