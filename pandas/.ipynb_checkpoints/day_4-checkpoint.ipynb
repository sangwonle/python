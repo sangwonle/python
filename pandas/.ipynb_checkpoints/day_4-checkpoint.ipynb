{
 "cells": [
  {
   "cell_type": "code",
   "execution_count": 31,
   "id": "828f3be3",
   "metadata": {},
   "outputs": [],
   "source": [
    "# 팩토리ㄹ 함수 구현\n",
    "output = 1\n",
    "def factorial(n):\n",
    "    global output\n",
    "    output = 1\n",
    "    for i in range(1, n + 1):\n",
    "        output *= i\n",
    "    return output"
   ]
  },
  {
   "cell_type": "code",
   "execution_count": 33,
   "id": "7a465201",
   "metadata": {},
   "outputs": [
    {
     "name": "stdout",
     "output_type": "stream",
     "text": [
      "120\n"
     ]
    }
   ],
   "source": [
    "print(factorial(5)) # factorial 실행"
   ]
  },
  {
   "cell_type": "code",
   "execution_count": 24,
   "id": "ba6c3a36",
   "metadata": {},
   "outputs": [],
   "source": [
    "# 팩토리ㄹ 함수 구현\n",
    "\n",
    "def factorial1(n):\n",
    "    #n이 0이면 1을 return 아니면 n*f(n-1)\n",
    "    if n == 0:\n",
    "        return 1\n",
    "    else:\n",
    "        return n * factorial1(n-1)"
   ]
  },
  {
   "cell_type": "code",
   "execution_count": 25,
   "id": "560f7402",
   "metadata": {},
   "outputs": [
    {
     "name": "stdout",
     "output_type": "stream",
     "text": [
      "120\n"
     ]
    }
   ],
   "source": [
    "print(factorial1(5))"
   ]
  },
  {
   "cell_type": "code",
   "execution_count": 29,
   "id": "5133e5d4",
   "metadata": {},
   "outputs": [],
   "source": [
    "# 피보나치 수열 -> f(n) = f(n-1) + f(n-2) n == 1, n == 2\n",
    "\n",
    "def fibo(n):\n",
    "    global count\n",
    "    count += 1\n",
    "    if n == 1 or n == 2:\n",
    "        return 1\n",
    "    else:\n",
    "        return fibo(n-1) + fibo(n-2)"
   ]
  },
  {
   "cell_type": "code",
   "execution_count": 42,
   "id": "3764de1e",
   "metadata": {},
   "outputs": [
    {
     "name": "stdout",
     "output_type": "stream",
     "text": [
      "55\n",
      "count :  109\n"
     ]
    }
   ],
   "source": [
    "count = 0\n",
    "print(fibo(10))\n",
    "print('count : ', count)"
   ]
  },
  {
   "cell_type": "code",
   "execution_count": 50,
   "id": "c2ef0ad5",
   "metadata": {},
   "outputs": [],
   "source": [
    "# 피보나치 수열 -> f(n) = f(n-1) + f(n-2) n == 1, n == 2\n",
    "dict_list = {1:1,2:1}\n",
    "def fibo_m(n):\n",
    "    global count\n",
    "    count += 1 # 계산횟수 증가\n",
    "    \n",
    "    if n in dict_list: # 메모화 되어 있으면 메모된 값을 사용\n",
    "        return dict_list[n]\n",
    "    else:              # 아니면 메모화 시킴\n",
    "        output = fibo_m(n-1) + fibo_m(n-2)\n",
    "        dict_list[n] = output\n",
    "        return output\n"
   ]
  },
  {
   "cell_type": "code",
   "execution_count": 51,
   "id": "d31970bc",
   "metadata": {},
   "outputs": [
    {
     "name": "stdout",
     "output_type": "stream",
     "text": [
      "55\n",
      "count :  17\n",
      "{1: 1, 2: 1, 3: 2, 4: 3, 5: 5, 6: 8, 7: 13, 8: 21, 9: 34, 10: 55}\n"
     ]
    }
   ],
   "source": [
    "count = 0\n",
    "print(fibo_m(10))\n",
    "print('count : ', count)\n",
    "print(dict_list)"
   ]
  },
  {
   "cell_type": "code",
   "execution_count": 59,
   "id": "1b964f70",
   "metadata": {},
   "outputs": [
    {
     "name": "stdout",
     "output_type": "stream",
     "text": [
      "10\n",
      "20\n",
      "30\n",
      "10\n",
      "a:10, b:20, c:30\n",
      "before -> a:10, b:20\n",
      "after -> a:20, b:10\n"
     ]
    }
   ],
   "source": [
    "# tuple : 수정할 수 없는 자료 ()\n",
    "tuple_test = (10,20,30)\n",
    "\n",
    "for value in tuple_test:\n",
    "    print(value)\n",
    "\n",
    "print(tuple_test[0])\n",
    "\n",
    "a,b,c = 10,20,30\n",
    "print('a:{}, b:{}, c:{}'.format(a,b,c))\n",
    "\n",
    "a,b = 10,20\n",
    "print('before -> a:{}, b:{}'.format(a,b))\n",
    "a,b = b,a # a와 b의 값이 바뀐다\n",
    "print('after -> a:{}, b:{}'.format(a,b))"
   ]
  },
  {
   "cell_type": "code",
   "execution_count": 61,
   "id": "431d039b",
   "metadata": {},
   "outputs": [
    {
     "name": "stdout",
     "output_type": "stream",
     "text": [
      "0번째 값 : 1\n",
      "1번째 값 : 2\n",
      "2번째 값 : 3\n",
      "3번째 값 : 4\n",
      "4번째 값 : 5\n",
      "88 / 3 = 29, 1\n"
     ]
    }
   ],
   "source": [
    "for idx, value in enumerate([1,2,3,4,5]): # 튜플을 리턴하는 함수 enumerate\n",
    "    print('{}번째 값 : {}'.format(idx,value))\n",
    "    \n",
    "a, b = divmod(88,3)\n",
    "print('88 / 3 = {}, {}'.format(a,b))"
   ]
  },
  {
   "cell_type": "code",
   "execution_count": 69,
   "id": "8194a54c",
   "metadata": {},
   "outputs": [
    {
     "name": "stdout",
     "output_type": "stream",
     "text": [
      "[1, 4, 9, 16, 25, 36]\n",
      "[1, 2]\n"
     ]
    }
   ],
   "source": [
    "# map 와 filter 함수 => map(함수,리스트), filter(함수, 리스트)\n",
    "# def power(n):\n",
    "#     return n * n\n",
    "# def under_3(n):\n",
    "#     return n < 3\n",
    "#     if n < 3:\n",
    "#         return n\n",
    "\n",
    "# lambda 함수로 변경 -> lambda 매개변수 : 리턴값\n",
    "power = lambda x: x*x\n",
    "under_3 = lambda x: x < 3\n",
    "\n",
    "\n",
    "a_list = [1,2,3,4,5,6]\n",
    "b_list = list(map(power, a_list))\n",
    "print(b_list)\n",
    "c_list = list(filter(under_3, a_list))\n",
    "print(c_list)"
   ]
  },
  {
   "cell_type": "code",
   "execution_count": 71,
   "id": "d5de49b4",
   "metadata": {},
   "outputs": [
    {
     "data": {
      "text/plain": [
       "[1, 4, 9, 16, 25, 36]"
      ]
     },
     "execution_count": 71,
     "metadata": {},
     "output_type": "execute_result"
    }
   ],
   "source": [
    "b_list = list(map(lambda x: x*x, a_list))\n",
    "b_list"
   ]
  },
  {
   "cell_type": "code",
   "execution_count": 72,
   "id": "ec6c98fe",
   "metadata": {},
   "outputs": [
    {
     "data": {
      "text/plain": [
       "[1, 2]"
      ]
     },
     "execution_count": 72,
     "metadata": {},
     "output_type": "execute_result"
    }
   ],
   "source": [
    "c_list = list(filter(lambda x: x < 3, a_list))\n",
    "c_list"
   ]
  },
  {
   "cell_type": "code",
   "execution_count": 73,
   "id": "d9eb8e6a",
   "metadata": {},
   "outputs": [],
   "source": [
    "# file 처리 : open, close, write, read.....\n",
    "file = open('a,txt', 'w')\n",
    "file.write('hello python file write !!')\n",
    "file.close()"
   ]
  },
  {
   "cell_type": "code",
   "execution_count": 74,
   "id": "2a359234",
   "metadata": {},
   "outputs": [
    {
     "name": "stdout",
     "output_type": "stream",
     "text": [
      "hello python file write !!\n"
     ]
    }
   ],
   "source": [
    "# file 처리 : open, close, write, read.....\n",
    "file = open('a,txt', 'r')\n",
    "print(file.read())\n",
    "file.close()"
   ]
  },
  {
   "cell_type": "code",
   "execution_count": 79,
   "id": "4f001e5a",
   "metadata": {},
   "outputs": [],
   "source": [
    "# 파일을 자동으로 close() 시킴\n",
    "with open('a.txt', 'w') as file:\n",
    "    file.write('with python file open\\n')\n",
    "    file.write('with python file open\\n')\n",
    "    file.write('with python file open')\n",
    "    \n",
    "# file_data = file.read() # error\n",
    "\n"
   ]
  },
  {
   "cell_type": "code",
   "execution_count": 80,
   "id": "417293fa",
   "metadata": {},
   "outputs": [
    {
     "name": "stdout",
     "output_type": "stream",
     "text": [
      "with python file open\n",
      "\n",
      "with python file open\n",
      "\n",
      "with python file open\n"
     ]
    }
   ],
   "source": [
    "# 저장된 파일의 내용을 라인 단위로 읽어옴\n",
    "with open('a.txt', 'r') as file:\n",
    "    for line in file:\n",
    "        print(line)"
   ]
  },
  {
   "cell_type": "code",
   "execution_count": 84,
   "id": "faf390a5",
   "metadata": {},
   "outputs": [
    {
     "name": "stdout",
     "output_type": "stream",
     "text": [
      "이름 성적 입력 > 홍길동 90\n",
      "홍길동 : 90\n"
     ]
    }
   ],
   "source": [
    "# 키보드에서 이름 성적을 입력받아 파일에 저장\n",
    "with open('score.txt', 'w') as file:\n",
    "    name, score = input('이름 성적 입력 > ').split()\n",
    "    file.write(name + ',' + score)\n",
    "        \n",
    "with open('score.txt', 'r') as file:\n",
    "    for line in file:\n",
    "        name, score = line.split(',')\n",
    "        print(name, ':', score)"
   ]
  },
  {
   "cell_type": "code",
   "execution_count": 86,
   "id": "648e56de",
   "metadata": {},
   "outputs": [
    {
     "name": "stdout",
     "output_type": "stream",
     "text": [
      "이름 성적 입력 > 홍길동 100\n",
      "홍길동 : 100\n"
     ]
    }
   ],
   "source": [
    "file = open('score.txt', 'w+') # w, a, r\n",
    "name, score = input('이름 성적 입력 > ').split()\n",
    "file.write(name + ',' + score + '\\n')\n",
    "\n",
    "file.seek(0,0) # 파일의 처음 위치로 이동\n",
    "for line in file:\n",
    "    name, score = line.split(',')\n",
    "    print(name, ':', score)\n",
    "file.close()"
   ]
  },
  {
   "cell_type": "code",
   "execution_count": null,
   "id": "11c592af",
   "metadata": {},
   "outputs": [],
   "source": [
    "# 이름, 국어, 영어, 수학 성적을 입력 받아 파일에 저장한 후 file_write()\n",
    "# 검색 할 이름을 입력 받아 파일에서 데이터 검색  file_search()\n",
    "# 검색한 이름과 성적 출력\n",
    "# 전체 학생의 인원수와 총점 평균을 구함 file_total()"
   ]
  },
  {
   "cell_type": "code",
   "execution_count": 132,
   "id": "00f3b715",
   "metadata": {},
   "outputs": [],
   "source": [
    "# file_write() : 입력된 자료를 파일에 저장\n",
    "def file_write(file):\n",
    "    while True:\n",
    "        name = input('이름 입력 >')\n",
    "        if name == 'q':\n",
    "            return\n",
    "        # 30 40 50 -> 문자열 분리 후 \"30,40,50\" 의 형식으로 join \n",
    "        score = ','.join(input('점수 3과목 입력 >').split())\n",
    "        file.write(name + ',' + score + '\\n') # txt ,로 이름과 점수 들여쓰기 저장\n",
    "\n",
    "# 검색할 이름의 점수 출력 \n",
    "def file_search(file):\n",
    "    s_name = input('검색할 이름 입력 > ')\n",
    "    file.seek(0,0) # 파일의 처음 위치로 이동\n",
    "    for line in file:\n",
    "        f_data = line.split(',') # f_data = ['name','90','80','100']\n",
    "        if f_data[0] == s_name:\n",
    "            return s_name, f_data[1:]\n",
    "    return None, None\n",
    "\n",
    "def file_total(file):\n",
    "    total = 0\n",
    "    count = 0\n",
    "    file.seek(0,0)\n",
    "    for line in file:\n",
    "        line_data = line.split(',')\n",
    "        count += 1\n",
    "        # f_score = list(map(lambda x: int(x),[x for x in f_data[1:]]))\n",
    "        total += sum(list([int(x) for x in line_data[1:]]))\n",
    "    return total, count\n",
    "        \n",
    "        \n"
   ]
  },
  {
   "cell_type": "code",
   "execution_count": 130,
   "id": "8052d621",
   "metadata": {},
   "outputs": [
    {
     "name": "stdout",
     "output_type": "stream",
     "text": [
      "이름 입력 >q\n"
     ]
    }
   ],
   "source": [
    "# file open 키보드 입력\n",
    "file = open('score.txt', 'a+')\n",
    "file_write(file) # file write\n"
   ]
  },
  {
   "cell_type": "code",
   "execution_count": 133,
   "id": "d3d7c242",
   "metadata": {
    "scrolled": true
   },
   "outputs": [
    {
     "name": "stdout",
     "output_type": "stream",
     "text": [
      "검색할 이름 입력 > 뷰\n",
      "뷰의 성적은 20, 20, 20\n",
      "\n",
      "총 인원수 : 6\t 총 점 : 390.00,  평 균 : 65.00\n"
     ]
    }
   ],
   "source": [
    "# 이름 검색하여 점수 출력\n",
    "name, score = file_search(file) # 이름 점수\n",
    "if name:\n",
    "    print('{}의 성적은 {}, {}, {}'.format(name, score[0],score[1],score[2]))\n",
    "else:\n",
    "    print('검색된 자료 없음')\n",
    "    \n",
    "total, count = file_total(file) # 총점, 인원수\n",
    "print(\"총 인원수 : {}\\t 총 점 : {:5.2f},  평 균 : {:5.2f}\".format(count,\n",
    "                                              total, total/count))\n",
    "file.close()"
   ]
  },
  {
   "cell_type": "code",
   "execution_count": 155,
   "id": "ae44acdf",
   "metadata": {},
   "outputs": [
    {
     "name": "stdout",
     "output_type": "stream",
     "text": [
      "first call function\n",
      "second call function\n",
      "함수 호출\n",
      "test\n",
      "next ------\n",
      "함수 222\n",
      "2222\n"
     ]
    }
   ],
   "source": [
    "# 제너레이터 함수 : next(함수명),, 함수 내부에 return 대신 yield 사용\n",
    "\n",
    "def test():\n",
    "    print('함수 호출')\n",
    "    yield 'test'\n",
    "    \n",
    "    print('함수 222')\n",
    "    yield '2222'\n",
    "\n",
    "# 함수 호출\n",
    "print('first call function')\n",
    "test() # 제너레이터 함수는 일반적인 호출로 실행이 안됨\n",
    "\n",
    "print('second call function')\n",
    "test()\n",
    "\n",
    "file_name = test()\n",
    "a = next(file_name)\n",
    "print(a)\n",
    "print('next ------')\n",
    "b = next(file_name)\n",
    "print(b)"
   ]
  },
  {
   "cell_type": "code",
   "execution_count": 177,
   "id": "0337b268",
   "metadata": {},
   "outputs": [
    {
     "name": "stdout",
     "output_type": "stream",
     "text": [
      "홀수만 출력\n",
      "[1, 3, 5, 7, 9]\n",
      "3 이상 7 미만\n",
      "[3, 4, 5, 6]\n",
      "제곱해서 50미만 추출하기\n",
      "[1, 2, 3, 4, 5, 6, 7]\n"
     ]
    }
   ],
   "source": [
    "numbers = list(range(1, 10 + 1))\n",
    "\n",
    "print('홀수만 출력')\n",
    "print(list(filter(lambda x : x % 2, numbers)))\n",
    "\n",
    "print('3 이상 7 미만')\n",
    "print(list(filter(lambda x : 3 <= x < 7, numbers)))\n",
    "\n",
    "print('제곱해서 50미만 추출하기')\n",
    "print(list(filter(lambda x : x * x < 50, numbers)))"
   ]
  },
  {
   "cell_type": "code",
   "execution_count": 180,
   "id": "fc5060ca",
   "metadata": {},
   "outputs": [
    {
     "name": "stdout",
     "output_type": "stream",
     "text": [
      "정수 입력 >ㅁ\n",
      "입력 오류입니다.\n"
     ]
    }
   ],
   "source": [
    "# try ~ except 예외상황 발생 시 처리\n",
    "\n",
    "try:\n",
    "    input_number = int(input('정수 입력 >'))\n",
    "    \n",
    "    print('원의 반지름', input_number)\n",
    "    print('원의 둘레', input_number * 3.14 * 2)\n",
    "    print('원의 넓이', input_number * 3.14)\n",
    "except:\n",
    "    print('입력 오류입니다.')\n",
    "    "
   ]
  },
  {
   "cell_type": "code",
   "execution_count": 2,
   "id": "664f7b26",
   "metadata": {},
   "outputs": [
    {
     "name": "stdout",
     "output_type": "stream",
     "text": [
      "['52', '354', '234', 'test', '11', '55', [...]]\n",
      "['52', '354', '234', '11', '55'] ['52', '354', '234', 'test', '11', '55', [...]]\n"
     ]
    }
   ],
   "source": [
    "# try except : pass\n",
    "\n",
    "list_data = ['52', '354', '234', 'test', '11', '55']\n",
    "\n",
    "# 숫자만 리스트에 추가\n",
    "\n",
    "list_number = []\n",
    "\n",
    "for item in list_data:\n",
    "    try: # 에러 발생 가능 코드 구현\n",
    "        float(item) # 숫자는 float으로 변환\n",
    "    except: # 에러 발생 시 실현하고자 하는 코드 구현\n",
    "        pass\n",
    "    else: # 에러 발생이 없을 때 코드 구현\n",
    "        list_number.append(item)\n",
    "print(list_number, item)"
   ]
  },
  {
   "cell_type": "code",
   "execution_count": 191,
   "id": "f958fa85",
   "metadata": {},
   "outputs": [
    {
     "name": "stdout",
     "output_type": "stream",
     "text": [
      "정수 입력 >20\n",
      "원의 반지름 20\n",
      "원의 둘레 125.60000000000001\n",
      "원의 넓이 62.800000000000004\n",
      "프로그램 종료!!\n"
     ]
    }
   ],
   "source": [
    "# try excep else finally\n",
    "\n",
    "try:\n",
    "    input_number = int(input('정수 입력 >'))\n",
    "    print('원의 반지름', input_number)\n",
    "    print('원의 둘레', input_number * 3.14 * 2)\n",
    "    print('원의 넓이', input_number * 3.14)\n",
    "except:\n",
    "    pass\n",
    "else:\n",
    "    print('프로그램 종료!!')\n",
    "    \n",
    "    "
   ]
  },
  {
   "cell_type": "code",
   "execution_count": 193,
   "id": "90b5624e",
   "metadata": {},
   "outputs": [
    {
     "name": "stdout",
     "output_type": "stream",
     "text": [
      "work 함수 시작!!\n",
      "work try start\n",
      "finlly 구문\n"
     ]
    }
   ],
   "source": [
    "def work():\n",
    "    print('work 함수 시작!!')\n",
    "    try:\n",
    "        print('work try start')\n",
    "        return\n",
    "        print('try 구분 retrun 다음 문장')\n",
    "    except:\n",
    "        print('except 구문')\n",
    "    finally: # 무조건 실행 \n",
    "        print('finlly 구문')\n",
    "    print('work 함수 end!!!')\n",
    "work()"
   ]
  },
  {
   "cell_type": "code",
   "execution_count": 194,
   "id": "ddacfef9",
   "metadata": {},
   "outputs": [
    {
     "name": "stdout",
     "output_type": "stream",
     "text": [
      "while 함수 시작!!\n",
      "while try start\n",
      "finlly 구문\n"
     ]
    }
   ],
   "source": [
    "while True:\n",
    "    print('while 함수 시작!!')\n",
    "    try:\n",
    "        print('while try start')\n",
    "        break\n",
    "        print('try 구분 break 다음 문장')\n",
    "    except:\n",
    "        print('except 구문')\n",
    "    finally: # 무조건 실행 \n",
    "        print('finlly 구문')\n",
    "    print('while 함수 end!!!')"
   ]
  },
  {
   "cell_type": "code",
   "execution_count": 209,
   "id": "f884a9db",
   "metadata": {},
   "outputs": [
    {
     "name": "stdout",
     "output_type": "stream",
     "text": [
      "정수 입력 >112dsfasf\n",
      "정수를 입력하세요. invalid literal for int() with base 10: '112dsfasf'\n"
     ]
    }
   ],
   "source": [
    "# 여러가지 에러 발생 시 에러 종류별로 처리하는 방법\n",
    "list_number = [52, 354, 234, 11 , 55]\n",
    "try:\n",
    "    input_number = int(input('정수 입력 >'))\n",
    "    # 리스트의 요소 출력\n",
    "    print('{}번째 요소 : {}'.format(input_number, list_number[input_number]))\n",
    "except ValueError as ex:\n",
    "    print('정수를 입력하세요.', ex)\n",
    "except IndexError as ex:\n",
    "    print('리스트의 인덱스 범위 오류', ex)\n",
    "    \n",
    "except Exception as ex:\n",
    "    print('알 수 없는 오류 발생!!', ex)\n",
    "    \n",
    "    \n",
    "    \n",
    "    "
   ]
  },
  {
   "cell_type": "code",
   "execution_count": null,
   "id": "721f3933",
   "metadata": {},
   "outputs": [],
   "source": [
    "# 강제로 에러 발생\n",
    "number = int(input('정수 입력 >'))\n",
    "if number > 0:\n",
    "    # 양수일 때 아직 미구현 상태\n",
    "    raise NotImplemented\n",
    "    pass\n",
    "else:\n",
    "    # 미구현 상태\n",
    "    raise NotImplementedError"
   ]
  },
  {
   "cell_type": "code",
   "execution_count": null,
   "id": "313c788d",
   "metadata": {},
   "outputs": [],
   "source": [
    "# 이름 전화번호를 파일에 저장하는 프로그램 작성\n",
    "# 파일 이름은 dataset/telno.txt, 기존에 파일이 존재하면 데이터 추가\n",
    "# 전화번호 입력은 숫자 3개를 입력받아 123-456-123 형식 저장\n",
    "# 이름과 전화번호는 ' '분리해서 저장\n",
    "# 저장이 끝아면 파일을 닫고\n",
    "# 다시 파일을 열어서 ->'r'\n",
    "# 파일의 내용을 화면에 출력\n",
    "# -- 홍길동 123-344-123\n",
    "# try except finally 사용해서 작성하기"
   ]
  },
  {
   "cell_type": "code",
   "execution_count": 248,
   "id": "45b55705",
   "metadata": {},
   "outputs": [],
   "source": [
    "def file_open(file_name, file_mode):\n",
    "    try:\n",
    "        file = open(file_name, file_mode)\n",
    "        return file\n",
    "    except Exception as ex:\n",
    "        print('file open error', ex)\n",
    "    \n",
    "    \n",
    "def file_write(file):\n",
    "    try:\n",
    "        while True:\n",
    "            name = input('이름 입력 > ')\n",
    "            if name == 'q':\n",
    "                break\n",
    "            tel_no = '-'.join(input('전화번호 입력 > ').split())\n",
    "            file.write(name + ' ' + tel_no +'\\n')\n",
    "            \n",
    "    except Exception as ex:\n",
    "        print('file_write error', ex)\n",
    "    finally:\n",
    "        file.close()\n",
    "        \n",
    "def file_read(file):\n",
    "    try:\n",
    "        for line in file:\n",
    "            name, telno = line.split()\n",
    "            print('{}의 전화번호는 {}'.format(name, telno))\n",
    "    except Exception as ex:\n",
    "        print('file_read error', ex)\n",
    "    finally:\n",
    "        file.close()\n",
    "\n",
    "        \n",
    "    \n",
    "    "
   ]
  },
  {
   "cell_type": "code",
   "execution_count": 249,
   "id": "450b1f9e",
   "metadata": {},
   "outputs": [
    {
     "name": "stdout",
     "output_type": "stream",
     "text": [
      "이름 입력 > 홍길동\n",
      "전화번호 입력 > 123 123 123\n",
      "이름 입력 > 홍신\n",
      "전화번호 입력 > 123 1234 1234\n",
      "이름 입력 > 호이\n",
      "전화번호 입력 > 123 123 123\n",
      "이름 입력 > q\n",
      "홍길동의 전화번호는 123-123-123\n",
      "홍신의 전화번호는 123-1234-1234\n",
      "호이의 전화번호는 123-123-123\n"
     ]
    }
   ],
   "source": [
    "file_name = 'telno.txt'\n",
    "file = file_open(file_name, 'a+')\n",
    "file_write(file)\n",
    "file = file_open(file_name, 'r')\n",
    "file_read(file)"
   ]
  },
  {
   "cell_type": "code",
   "execution_count": null,
   "id": "823e1007",
   "metadata": {},
   "outputs": [],
   "source": []
  },
  {
   "cell_type": "code",
   "execution_count": null,
   "id": "5bfbf020",
   "metadata": {},
   "outputs": [],
   "source": []
  },
  {
   "cell_type": "code",
   "execution_count": null,
   "id": "e5ef273b",
   "metadata": {},
   "outputs": [],
   "source": []
  },
  {
   "cell_type": "code",
   "execution_count": null,
   "id": "a7a08711",
   "metadata": {},
   "outputs": [],
   "source": []
  }
 ],
 "metadata": {
  "kernelspec": {
   "display_name": "Python 3 (ipykernel)",
   "language": "python",
   "name": "python3"
  },
  "language_info": {
   "codemirror_mode": {
    "name": "ipython",
    "version": 3
   },
   "file_extension": ".py",
   "mimetype": "text/x-python",
   "name": "python",
   "nbconvert_exporter": "python",
   "pygments_lexer": "ipython3",
   "version": "3.9.7"
  }
 },
 "nbformat": 4,
 "nbformat_minor": 5
}
