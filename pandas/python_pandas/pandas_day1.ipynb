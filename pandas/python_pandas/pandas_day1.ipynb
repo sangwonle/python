{
 "cells": [
  {
   "cell_type": "code",
   "execution_count": 10,
   "id": "98bf8100",
   "metadata": {},
   "outputs": [],
   "source": [
    "# 시리즈 : 1차원 배열  -> index , value 존재\n",
    "\n",
    "import pandas as pd # pandas 자료구조는 series 와 dataframe이 존재"
   ]
  },
  {
   "cell_type": "code",
   "execution_count": 11,
   "id": "39e05dd4",
   "metadata": {},
   "outputs": [
    {
     "name": "stdout",
     "output_type": "stream",
     "text": [
      "<class 'dict'> {'a': 1, 'b': 2, 'c': 3}\n",
      "<class 'pandas.core.series.Series'> \n",
      " a    1\n",
      "b    2\n",
      "c    3\n",
      "dtype: int64\n",
      "<class 'list'> [1, 2, 3]\n",
      "<class 'pandas.core.series.Series'> \n",
      " 0    1\n",
      "1    2\n",
      "2    3\n",
      "dtype: int64\n"
     ]
    }
   ],
   "source": [
    "dict_data = {'a': 1, 'b': 2, 'c': 3}\n",
    "list_data = [1,2,3]\n",
    "\n",
    "srd = pd.Series(dict_data)\n",
    "srl = pd.Series(list_data)\n",
    "\n",
    "print(type(dict_data), dict_data)\n",
    "print(type(srd), '\\n', srd)\n",
    "\n",
    "print(type(list_data), list_data)\n",
    "print(type(srl), '\\n', srl)"
   ]
  },
  {
   "cell_type": "code",
   "execution_count": 12,
   "id": "a153c288",
   "metadata": {},
   "outputs": [
    {
     "name": "stdout",
     "output_type": "stream",
     "text": [
      "srd.index Index(['a', 'b', 'c'], dtype='object')\n",
      "srl.index RangeIndex(start=0, stop=3, step=1)\n",
      "srd.values [1 2 3]\n",
      "srl.values [1 2 3]\n"
     ]
    }
   ],
   "source": [
    "# 인덱스 확인\n",
    "\n",
    "print('srd.index', srd.index)\n",
    "print('srl.index', srl.index)\n",
    "\n",
    "# 시리즈의 값을 확인\n",
    "print('srd.values', srd.values)\n",
    "print('srl.values', srl.values)"
   ]
  },
  {
   "cell_type": "code",
   "execution_count": 13,
   "id": "1ad94fb6",
   "metadata": {},
   "outputs": [
    {
     "data": {
      "text/plain": [
       "1"
      ]
     },
     "execution_count": 13,
     "metadata": {},
     "output_type": "execute_result"
    }
   ],
   "source": [
    "# 각 자료의 원소 선택\n",
    "# srl[idx_start : end] start 포함, end 포함 안함\n",
    "sr_data = pd.Series(list(range(10)))\n",
    "sr_data[1:4]\n",
    "sr_key = pd.Series({'a': 1, 'b': 2, 'c': 3, 'd': 4, 'e':5})\n",
    "\n",
    "srd['a']\n"
   ]
  },
  {
   "cell_type": "code",
   "execution_count": 14,
   "id": "b3005523",
   "metadata": {},
   "outputs": [
    {
     "name": "stdout",
     "output_type": "stream",
     "text": [
      "a    1\n",
      "b    2\n",
      "dtype: int64\n",
      "a    1\n",
      "c    3\n",
      "dtype: int64\n"
     ]
    }
   ],
   "source": [
    "print(sr_key[['a', 'b']])\n",
    "print(sr_key[[0,2]])"
   ]
  },
  {
   "cell_type": "code",
   "execution_count": 15,
   "id": "2a78c49d",
   "metadata": {},
   "outputs": [
    {
     "data": {
      "text/plain": [
       "a    0\n",
       "b    1\n",
       "c    2\n",
       "d    3\n",
       "x    4\n",
       "dtype: int64"
      ]
     },
     "execution_count": 15,
     "metadata": {},
     "output_type": "execute_result"
    }
   ],
   "source": [
    "sr_list = pd.Series(list(range(5)), index = ['a', 'b', 'c', 'd', 'x'])\n",
    "sr_list"
   ]
  },
  {
   "cell_type": "code",
   "execution_count": null,
   "id": "cb22a5d2",
   "metadata": {},
   "outputs": [],
   "source": [
    "# 마지막 자료를 출력 : 인덱스명과 첨자 둘다\n",
    "# 1번째부터 3번째 까지의자료 출력\n",
    "# 인덱스명 'b' 와 'd' 의 값 출력"
   ]
  },
  {
   "cell_type": "code",
   "execution_count": 29,
   "id": "630d0964",
   "metadata": {},
   "outputs": [
    {
     "name": "stdout",
     "output_type": "stream",
     "text": [
      "4 4\n",
      "b    1\n",
      "c    2\n",
      "dtype: int64 \t b    1\n",
      "c    2\n",
      "d    3\n",
      "x    4\n",
      "dtype: int64\n",
      "b    1\n",
      "d    3\n",
      "dtype: int64\n"
     ]
    }
   ],
   "source": [
    "\n",
    "print(sr_list[-1], sr_list['x'])\n",
    "print(sr_list[1:3],'\\t', sr_list['b':'x'])\n",
    "print(sr_list[['b', 'd']])"
   ]
  },
  {
   "cell_type": "code",
   "execution_count": 106,
   "id": "8b0319c3",
   "metadata": {},
   "outputs": [
    {
     "data": {
      "text/html": [
       "<div>\n",
       "<style scoped>\n",
       "    .dataframe tbody tr th:only-of-type {\n",
       "        vertical-align: middle;\n",
       "    }\n",
       "\n",
       "    .dataframe tbody tr th {\n",
       "        vertical-align: top;\n",
       "    }\n",
       "\n",
       "    .dataframe thead th {\n",
       "        text-align: right;\n",
       "    }\n",
       "</style>\n",
       "<table border=\"1\" class=\"dataframe\">\n",
       "  <thead>\n",
       "    <tr style=\"text-align: right;\">\n",
       "      <th></th>\n",
       "      <th>c0</th>\n",
       "      <th>c1</th>\n",
       "      <th>c2</th>\n",
       "    </tr>\n",
       "  </thead>\n",
       "  <tbody>\n",
       "    <tr>\n",
       "      <th>0</th>\n",
       "      <td>1</td>\n",
       "      <td>4</td>\n",
       "      <td>7</td>\n",
       "    </tr>\n",
       "    <tr>\n",
       "      <th>1</th>\n",
       "      <td>2</td>\n",
       "      <td>5</td>\n",
       "      <td>8</td>\n",
       "    </tr>\n",
       "    <tr>\n",
       "      <th>2</th>\n",
       "      <td>3</td>\n",
       "      <td>6</td>\n",
       "      <td>9</td>\n",
       "    </tr>\n",
       "  </tbody>\n",
       "</table>\n",
       "</div>"
      ],
      "text/plain": [
       "   c0  c1  c2\n",
       "0   1   4   7\n",
       "1   2   5   8\n",
       "2   3   6   9"
      ]
     },
     "execution_count": 106,
     "metadata": {},
     "output_type": "execute_result"
    }
   ],
   "source": [
    "# dataframe : 2차원, pandas.DataFrame(data(2차원), [input= , columns=])\n",
    "# dictionary 데이터로 데이터프래임 생성\n",
    "\n",
    "dict_data = {'c0' : [1,2,3], 'c1' : [4,5,6], 'c2' : [7,8,9]}\n",
    "\n",
    "df = pd.DataFrame(dict_data)\n",
    "df"
   ]
  },
  {
   "cell_type": "code",
   "execution_count": 130,
   "id": "423ae949",
   "metadata": {},
   "outputs": [
    {
     "data": {
      "text/html": [
       "<div>\n",
       "<style scoped>\n",
       "    .dataframe tbody tr th:only-of-type {\n",
       "        vertical-align: middle;\n",
       "    }\n",
       "\n",
       "    .dataframe tbody tr th {\n",
       "        vertical-align: top;\n",
       "    }\n",
       "\n",
       "    .dataframe thead th {\n",
       "        text-align: right;\n",
       "    }\n",
       "</style>\n",
       "<table border=\"1\" class=\"dataframe\">\n",
       "  <thead>\n",
       "    <tr style=\"text-align: right;\">\n",
       "      <th></th>\n",
       "      <th>나이</th>\n",
       "      <th>성별</th>\n",
       "      <th>학교</th>\n",
       "    </tr>\n",
       "  </thead>\n",
       "  <tbody>\n",
       "    <tr>\n",
       "      <th>준서</th>\n",
       "      <td>15</td>\n",
       "      <td>남</td>\n",
       "      <td>수리중</td>\n",
       "    </tr>\n",
       "    <tr>\n",
       "      <th>예은</th>\n",
       "      <td>18</td>\n",
       "      <td>여</td>\n",
       "      <td>덕명중</td>\n",
       "    </tr>\n",
       "  </tbody>\n",
       "</table>\n",
       "</div>"
      ],
      "text/plain": [
       "    나이 성별   학교\n",
       "준서  15  남  수리중\n",
       "예은  18  여  덕명중"
      ]
     },
     "execution_count": 130,
     "metadata": {},
     "output_type": "execute_result"
    }
   ],
   "source": [
    "# dataframe -> index 명과 column 명을 부여\n",
    "\n",
    "df = pd.DataFrame([[15,'남', '수리중'], [18, '여', '덕명중']],\n",
    "                    index = ['준서', '예은'],\n",
    "                    columns = ['나이', '성별', '학교'])\n",
    "df"
   ]
  },
  {
   "cell_type": "code",
   "execution_count": 140,
   "id": "7bfd8ed5",
   "metadata": {},
   "outputs": [
    {
     "data": {
      "text/html": [
       "<div>\n",
       "<style scoped>\n",
       "    .dataframe tbody tr th:only-of-type {\n",
       "        vertical-align: middle;\n",
       "    }\n",
       "\n",
       "    .dataframe tbody tr th {\n",
       "        vertical-align: top;\n",
       "    }\n",
       "\n",
       "    .dataframe thead th {\n",
       "        text-align: right;\n",
       "    }\n",
       "</style>\n",
       "<table border=\"1\" class=\"dataframe\">\n",
       "  <thead>\n",
       "    <tr style=\"text-align: right;\">\n",
       "      <th></th>\n",
       "      <th>연령</th>\n",
       "      <th>남녀</th>\n",
       "      <th>소속</th>\n",
       "    </tr>\n",
       "  </thead>\n",
       "  <tbody>\n",
       "    <tr>\n",
       "      <th>a</th>\n",
       "      <td>15</td>\n",
       "      <td>남</td>\n",
       "      <td>수리중</td>\n",
       "    </tr>\n",
       "    <tr>\n",
       "      <th>b</th>\n",
       "      <td>18</td>\n",
       "      <td>여</td>\n",
       "      <td>덕명중</td>\n",
       "    </tr>\n",
       "    <tr>\n",
       "      <th>c</th>\n",
       "      <td>17</td>\n",
       "      <td>남</td>\n",
       "      <td>덕칠중</td>\n",
       "    </tr>\n",
       "  </tbody>\n",
       "</table>\n",
       "</div>"
      ],
      "text/plain": [
       "   연령 남녀   소속\n",
       "a  15  남  수리중\n",
       "b  18  여  덕명중\n",
       "c  17  남  덕칠중"
      ]
     },
     "execution_count": 140,
     "metadata": {},
     "output_type": "execute_result"
    }
   ],
   "source": [
    "# 인덱스명을 변경 -> 행 인덱스, 열 이름\n",
    "# 객체명.index = 새로운 인덱스명\n",
    "# 객체명.columns = 새로운 컬럼명\n",
    "\n",
    "df.index = ['a', 'b', 'c']\n",
    "df\n",
    "df.columns = ['연령', '남녀', '소속']\n",
    "df"
   ]
  },
  {
   "cell_type": "code",
   "execution_count": 144,
   "id": "dc60541f",
   "metadata": {},
   "outputs": [
    {
     "data": {
      "text/html": [
       "<div>\n",
       "<style scoped>\n",
       "    .dataframe tbody tr th:only-of-type {\n",
       "        vertical-align: middle;\n",
       "    }\n",
       "\n",
       "    .dataframe tbody tr th {\n",
       "        vertical-align: top;\n",
       "    }\n",
       "\n",
       "    .dataframe thead th {\n",
       "        text-align: right;\n",
       "    }\n",
       "</style>\n",
       "<table border=\"1\" class=\"dataframe\">\n",
       "  <thead>\n",
       "    <tr style=\"text-align: right;\">\n",
       "      <th></th>\n",
       "      <th>연령</th>\n",
       "      <th>성별</th>\n",
       "      <th>소속</th>\n",
       "    </tr>\n",
       "  </thead>\n",
       "  <tbody>\n",
       "    <tr>\n",
       "      <th>준서</th>\n",
       "      <td>15</td>\n",
       "      <td>남</td>\n",
       "      <td>수리중</td>\n",
       "    </tr>\n",
       "    <tr>\n",
       "      <th>b</th>\n",
       "      <td>18</td>\n",
       "      <td>여</td>\n",
       "      <td>덕명중</td>\n",
       "    </tr>\n",
       "    <tr>\n",
       "      <th>c</th>\n",
       "      <td>17</td>\n",
       "      <td>남</td>\n",
       "      <td>덕칠중</td>\n",
       "    </tr>\n",
       "    <tr>\n",
       "      <th>철수</th>\n",
       "      <td>17</td>\n",
       "      <td>남</td>\n",
       "      <td>덕칠중</td>\n",
       "    </tr>\n",
       "  </tbody>\n",
       "</table>\n",
       "</div>"
      ],
      "text/plain": [
       "    연령 성별   소속\n",
       "준서  15  남  수리중\n",
       "b   18  여  덕명중\n",
       "c   17  남  덕칠중\n",
       "철수  17  남  덕칠중"
      ]
     },
     "execution_count": 144,
     "metadata": {},
     "output_type": "execute_result"
    }
   ],
   "source": [
    "\n",
    "# 일부 인덱스명만 수정\n",
    "# 객체명.rename(index = {기존인덱스: 새로운 인덱스, ...})\n",
    "# 객체명.rename(columns = {기존컬럼명: 새로운 컬럼명, ...})\n",
    "\n",
    "# '남녀'를 '성별'로 컬럼 변경 'a' -> 준서로 변경\n",
    "\n",
    "df.rename(index = {'a' : '준서'}, columns = {'남녀': '성별' }, inplace = True)\n",
    "df"
   ]
  },
  {
   "cell_type": "code",
   "execution_count": 145,
   "id": "0a853ffb",
   "metadata": {},
   "outputs": [
    {
     "name": "stdout",
     "output_type": "stream",
     "text": [
      "    연령 성별   소속\n",
      "준서  15  남  수리중\n",
      "b   18  여  덕명중\n",
      "c   17  남  덕칠중\n",
      "철수  17  남  덕칠중\n"
     ]
    }
   ],
   "source": [
    "# 새로운 행을 추가 df.loc['인덱스명'] = [값, ....] 또는 df.인덱스명 = 값\n",
    "df.loc['철수'] = [17, '남', '덕칠중']\n",
    "print(df)"
   ]
  },
  {
   "cell_type": "code",
   "execution_count": 148,
   "id": "b72e12f3",
   "metadata": {},
   "outputs": [
    {
     "data": {
      "text/html": [
       "<div>\n",
       "<style scoped>\n",
       "    .dataframe tbody tr th:only-of-type {\n",
       "        vertical-align: middle;\n",
       "    }\n",
       "\n",
       "    .dataframe tbody tr th {\n",
       "        vertical-align: top;\n",
       "    }\n",
       "\n",
       "    .dataframe thead th {\n",
       "        text-align: right;\n",
       "    }\n",
       "</style>\n",
       "<table border=\"1\" class=\"dataframe\">\n",
       "  <thead>\n",
       "    <tr style=\"text-align: right;\">\n",
       "      <th></th>\n",
       "      <th>연령</th>\n",
       "      <th>소속</th>\n",
       "    </tr>\n",
       "  </thead>\n",
       "  <tbody>\n",
       "    <tr>\n",
       "      <th>준서</th>\n",
       "      <td>15</td>\n",
       "      <td>수리중</td>\n",
       "    </tr>\n",
       "    <tr>\n",
       "      <th>b</th>\n",
       "      <td>18</td>\n",
       "      <td>덕명중</td>\n",
       "    </tr>\n",
       "    <tr>\n",
       "      <th>c</th>\n",
       "      <td>17</td>\n",
       "      <td>덕칠중</td>\n",
       "    </tr>\n",
       "    <tr>\n",
       "      <th>철수</th>\n",
       "      <td>17</td>\n",
       "      <td>덕칠중</td>\n",
       "    </tr>\n",
       "  </tbody>\n",
       "</table>\n",
       "</div>"
      ],
      "text/plain": [
       "    연령   소속\n",
       "준서  15  수리중\n",
       "b   18  덕명중\n",
       "c   17  덕칠중\n",
       "철수  17  덕칠중"
      ]
     },
     "execution_count": 148,
     "metadata": {},
     "output_type": "execute_result"
    }
   ],
   "source": [
    "# 행과 열을 삭제 \n",
    "# 행 삭제 -> 객체.drop(행 인덱스 또는 배열, axis = 0)\n",
    "# 열 삭제 -> 객체.drop(열 이름 또는 배열, axis = 1)\n",
    "\n",
    "df.drop('준서', axis = 0)\n",
    "df.drop('성별', axis = 1)"
   ]
  },
  {
   "cell_type": "code",
   "execution_count": null,
   "id": "0af5fbfd",
   "metadata": {},
   "outputs": [],
   "source": [
    "# 이름 키로, 국어 영어 수학 과학 점수를 값으로, 입력 받아 dictioary에 저장한 후\n",
    "# 해당 자료를 데이터프레임으로 전환 -> 인덱스명은 이름으로"
   ]
  },
  {
   "cell_type": "code",
   "execution_count": 163,
   "id": "2ce7134f",
   "metadata": {},
   "outputs": [],
   "source": [
    "students = {}\n",
    "def create_student():\n",
    "    while True:\n",
    "        name = input('이름 입력 > ')\n",
    "        if name == 'q' or name == 'ㅂ':\n",
    "            break\n",
    "        score = list(map(int, input('점수 입력 > ').split()))\n",
    "        students[name] = score\n",
    "\n",
    "        "
   ]
  },
  {
   "cell_type": "code",
   "execution_count": 166,
   "id": "8067bda5",
   "metadata": {},
   "outputs": [
    {
     "name": "stdout",
     "output_type": "stream",
     "text": [
      "이름 입력 > ㅅ\n",
      "점수 입력 > 20 20 20 20\n",
      "이름 입력 > ㅐ\n",
      "점수 입력 > 30 30 30 30\n",
      "이름 입력 > ㅂ\n"
     ]
    },
    {
     "data": {
      "text/html": [
       "<div>\n",
       "<style scoped>\n",
       "    .dataframe tbody tr th:only-of-type {\n",
       "        vertical-align: middle;\n",
       "    }\n",
       "\n",
       "    .dataframe tbody tr th {\n",
       "        vertical-align: top;\n",
       "    }\n",
       "\n",
       "    .dataframe thead th {\n",
       "        text-align: right;\n",
       "    }\n",
       "</style>\n",
       "<table border=\"1\" class=\"dataframe\">\n",
       "  <thead>\n",
       "    <tr style=\"text-align: right;\">\n",
       "      <th></th>\n",
       "      <th>0</th>\n",
       "      <th>1</th>\n",
       "      <th>2</th>\n",
       "      <th>3</th>\n",
       "    </tr>\n",
       "  </thead>\n",
       "  <tbody>\n",
       "    <tr>\n",
       "      <th>e</th>\n",
       "      <td>10</td>\n",
       "      <td>10</td>\n",
       "      <td>10</td>\n",
       "      <td>10</td>\n",
       "    </tr>\n",
       "    <tr>\n",
       "      <th>r</th>\n",
       "      <td>20</td>\n",
       "      <td>20</td>\n",
       "      <td>20</td>\n",
       "      <td>20</td>\n",
       "    </tr>\n",
       "    <tr>\n",
       "      <th>t</th>\n",
       "      <td>10</td>\n",
       "      <td>10</td>\n",
       "      <td>10</td>\n",
       "      <td>10</td>\n",
       "    </tr>\n",
       "    <tr>\n",
       "      <th>ㅅ</th>\n",
       "      <td>20</td>\n",
       "      <td>20</td>\n",
       "      <td>20</td>\n",
       "      <td>20</td>\n",
       "    </tr>\n",
       "    <tr>\n",
       "      <th>ㅐ</th>\n",
       "      <td>30</td>\n",
       "      <td>30</td>\n",
       "      <td>30</td>\n",
       "      <td>30</td>\n",
       "    </tr>\n",
       "  </tbody>\n",
       "</table>\n",
       "</div>"
      ],
      "text/plain": [
       "    0   1   2   3\n",
       "e  10  10  10  10\n",
       "r  20  20  20  20\n",
       "t  10  10  10  10\n",
       "ㅅ  20  20  20  20\n",
       "ㅐ  30  30  30  30"
      ]
     },
     "execution_count": 166,
     "metadata": {},
     "output_type": "execute_result"
    }
   ],
   "source": [
    "create_student()\n",
    "students\n",
    "\n",
    "df = pd.DataFrame.from_dict(students, orient = 'index')\n",
    "df"
   ]
  },
  {
   "cell_type": "code",
   "execution_count": null,
   "id": "a4cf816a",
   "metadata": {},
   "outputs": [],
   "source": [
    "# 데이터프레임은 2차원 : 시리즈가 여러개\n",
    "# pandas.DataFrame(2차원배열 또는 딕셔너리 index = , columns = )\n",
    "# 딕셔너리 key가 컬럼명으로 됨\n",
    "# 딕셔너리의 키를 인덱스명으로 지정하면서 데이터프레임으로 변환\n",
    "# pandas.DataFrame.from_dict(딕셔너리데이터, origin = 'index')\n",
    "\n",
    "# 데이터프레임의 특정 컬럼을 인덱스로 변환\n",
    "# 데이터프레임.set_index('컬럼명')\n",
    "\n",
    "# 인덱스를 변경 : 데이터프레임.index = [인덱스명, ....]\n",
    "# 컬럼명을 변경 : 데이터프레임.columns = [컬럼명, ....]\n",
    "# 일부 인덱스 이름을 변경 : 데이터프레임.rename(index = {old_idx: new_idx, ...}, inplace=)\n",
    "# 일부 컬럼명 이름을 변경 : 데이터프레임.rename(columns = {old_idx: new_col, ...}, inplace=)\n",
    "\n",
    "\n",
    "# 행을 삭제 : 데이터프레임.drop(행 인덱스 또는 배열, axis = 0)\n",
    "# 열을 삭제 : 데이터프레임.drop(열 이름 또는 배열, axis = 1)\n"
   ]
  },
  {
   "cell_type": "code",
   "execution_count": 169,
   "id": "c36699d4",
   "metadata": {},
   "outputs": [
    {
     "name": "stdout",
     "output_type": "stream",
     "text": [
      "    수학  영어  음악   체육\n",
      "서준  90  99  54  100\n",
      "우현  80  90  56   90\n",
      "인아  20  30  34  100\n"
     ]
    }
   ],
   "source": [
    "# 데이터프레임 원소 선택 방법\n",
    "\n",
    "exam_data = {'수학' : [90,80,20], \n",
    "             '영어': [99,90,30], \n",
    "             '음악': [54,56,34],\n",
    "             '체육': [100,90,100]}\n",
    "df = pd.DataFrame(exam_data, index = ['서준', '우현', '인아'])\n",
    "print(df)"
   ]
  },
  {
   "cell_type": "code",
   "execution_count": 179,
   "id": "816a357c",
   "metadata": {},
   "outputs": [
    {
     "name": "stdout",
     "output_type": "stream",
     "text": [
      "수학     90\n",
      "영어     99\n",
      "음악     54\n",
      "체육    100\n",
      "Name: 서준, dtype: int64\n",
      "수학     90\n",
      "영어     99\n",
      "음악     54\n",
      "체육    100\n",
      "Name: 서준, dtype: int64\n",
      "    수학  영어  음악   체육\n",
      "서준  90  99  54  100\n",
      "우현  80  90  56   90\n",
      "    수학  영어  음악   체육\n",
      "서준  90  99  54  100\n",
      "우현  80  90  56   90\n",
      "    수학  영어  음악   체육\n",
      "서준  90  99  54  100\n",
      "우현  80  90  56   90\n",
      "    수학  영어  음악   체육\n",
      "서준  90  99  54  100\n"
     ]
    }
   ],
   "source": [
    "# 행 인덱스명을 사용하여 1개 행 선택 ('서준')\n",
    "print(df.loc['서준'])\n",
    "# 행 인덱스(정수)를 사용하여 1개 행 선택 (0행)\n",
    "print(df.iloc[0])\n",
    "\n",
    "# 두개의 행을 선택 '서준', '우현'\n",
    "print(df.loc[['서준', '우현']])\n",
    "print(df.iloc[[0, 1]])\n",
    "\n",
    "# 범위를 선택 '서준' ~ '우현'\n",
    "print(df.loc['서준': '우현']) # '우현' 포함\n",
    "print(df.iloc[0:1]) # 1은 포함 안함"
   ]
  },
  {
   "cell_type": "code",
   "execution_count": 192,
   "id": "81a110fa",
   "metadata": {},
   "outputs": [
    {
     "name": "stdout",
     "output_type": "stream",
     "text": [
      "서준    90\n",
      "우현    80\n",
      "인아    20\n",
      "Name: 수학, dtype: int64 \n",
      " 서준    90\n",
      "우현    80\n",
      "인아    20\n",
      "Name: 수학, dtype: int64\n",
      "    수학  음악\n",
      "서준  90  54\n",
      "우현  80  56\n",
      "인아  20  34\n"
     ]
    }
   ],
   "source": [
    "# 컬러(열)을 선택하는 방법 : df.컬럼명 또는 df['컬럼명']\n",
    "\n",
    "print(df.수학,'\\n', df['수학'])\n",
    "print(df[['수학', '음악']])"
   ]
  },
  {
   "cell_type": "code",
   "execution_count": 195,
   "id": "9a713e1b",
   "metadata": {},
   "outputs": [
    {
     "data": {
      "text/html": [
       "<div>\n",
       "<style scoped>\n",
       "    .dataframe tbody tr th:only-of-type {\n",
       "        vertical-align: middle;\n",
       "    }\n",
       "\n",
       "    .dataframe tbody tr th {\n",
       "        vertical-align: top;\n",
       "    }\n",
       "\n",
       "    .dataframe thead th {\n",
       "        text-align: right;\n",
       "    }\n",
       "</style>\n",
       "<table border=\"1\" class=\"dataframe\">\n",
       "  <thead>\n",
       "    <tr style=\"text-align: right;\">\n",
       "      <th></th>\n",
       "      <th>수학</th>\n",
       "      <th>영어</th>\n",
       "      <th>음악</th>\n",
       "      <th>체육</th>\n",
       "    </tr>\n",
       "  </thead>\n",
       "  <tbody>\n",
       "    <tr>\n",
       "      <th>서준</th>\n",
       "      <td>90</td>\n",
       "      <td>99</td>\n",
       "      <td>54</td>\n",
       "      <td>100</td>\n",
       "    </tr>\n",
       "    <tr>\n",
       "      <th>인아</th>\n",
       "      <td>20</td>\n",
       "      <td>30</td>\n",
       "      <td>34</td>\n",
       "      <td>100</td>\n",
       "    </tr>\n",
       "  </tbody>\n",
       "</table>\n",
       "</div>"
      ],
      "text/plain": [
       "    수학  영어  음악   체육\n",
       "서준  90  99  54  100\n",
       "인아  20  30  34  100"
      ]
     },
     "execution_count": 195,
     "metadata": {},
     "output_type": "execute_result"
    }
   ],
   "source": [
    "# 범위 슬라이싱 : 객체.iloc[start : end : setp]\n",
    "df.iloc[0:3:1]\n",
    "df.iloc[: : -1]\n",
    "df.iloc[: : 2]"
   ]
  },
  {
   "cell_type": "code",
   "execution_count": 228,
   "id": "8dc2b720",
   "metadata": {},
   "outputs": [
    {
     "name": "stdout",
     "output_type": "stream",
     "text": [
      "99 99\n",
      "    영어  음악\n",
      "서준  99  54\n",
      "인아  30  34\n",
      "우현  90  56\n",
      "    수학  영어  음악\n",
      "서준  90  99  54\n",
      "우현  80  90  56\n",
      "인아  20  30  34\n",
      "<class 'pandas.core.series.Series'>\n",
      "<class 'pandas.core.frame.DataFrame'>\n",
      "수학     90\n",
      "체육    100\n",
      "Name: 서준, dtype: int64\n"
     ]
    },
    {
     "data": {
      "text/html": [
       "<div>\n",
       "<style scoped>\n",
       "    .dataframe tbody tr th:only-of-type {\n",
       "        vertical-align: middle;\n",
       "    }\n",
       "\n",
       "    .dataframe tbody tr th {\n",
       "        vertical-align: top;\n",
       "    }\n",
       "\n",
       "    .dataframe thead th {\n",
       "        text-align: right;\n",
       "    }\n",
       "</style>\n",
       "<table border=\"1\" class=\"dataframe\">\n",
       "  <thead>\n",
       "    <tr style=\"text-align: right;\">\n",
       "      <th></th>\n",
       "      <th>수학</th>\n",
       "      <th>영어</th>\n",
       "      <th>음악</th>\n",
       "      <th>체육</th>\n",
       "      <th>국어</th>\n",
       "    </tr>\n",
       "  </thead>\n",
       "  <tbody>\n",
       "    <tr>\n",
       "      <th>서준</th>\n",
       "      <td>90</td>\n",
       "      <td>99</td>\n",
       "      <td>54</td>\n",
       "      <td>100</td>\n",
       "      <td>100</td>\n",
       "    </tr>\n",
       "    <tr>\n",
       "      <th>우현</th>\n",
       "      <td>80</td>\n",
       "      <td>90</td>\n",
       "      <td>56</td>\n",
       "      <td>90</td>\n",
       "      <td>30</td>\n",
       "    </tr>\n",
       "    <tr>\n",
       "      <th>인아</th>\n",
       "      <td>20</td>\n",
       "      <td>30</td>\n",
       "      <td>34</td>\n",
       "      <td>100</td>\n",
       "      <td>90</td>\n",
       "    </tr>\n",
       "    <tr>\n",
       "      <th>철수</th>\n",
       "      <td>80</td>\n",
       "      <td>100</td>\n",
       "      <td>90</td>\n",
       "      <td>100</td>\n",
       "      <td>100</td>\n",
       "    </tr>\n",
       "    <tr>\n",
       "      <th>추가</th>\n",
       "      <td>90</td>\n",
       "      <td>99</td>\n",
       "      <td>54</td>\n",
       "      <td>100</td>\n",
       "      <td>100</td>\n",
       "    </tr>\n",
       "  </tbody>\n",
       "</table>\n",
       "</div>"
      ],
      "text/plain": [
       "    수학   영어  음악   체육   국어\n",
       "서준  90   99  54  100  100\n",
       "우현  80   90  56   90   30\n",
       "인아  20   30  34  100   90\n",
       "철수  80  100  90  100  100\n",
       "추가  90   99  54  100  100"
      ]
     },
     "execution_count": 228,
     "metadata": {},
     "output_type": "execute_result"
    }
   ],
   "source": [
    "# 데이터프레임의 각 원소를 선택\n",
    "# 인덱스 이름 : 데이터프레임 객체.loc[행 인덱스명, 컬럼명]\n",
    "# 정수 위치 인덱스 : 데이터프레임 객체.iloc[행번호, 열 번호]\n",
    "\n",
    "# 서준의 영어 점수를 출력\n",
    "\n",
    "print(df.loc['서준', '영어'], df.iloc[0,1])\n",
    "\n",
    "\n",
    "# 서준과 인아의 영어와 음악 점수를 출력\n",
    "print(df.loc[['서준', '인아', '우현'], ['영어', '음악']])\n",
    "\n",
    "# 서준부터 인아까지, 수학부터 음악까지\n",
    "\n",
    "print(df.loc['서준' : '인아', '수학' : '음악'])\n",
    "\n",
    "# 서준의 수학과 체육\n",
    "\n",
    "print(type(df.loc['서준', ['수학', '체육']])) # series\n",
    "print(type(df.loc[['서준'], ['수학', '체육']])) # dataframe\n",
    "print(df.iloc[0, [0,3]])\n",
    "\n",
    "# 새로운 행 추가\n",
    "# df.loc['철수'] = [80, 100, 90, 100] \n",
    "# df\n",
    "\n",
    "# 새로운 열 추가\n",
    "df['국어'] = [100, 30, 90, 100]\n",
    "df\n",
    "\n",
    "# 기존의 행을 복사해서 추가\n",
    "df.loc['추가'] = df.loc['서준']\n",
    "df"
   ]
  },
  {
   "cell_type": "code",
   "execution_count": 230,
   "id": "eb288a15",
   "metadata": {},
   "outputs": [
    {
     "data": {
      "text/html": [
       "<div>\n",
       "<style scoped>\n",
       "    .dataframe tbody tr th:only-of-type {\n",
       "        vertical-align: middle;\n",
       "    }\n",
       "\n",
       "    .dataframe tbody tr th {\n",
       "        vertical-align: top;\n",
       "    }\n",
       "\n",
       "    .dataframe thead th {\n",
       "        text-align: right;\n",
       "    }\n",
       "</style>\n",
       "<table border=\"1\" class=\"dataframe\">\n",
       "  <thead>\n",
       "    <tr style=\"text-align: right;\">\n",
       "      <th></th>\n",
       "      <th>kor</th>\n",
       "      <th>eng</th>\n",
       "      <th>math</th>\n",
       "    </tr>\n",
       "  </thead>\n",
       "  <tbody>\n",
       "  </tbody>\n",
       "</table>\n",
       "</div>"
      ],
      "text/plain": [
       "Empty DataFrame\n",
       "Columns: [kor, eng, math]\n",
       "Index: []"
      ]
     },
     "execution_count": 230,
     "metadata": {},
     "output_type": "execute_result"
    }
   ],
   "source": [
    "df = pd.DataFrame(columns = ['kor', 'eng', 'math'])\n",
    "df"
   ]
  },
  {
   "cell_type": "code",
   "execution_count": null,
   "id": "d7120e0b",
   "metadata": {},
   "outputs": [],
   "source": [
    "# 이름, 국어, 영어, 수학, 점수를 입력 받아 이름을 인덱스로 데이터프레임에 저장\n",
    "# df 을 출력\n",
    "# 이름을 입력 받아 데이터프레임의 자료를 검색해서 출력\n",
    "# 이름과 과목을 입력 받아 데이터 출력\n",
    "# 자료 추가\n"
   ]
  },
  {
   "cell_type": "code",
   "execution_count": 231,
   "id": "fda49cb0",
   "metadata": {},
   "outputs": [],
   "source": [
    "\n",
    "def create_score():\n",
    "    while True:\n",
    "        name = input('이름 입력  >')\n",
    "        if name == 'q' or name == 'ㅂ':\n",
    "            break\n",
    "        score = list(map(int, input('3과목 점수 입력 > ').split()))\n",
    "        score_df.loc[name] = score\n",
    "        \n",
    "def search_score():\n",
    "    s_name = input('검색 할 이름 입력 >')\n",
    "    if s_name in score_df.index:\n",
    "        print('{} : {}'.format(s_name, score_df.loc[s_name], end=''))\n",
    "\n",
    "\n",
    "def search_title():\n",
    "    s_name = input('검색 할 이름 입력 >')\n",
    "    if not s_name in score_df.index:\n",
    "        print('검색하고자 하는 이름 없음')\n",
    "        return\n",
    "    \n",
    "    s_title = input('검색 할 과목 입력 >')\n",
    "    if s_title in score_df.columns:\n",
    "        return score_df.loc[s_name, s_title]\n",
    "    else:\n",
    "        print('검색하고자 하는 과목 없음')\n",
    "        return\n",
    "        \n",
    "def add_score():\n",
    "    name = input('추가 할 이름 입력 >')\n",
    "    if name in score_df.index:\n",
    "        print('존재하는 자료입니다.')\n",
    "        return\n",
    "    score = list(map(int, input('3과목 점수 입력 >').split()))\n",
    "    score_df.loc[name] = score\n",
    "\n",
    "\n",
    "\n",
    "    \n",
    "        "
   ]
  },
  {
   "cell_type": "code",
   "execution_count": 232,
   "id": "a3d62f5c",
   "metadata": {},
   "outputs": [
    {
     "name": "stdout",
     "output_type": "stream",
     "text": [
      "이름 입력  >a\n",
      "3과목 점수 입력 > 10 10 10\n",
      "이름 입력  >b\n",
      "3과목 점수 입력 > 20 20 20\n",
      "이름 입력  >c\n",
      "3과목 점수 입력 > 30 30 30\n",
      "이름 입력  >q\n",
      "검색 할 이름 입력 >a\n",
      "a : kor     10\n",
      "eng     10\n",
      "math    10\n",
      "Name: a, dtype: object\n",
      "검색하 할 이름 입력 >b\n",
      "검색 할 과목 입력 >kor\n",
      "검색한 과목의 점수는 : 20\n",
      "추가 할 이름 입력 >d\n",
      "3과목 점수 입력 >40 40 40\n"
     ]
    }
   ],
   "source": [
    "score_df = pd.DataFrame(columns = ['kor', 'eng', 'math'])\n",
    "create_score()\n",
    "search_score()\n",
    "print('검색한 과목의 점수는 :', search_title())\n",
    "add_score()"
   ]
  },
  {
   "cell_type": "code",
   "execution_count": null,
   "id": "1b3e9a5d",
   "metadata": {},
   "outputs": [],
   "source": []
  }
 ],
 "metadata": {
  "kernelspec": {
   "display_name": "Python 3 (ipykernel)",
   "language": "python",
   "name": "python3"
  },
  "language_info": {
   "codemirror_mode": {
    "name": "ipython",
    "version": 3
   },
   "file_extension": ".py",
   "mimetype": "text/x-python",
   "name": "python",
   "nbconvert_exporter": "python",
   "pygments_lexer": "ipython3",
   "version": "3.9.7"
  }
 },
 "nbformat": 4,
 "nbformat_minor": 5
}
