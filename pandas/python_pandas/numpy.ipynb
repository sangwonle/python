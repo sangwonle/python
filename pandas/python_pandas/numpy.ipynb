{
 "cells": [
  {
   "cell_type": "code",
   "execution_count": 2,
   "id": "415985f4",
   "metadata": {},
   "outputs": [],
   "source": [
    "# numpy 관련\n",
    "import numpy as np"
   ]
  },
  {
   "cell_type": "code",
   "execution_count": 17,
   "id": "305f53c1",
   "metadata": {},
   "outputs": [
    {
     "name": "stdout",
     "output_type": "stream",
     "text": [
      "[ 0  1  2  3  4  5  6  7  8  9 10 11 12 13 14] <class 'numpy.ndarray'>\n",
      "[[ 0  1  2  3  4]\n",
      " [ 5  6  7  8  9]\n",
      " [10 11 12 13 14]] 2\n",
      "(3, 5) 15 int64\n",
      "8\n"
     ]
    }
   ],
   "source": [
    "arr = np.arange(15)\n",
    "print(arr, type(arr)) # array \n",
    "arr = arr.reshape(3,5) # reshape: 배열 재정의\n",
    "print(arr, arr.ndim) # ndim 몇 차원인지\n",
    "print(arr.shape, arr.size, arr.dtype.name) # shape(3 * 5)\n",
    "print(arr.dtype.itemsize) # 데이터의 저장 공간 사이즈 : 4byte"
   ]
  },
  {
   "cell_type": "code",
   "execution_count": 26,
   "id": "54d7c524",
   "metadata": {},
   "outputs": [
    {
     "name": "stdout",
     "output_type": "stream",
     "text": [
      "[[-5.  -4.5 -4.  -3.5 -3. ]\n",
      " [-2.5 -2.  -1.5 -1.  -0.5]\n",
      " [ 0.   0.5  1.   1.5  2. ]\n",
      " [ 2.5  3.   3.5  4.   4.5]]\n"
     ]
    },
    {
     "data": {
      "text/plain": [
       "1"
      ]
     },
     "execution_count": 26,
     "metadata": {},
     "output_type": "execute_result"
    }
   ],
   "source": [
    "arr = np.arange(-5,5,0.5)\n",
    "arr = arr.reshape(4, int(arr.size / 4)) # reshape 차수 변경 할 때\n",
    "print(arr)\n",
    "arr1 = arr.flatten() # 다차원을 1차원으로 변형\n",
    "arr1.ndim"
   ]
  },
  {
   "cell_type": "code",
   "execution_count": 36,
   "id": "157b2167",
   "metadata": {},
   "outputs": [
    {
     "name": "stdout",
     "output_type": "stream",
     "text": [
      "list_a : [1 2 3 4], list_a의 type : <class 'numpy.ndarray'>\n",
      "list_b : [[1 2 3]\n",
      " [4 5 6]], list_b의 type : <class 'numpy.ndarray'>\n",
      "list_a dim : 1, list_a의 shape : (4,)\n",
      "list_b dim : 2, list_b의 shape : (2, 3)\n",
      "list_a의 size 4, list_a의 dtype int64\n"
     ]
    }
   ],
   "source": [
    "# 기존의 파이썬 리스트로 array 생성\n",
    "\n",
    "list_a = np.array([1,2,3,4]) \n",
    "list_b = np.array([[1,2,3], [4,5,6]])\n",
    "print('list_a : {}, list_a의 type : {}'.format(list_a, type(list_a)))\n",
    "print('list_b : {}, list_b의 type : {}'.format(list_b, type(list_b)))\n",
    "print('list_a dim : {}, list_a의 shape : {}'.format(list_a.ndim, list_a.shape))\n",
    "print('list_b dim : {}, list_b의 shape : {}'.format(list_b.ndim, list_b.shape))\n",
    "print('list_a의 size {}, list_a의 dtype {}'.format(list_a.size, list_a.dtype))\n",
    "\n",
    "\n",
    "\n"
   ]
  },
  {
   "cell_type": "code",
   "execution_count": null,
   "id": "e479aef1",
   "metadata": {},
   "outputs": [],
   "source": [
    "# np.arange([start], stop, [step])\n",
    "# np.array.reshape(차수, ...), np.flatten() 1차원으로 변경\n",
    "# np.ndim, np.shape, np.dype, np.dtpye.name, np.size"
   ]
  },
  {
   "cell_type": "code",
   "execution_count": 16,
   "id": "dc90453e",
   "metadata": {},
   "outputs": [
    {
     "name": "stdout",
     "output_type": "stream",
     "text": [
      "[0. 0. 0. 0. 0.]\n",
      "[[0. 0. 0.]\n",
      " [0. 0. 0.]]\n",
      "[[0 0]\n",
      " [0 0]\n",
      " [0 0]\n",
      " [0 0]\n",
      " [0 0]]\n",
      "['' '' '' '' '']\n",
      "[[[1 1 1 1]\n",
      "  [1 1 1 1]\n",
      "  [1 1 1 1]]\n",
      "\n",
      " [[1 1 1 1]\n",
      "  [1 1 1 1]\n",
      "  [1 1 1 1]]]\n",
      "[[1. 1. 1.]\n",
      " [1. 1. 1.]]\n",
      "[[0. 0. 0.]\n",
      " [0. 0. 0.]\n",
      " [0. 0. 0.]\n",
      " [0. 0. 0.]]\n",
      "[  0.  inf -inf  nan]\n"
     ]
    },
    {
     "name": "stderr",
     "output_type": "stream",
     "text": [
      "/var/folders/8x/my7blpjs0bg1hmjhzgvz02th0000gn/T/ipykernel_1474/2011724948.py:11: RuntimeWarning: divide by zero encountered in true_divide\n",
      "  print(np.array([0,1,-1,0]) / np.array([1,0,0,0]))\n",
      "/var/folders/8x/my7blpjs0bg1hmjhzgvz02th0000gn/T/ipykernel_1474/2011724948.py:11: RuntimeWarning: invalid value encountered in true_divide\n",
      "  print(np.array([0,1,-1,0]) / np.array([1,0,0,0]))\n"
     ]
    }
   ],
   "source": [
    "# 배열을 생성하면서 값을 초기화 하는 방법 : zeros(), ones()\n",
    "a = np.zeros(5)\n",
    "print(a)\n",
    "\n",
    "b = np.zeros((2,3))\n",
    "print(b)\n",
    "print(np.zeros((5,2), dtype='i'))\n",
    "print(np.zeros(5, dtype='U4'))\n",
    "print(np.ones((2,3,4), dtype='i8'))\n",
    "print(np.ones_like(b, dtype='f'))\n",
    "print(np.empty((4,3)))\n",
    "print(np.array([0,1,-1,0]) / np.array([1,0,0,0]))"
   ]
  },
  {
   "cell_type": "code",
   "execution_count": 17,
   "id": "cc526163",
   "metadata": {},
   "outputs": [
    {
     "data": {
      "text/plain": [
       "array([[ 4.,  3.],\n",
       "       [ 9.,  8.],\n",
       "       [14., 13.]])"
      ]
     },
     "execution_count": 17,
     "metadata": {},
     "output_type": "execute_result"
    }
   ],
   "source": [
    "x2 = np.array([-1.0, -2.0])\n",
    "z1 = np.array([[5.0], [10.0], [15.0]])\n",
    "x2 + z1"
   ]
  },
  {
   "cell_type": "code",
   "execution_count": 38,
   "id": "eb2eef0c",
   "metadata": {},
   "outputs": [
    {
     "name": "stdout",
     "output_type": "stream",
     "text": [
      "[ 0  1  4  9 16 25 36 49 64 81]\n",
      "4\n",
      "[ 9 16]\n",
      "[  0   1  -4   9 -16  25  36  49  64  81]\n",
      "[ 81  64  49  36  25 -16   9  -4   1   0]\n",
      "0\t1\t-4\t9\t-16\t25\t36\t49\t64\t81\t[[ 1  2  3  4  5]\n",
      " [ 6  7  8  9 10]\n",
      " [11 12 13 14 15]\n",
      " [16 17 18 19 20]]\n",
      "20\n",
      "[[ 2  3  4  5]\n",
      " [ 7  8  9 10]\n",
      " [12 13 14 15]]\n",
      "[ 6  7  8  9 10]\n",
      "[16 17 18 19 20]\n"
     ]
    }
   ],
   "source": [
    "# numpy indexing, slicing, iterating\n",
    "\n",
    "arr = np.arange(10) ** 2\n",
    "print(arr)\n",
    "print(arr[2])\n",
    "print(arr[3:5])\n",
    "arr[0:6:2] = -arr[0:6:2]\n",
    "print(arr)\n",
    "print(arr[ : : -1])\n",
    "for i in arr:\n",
    "    print(i, end='\\t')\n",
    "\n",
    "    \n",
    "arr = np.arange(1, 21, 1).reshape(4, 5)\n",
    "print(arr)\n",
    "print(arr[3,4])\n",
    "print(arr[0:3, 1:]) # 0:3 0행부터 2행까지 3은 포함하지 않음\n",
    "print(arr[1, ]) # 1행 출력\n",
    "print(arr[-1, ]) # 마지막행 출력"
   ]
  },
  {
   "cell_type": "code",
   "execution_count": 42,
   "id": "bf7bda88",
   "metadata": {},
   "outputs": [
    {
     "name": "stdout",
     "output_type": "stream",
     "text": [
      "[0 1 2 3 4 5] [ 1.          0.54030231 -0.41614684 -0.9899925  -0.65364362  0.28366219] [ 0.          0.84147098  0.90929743  0.14112001 -0.7568025  -0.95892427] [0.         0.76159416 0.96402758 0.99505475 0.9993293  0.9999092 ] [  1.           2.71828183   7.3890561   20.08553692  54.59815003\n",
      " 148.4131591 ]\n",
      "[-4.60517019 -2.81341072 -2.20727491 -1.83258146 -1.56064775 -1.34707365\n",
      " -1.17118298 -1.02165125 -0.89159812 -0.77652879 -0.67334455 -0.5798185\n",
      " -0.49429632 -0.41551544 -0.34249031 -0.27443685 -0.21072103 -0.15082289\n",
      " -0.09431068 -0.04082199]\n"
     ]
    }
   ],
   "source": [
    "# numpy 일반 함수\n",
    "# np.cos(), sin(), tanh(), exp()\n",
    "arr = np.arange(0, 6, 1)\n",
    "print(arr, np.cos(arr), np.sin(arr), np.tanh(arr), np.exp(arr))\n",
    "\n",
    "arr = np.arange(0.01, 1, 0.05)\n",
    "print(np.log(arr))"
   ]
  },
  {
   "cell_type": "code",
   "execution_count": 84,
   "id": "41e4d7a2",
   "metadata": {},
   "outputs": [
    {
     "name": "stdout",
     "output_type": "stream",
     "text": [
      "[5 3 4]\n",
      "[2 1 2]\n",
      "9\n",
      "[23  8  3 32  4]\n",
      "[[0.71202973 0.10886453 0.38894514]\n",
      " [0.88296509 0.47816152 0.33945885]]\n",
      "[[-0.43010217  0.31275276 -0.40511931]\n",
      " [-0.68464696 -0.24001679 -0.07654084]]\n",
      "0 : 6\n",
      "[[0.1 0.8 0.2]\n",
      " [0.3 0.6 0.1]\n",
      " [0.9 0.8 0.7]]\n",
      "[1 1 0]\n",
      "[2 0 2]\n"
     ]
    }
   ],
   "source": [
    "arr1 = np.array([2,3,4])\n",
    "arr2 = np.array([5,1,2])\n",
    "print(np.maximum(arr1, arr2))\n",
    "print(np.minimum(arr1, arr2))\n",
    "print(np.sum(arr1))\n",
    "print(np.random.choice(45, 5),flush=True) # 0~100 사이의수 중에서 5개 출력\n",
    "print(np.random.rand(2, 3)) # 2행 3열의 random 값 리턴\n",
    "print(np.random.randn(2, 3)) # 2행 3열의 random 값 리턴(-1부터 1까지의 float)\n",
    "\n",
    "# 위치를 반환하는 함수 argmax, argmin\n",
    "arr = np.array([6,2,1,5,4])\n",
    "print(np.argmax(arr), ':', arr[np.argmax(arr)])\n",
    "\n",
    "\n",
    "arr3 = np.array([[0.1, 0.8, 0.2], [0.3, 0.6, 0.1], [0.9, 0.8, 0.7]])\n",
    "print(arr3)\n",
    "print(np.argmax(arr3, axis=1))\n",
    "print(np.argmax(arr3, axis=0))\n",
    "\n",
    "\n",
    "\n"
   ]
  },
  {
   "cell_type": "code",
   "execution_count": 88,
   "id": "6e848392",
   "metadata": {},
   "outputs": [
    {
     "name": "stdout",
     "output_type": "stream",
     "text": [
      "26\n",
      "4.8076923076923075\n",
      "115.23224852071006\n",
      "10.734628476137871\n",
      "23\n",
      "-24\n",
      "5.0\n",
      "0.0\n",
      "5.0\n",
      "23.0\n"
     ]
    }
   ],
   "source": [
    "# 기술 통계 함수\n",
    "# count(), mean(), var(), std(), median(), max(), min(), percetile()\n",
    "\n",
    "arr = np.array([18, 5, 10, 23, 19, -8, 10, 0, 0, 5, 2, 15, 8,\n",
    "               2, 5, 4, 15, -1, 4, -7, -24, 7, 9, -6, 23, -13])\n",
    "print(len(arr)) # 갯수\n",
    "print(np.mean(arr)) # 평균\n",
    "print(np.var(arr)) # 분산\n",
    "print(np.std(arr)) # 표준편차\n",
    "print(np.max(arr)) # 최대값\n",
    "print(np.min(arr)) # 최소값\n",
    "print(np.median(arr)) # 중앙값\n",
    "print(np.percentile(arr, 25)) # 1 사분위의 수\n",
    "print(np.percentile(arr, 50)) # 2 사분위의 수\n",
    "print(np.percentile(arr, 100)) # 최대 값"
   ]
  },
  {
   "cell_type": "code",
   "execution_count": 117,
   "id": "bc66dbc8",
   "metadata": {},
   "outputs": [
    {
     "data": {
      "text/plain": [
       "array([0.5488135 , 0.71518937, 0.60276338, 0.54488318, 0.4236548 ])"
      ]
     },
     "execution_count": 117,
     "metadata": {},
     "output_type": "execute_result"
    }
   ],
   "source": [
    "# 난수 발생과 카운팅\n",
    "np.random.seed(0)\n",
    "np.random.rand(5)"
   ]
  },
  {
   "cell_type": "code",
   "execution_count": 127,
   "id": "02566fa7",
   "metadata": {},
   "outputs": [
    {
     "name": "stdout",
     "output_type": "stream",
     "text": [
      "[ 0  1  2  3  4  5  6  7  8  9 10]\n",
      "None\n",
      "[ 8  1  5  2  0  6  7  9  3 10  4]\n"
     ]
    }
   ],
   "source": [
    "# 데이터 순서를 바꾸는 방법\n",
    "arr = np.arange(11)\n",
    "print(arr)\n",
    "print(np.random.shuffle(arr)) # arr 자료의 순서를 바꿈\n",
    "print(arr)\n"
   ]
  },
  {
   "cell_type": "code",
   "execution_count": 175,
   "id": "5f581036",
   "metadata": {},
   "outputs": [
    {
     "data": {
      "text/plain": [
       "array([2, 4, 8])"
      ]
     },
     "execution_count": 175,
     "metadata": {},
     "output_type": "execute_result"
    }
   ],
   "source": [
    "# 샘플링 : choice()\n",
    "np.random.choice(46, 5, replace=False) # shuffle 과 같은 결과\n",
    "np.random.choice(10, 3, replace=False) # 10개 중 3개만 선택\n",
    "np.random.choice(5, 10) # 5개 숫자에서 10개를 추출 : 중복 허용\n",
    "np.random.choice(5, 10, p=[0.1, 0.3, 0.5, 0.2, 0]) # 선택확률을 다르게"
   ]
  },
  {
   "cell_type": "code",
   "execution_count": 180,
   "id": "110ef356",
   "metadata": {},
   "outputs": [
    {
     "data": {
      "text/plain": [
       "array([[13, 15, 12, 10, 11],\n",
       "       [14, 10, 15, 18, 13],\n",
       "       [19, 11, 15, 19, 10]])"
      ]
     },
     "execution_count": 180,
     "metadata": {},
     "output_type": "execute_result"
    }
   ],
   "source": [
    "# randint() 정수 난수 발생 numpy.random.radint(low, high=None, size=None)\n",
    "np.random.randint(10, size=10) # 10은 포함하지 않음\n",
    "np.random.randint(10, 20, size=10) # 20은 포함하지 않음\n",
    "np.random.randint(10, 20, size=(3,5)) # 3행 5열의 array 반환"
   ]
  },
  {
   "cell_type": "code",
   "execution_count": 200,
   "id": "cd050cb2",
   "metadata": {},
   "outputs": [
    {
     "data": {
      "text/plain": [
       "array([9])"
      ]
     },
     "execution_count": 200,
     "metadata": {},
     "output_type": "execute_result"
    }
   ],
   "source": [
    "x = np.arange(1, 21)\n",
    "x[ x % 3 == 0]\n",
    "x[ x % 4 == 1]\n",
    "x[ (x % 3 == 0) & (x % 4 == 1)]"
   ]
  },
  {
   "cell_type": "code",
   "execution_count": null,
   "id": "8a00993f",
   "metadata": {},
   "outputs": [],
   "source": []
  },
  {
   "cell_type": "code",
   "execution_count": null,
   "id": "6aa4534f",
   "metadata": {},
   "outputs": [],
   "source": []
  },
  {
   "cell_type": "code",
   "execution_count": null,
   "id": "ba88fac1",
   "metadata": {},
   "outputs": [],
   "source": []
  },
  {
   "cell_type": "code",
   "execution_count": null,
   "id": "e2d1a10b",
   "metadata": {},
   "outputs": [],
   "source": []
  },
  {
   "cell_type": "code",
   "execution_count": null,
   "id": "3351200b",
   "metadata": {},
   "outputs": [],
   "source": []
  },
  {
   "cell_type": "code",
   "execution_count": null,
   "id": "9abdb88d",
   "metadata": {},
   "outputs": [],
   "source": []
  },
  {
   "cell_type": "code",
   "execution_count": null,
   "id": "aaef0349",
   "metadata": {},
   "outputs": [],
   "source": []
  },
  {
   "cell_type": "code",
   "execution_count": null,
   "id": "ed5a54b2",
   "metadata": {},
   "outputs": [],
   "source": []
  },
  {
   "cell_type": "code",
   "execution_count": null,
   "id": "c4ca9e4e",
   "metadata": {},
   "outputs": [],
   "source": []
  }
 ],
 "metadata": {
  "kernelspec": {
   "display_name": "Python 3 (ipykernel)",
   "language": "python",
   "name": "python3"
  },
  "language_info": {
   "codemirror_mode": {
    "name": "ipython",
    "version": 3
   },
   "file_extension": ".py",
   "mimetype": "text/x-python",
   "name": "python",
   "nbconvert_exporter": "python",
   "pygments_lexer": "ipython3",
   "version": "3.9.7"
  }
 },
 "nbformat": 4,
 "nbformat_minor": 5
}
