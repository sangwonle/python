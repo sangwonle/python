{
 "cells": [
  {
   "cell_type": "code",
   "execution_count": 9,
   "id": "fa48dcc8",
   "metadata": {},
   "outputs": [
    {
     "name": "stdout",
     "output_type": "stream",
     "text": [
      "main name :  __main__\n",
      "숫자 입력10\n",
      "62.800\n",
      "314.0\n"
     ]
    }
   ],
   "source": [
    "import test_module as test\n",
    "\n",
    "print('main name : ', __name__)\n",
    "radius = test.number_input()\n",
    "\n",
    "print('{:.3f}'.format(test.get_circum(radius)))\n",
    "print(test.get_circle_area(radius))"
   ]
  }
 ],
 "metadata": {
  "kernelspec": {
   "display_name": "Python 3 (ipykernel)",
   "language": "python",
   "name": "python3"
  },
  "language_info": {
   "codemirror_mode": {
    "name": "ipython",
    "version": 3
   },
   "file_extension": ".py",
   "mimetype": "text/x-python",
   "name": "python",
   "nbconvert_exporter": "python",
   "pygments_lexer": "ipython3",
   "version": "3.9.7"
  }
 },
 "nbformat": 4,
 "nbformat_minor": 5
}
