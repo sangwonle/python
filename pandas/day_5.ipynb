{
 "cells": [
  {
   "cell_type": "code",
   "execution_count": 6,
   "id": "afbbdb3a",
   "metadata": {},
   "outputs": [
    {
     "name": "stdout",
     "output_type": "stream",
     "text": [
      "0.8414709848078965\n",
      "0.5403023058681398\n",
      "1.557407724654902\n",
      "2\n",
      "3\n"
     ]
    }
   ],
   "source": [
    "# 표준 모듈 삽입 (Phthon Standard Libray)\n",
    "import math\n",
    "print(math.sin(1))\n",
    "print(math.cos(1))\n",
    "print(math.tan(1))\n",
    "print(math.floor(2.5)) # 내림\n",
    "print(math.ceil(2.5)) # 올림"
   ]
  },
  {
   "cell_type": "code",
   "execution_count": 10,
   "id": "7674f194",
   "metadata": {},
   "outputs": [
    {
     "name": "stdout",
     "output_type": "stream",
     "text": [
      "0.8414709848078965\n",
      "-0.4161468365471424\n",
      "6\n",
      "5\n"
     ]
    }
   ],
   "source": [
    "# from 모듈명 improt 필요한 변수 또는 함수\n",
    "from math import sin, cos, ceil, floor\n",
    "\n",
    "print(sin(1))\n",
    "print(cos(2))\n",
    "print(ceil(5.2))\n",
    "print(floor(5.2))"
   ]
  },
  {
   "cell_type": "code",
   "execution_count": 11,
   "id": "139f295c",
   "metadata": {},
   "outputs": [
    {
     "name": "stdout",
     "output_type": "stream",
     "text": [
      "0.5403023058681398\n",
      "0.9092974268256817\n",
      "6\n",
      "5\n"
     ]
    }
   ],
   "source": [
    "# as를 사용하여 식별자 사용\n",
    "import math as m\n",
    "print(m.cos(1))\n",
    "print(m.sin(2))\n",
    "print(m.ceil(5.2))\n",
    "print(m.floor(5.2))"
   ]
  },
  {
   "cell_type": "code",
   "execution_count": 24,
   "id": "295f42c3",
   "metadata": {},
   "outputs": [
    {
     "name": "stdout",
     "output_type": "stream",
     "text": [
      "random 모듈 : \n",
      "random() :  0.3724116620878596\n",
      "uniform() :  18.27454550253808\n",
      "randrange() :  11\n",
      "choice() :  [4]\n",
      "shuffle() :  None [6, 2, 7, 3, 5, 1, 8, 9, 4, 0]\n",
      "sample() :  [9, 3]\n"
     ]
    }
   ],
   "source": [
    "# random 모듈 : 임의의 수를 발생시키는 함수들을 가진 모듈\n",
    "\n",
    "import random as rnd\n",
    "print('random 모듈 : ')\n",
    "# random() : 0.0 < x < 1.0 사이의 float 리턴\n",
    "print('random() : ', rnd.random())\n",
    "\n",
    "# uniform(min, max) : min < x < max 사이의 float 리턴\n",
    "print('uniform() : ', rnd.uniform(10, 20))\n",
    "\n",
    "# randrange([min,] max) : 0.0 < x < 1.0 사이의 int 리턴, 0부터 max\n",
    "print('randrange() : ', rnd.randrange(10, 20))\n",
    "\n",
    "# choice(list) : 리스트 내부의 임의의 요소를 리턴\n",
    "print('choice() : ', rnd.choices(list(range(10))))\n",
    "\n",
    "# shuffle(list) : 리스트 요소를 랜덤하게 섞음\n",
    "shf = list(range(10))\n",
    "print('shuffle() : ', rnd.shuffle(shf), shf)\n",
    "\n",
    "# sample(list, k=숫자) : 리스트에서 숫자의 갯수 요소를 랜덤하게 리턴\n",
    "print('sample() : ', rnd.sample(shf, k=2))\n"
   ]
  },
  {
   "cell_type": "code",
   "execution_count": 27,
   "id": "aa06213c",
   "metadata": {},
   "outputs": [
    {
     "name": "stdout",
     "output_type": "stream",
     "text": [
      "copyright Copyright (c) 2001-2021 Python Software Foundation.\n",
      "All Rights Reserved.\n",
      "\n",
      "Copyright (c) 2000 BeOpen.com.\n",
      "All Rights Reserved.\n",
      "\n",
      "Copyright (c) 1995-2001 Corporation for National Research Initiatives.\n",
      "All Rights Reserved.\n",
      "\n",
      "Copyright (c) 1991-1995 Stichting Mathematisch Centrum, Amsterdam.\n",
      "All Rights Reserved.\n",
      "version 3.9.7 (default, Sep 16 2021, 08:50:36) \n",
      "[Clang 10.0.0 ]\n"
     ]
    }
   ],
   "source": [
    "# sys 모듈 : 시스템 관련 정보를 가지고 옴\n",
    "import sys\n",
    "print('copyright', sys.copyright)\n",
    "print('version', sys.version)\n",
    "#sys.exit() 프로그램 강제 종료"
   ]
  },
  {
   "cell_type": "code",
   "execution_count": 30,
   "id": "f39a4709",
   "metadata": {},
   "outputs": [
    {
     "name": "stdout",
     "output_type": "stream",
     "text": [
      "현재 운영체제 :  posix\n",
      "현재 작업 경로 :  /Users/isang-won/python_basic\n",
      "현재 작업 폴더 리스트 ['.DS_Store', 'telno.txt', 'day_4.ipynb', 'day_4s.ipynb', 'day_3_t.ipynb', 'a.txt', 'day_2.ipynb', '.ipynb_checkpoints', 'day_5.ipynb', 'score.txt', 'day_1.ipynb', 'day_3.ipynb', 'day_1.py']\n"
     ]
    }
   ],
   "source": [
    "# os 모듈 : 운영체제와 관련 된 명령어\n",
    "\n",
    "import os\n",
    "\n",
    "print('현재 운영체제 : ', os.name)\n",
    "print('현재 작업 경로 : ', os.getcwd())\n",
    "print('현재 작업 폴더 리스트', os.listdir())"
   ]
  },
  {
   "cell_type": "code",
   "execution_count": 36,
   "id": "936fd0af",
   "metadata": {},
   "outputs": [],
   "source": [
    "# 디렉토리 생성\n",
    "\n",
    "os.mkdir('test_dir') # 디렉토리 생성\n",
    "os.rmdir('test_dir') # 디렉토리 삭제\n",
    "\n",
    "# file 이름 변경 : rename(old_name, new_name)\n",
    "os.rename('a.txt', 'new.txt')\n",
    "os.remove('new.txt')\n",
    "# file 삭제 : remove(파일명)"
   ]
  },
  {
   "cell_type": "code",
   "execution_count": 39,
   "id": "f4a0bc9e",
   "metadata": {},
   "outputs": [
    {
     "name": "stdout",
     "output_type": "stream",
     "text": [
      "2021-12-29 10:22:40.946228\n",
      "2021-12-29 10:22:40.946373\n"
     ]
    }
   ],
   "source": [
    "# datetime 모듈 : 날짜 형식에 맞게 수정 편집 가능\n",
    "\n",
    "import datetime as dt\n",
    "\n",
    "print(dt.datetime.now())\n",
    "print(dt.datetime.today())"
   ]
  },
  {
   "cell_type": "code",
   "execution_count": 41,
   "id": "5949e645",
   "metadata": {},
   "outputs": [
    {
     "name": "stdout",
     "output_type": "stream",
     "text": [
      "time start  <module 'time' (built-in)>\n",
      "\n",
      "tiem end\n"
     ]
    }
   ],
   "source": [
    "# time 모듈 : 일정 시간 멈춤\n",
    "\n",
    "import time\n",
    "\n",
    "print('time start ')\n",
    "time.sleep(3)\n",
    "print('\\ntiem end')"
   ]
  },
  {
   "cell_type": "code",
   "execution_count": 48,
   "id": "b30d6472",
   "metadata": {},
   "outputs": [],
   "source": [
    "# urllib 모듈 : url 라이브러리\n",
    "#인터넷 검색 1. urlopen, 2. 해당 데이터 읽어 옴\n",
    "from urllib import request as reqt\n",
    "\n",
    "target = reqt.urlopen('https://google.com')\n",
    "# output = target.read()\n",
    "# print(output)"
   ]
  },
  {
   "cell_type": "code",
   "execution_count": 51,
   "id": "e10ea0ef",
   "metadata": {},
   "outputs": [
    {
     "data": {
      "text/plain": [
       "<title>Google</title>"
      ]
     },
     "execution_count": 51,
     "metadata": {},
     "output_type": "execute_result"
    }
   ],
   "source": [
    "# beautifulsoup4 모듈 설치 방법\n",
    "# pip install 모듈(패키지명)\n",
    "\n",
    "# <html> ~ </html> tag 형식으로 변환해 주는 모듈 BeatifulSoup\n",
    "from bs4 import BeautifulSoup\n",
    "target = reqt.urlopen('https://google.com')\n",
    "soup = BeautifulSoup(target)\n",
    "soup\n",
    "soup.title"
   ]
  },
  {
   "cell_type": "code",
   "execution_count": 59,
   "id": "bd9db4e2",
   "metadata": {},
   "outputs": [],
   "source": [
    "# 기상청 날씨 예보를 가져와서 보여 줌\n",
    "# url에 연결 -> urllib.request.urlopen(url명)\n",
    "# url에서 자료를 가져옴 -> <html> ~ </html> 형식으로\n",
    "# BeautifulSoup(urlopen 정보)\n",
    "\n",
    "from urllib import request\n",
    "from bs4 import BeautifulSoup\n",
    "\n",
    "url = 'https://www.kma.go.kr/weather/forecast/mid-term-rss3.jsp?stnId=108'\n",
    "target = request.urlopen(url)\n",
    "\n",
    "soup = BeautifulSoup(target)\n",
    "\n"
   ]
  },
  {
   "cell_type": "code",
   "execution_count": 62,
   "id": "a0861d83",
   "metadata": {},
   "outputs": [],
   "source": [
    "for location in soup.select('location'):\n",
    "    print('도시 : ', location.select_one('city').string)\n",
    "    print('날씨 : ', location.select_one('wf').string)\n",
    "    print('최저기온 : ', location.select_one('tmn').string)\n",
    "    print('최고기온 : ', location.select_one('tmx').string)\n",
    "    print()"
   ]
  },
  {
   "cell_type": "code",
   "execution_count": 93,
   "id": "a881315c",
   "metadata": {},
   "outputs": [],
   "source": [
    "# 기상청 날씨 예보를 가져와서 보여 줌\n",
    "# url에 연결 -> urllib.request.urlopen(url명)\n",
    "# url에서 자료를 가져옴 -> <html> ~ </html> 형식으로\n",
    "# BeautifulSoup(urlopen 정보)\n",
    "\n",
    "from urllib import request\n",
    "from bs4 import BeautifulSoup\n",
    "\n",
    "url = 'https://www.weather.go.kr/w/weather/forecast/mid-term.do?stnId1=108'\n",
    "target = request.urlopen(url)\n",
    "soup = BeautifulSoup(target)\n"
   ]
  },
  {
   "cell_type": "code",
   "execution_count": 140,
   "id": "e9be2d9c",
   "metadata": {},
   "outputs": [
    {
     "name": "stdout",
     "output_type": "stream",
     "text": [
      "\n",
      "도시명 : 서울, 최저기온 : -9, 최대기온 : 0\n",
      "\n"
     ]
    }
   ],
   "source": [
    "for location in soup.find_all('tbody'):\n",
    "    if location.find('td', class_='midterm-city'):\n",
    "        print('도시명 : {}, 최저기온 : {}, 최대기온 : {}'.\\\n",
    "              format(location.find('td', class_='midterm-city').text,\n",
    "                location.find('span', class_='tmn').text,\n",
    "                location.find('span', class_='tmx').text))     \n",
    "    print()\n",
    "    \n",
    "\n",
    "\n"
   ]
  },
  {
   "cell_type": "code",
   "execution_count": 141,
   "id": "6eb14a71",
   "metadata": {},
   "outputs": [
    {
     "name": "stdout",
     "output_type": "stream",
     "text": [
      "도시명 : 서울, 최저기온 : -9, 최대기온 : 0\n",
      "도시명 : 인천, 최저기온 : -8, 최대기온 : 0\n",
      "도시명 : 수원, 최저기온 : -10, 최대기온 : 1\n",
      "도시명 : 파주, 최저기온 : -15, 최대기온 : 0\n",
      "도시명 : 이천, 최저기온 : -12, 최대기온 : 0\n",
      "도시명 : 평택, 최저기온 : -11, 최대기온 : 1\n",
      "도시명 : 춘천, 최저기온 : -14, 최대기온 : 0\n",
      "도시명 : 원주, 최저기온 : -12, 최대기온 : 0\n",
      "도시명 : 강릉, 최저기온 : -6, 최대기온 : 5\n",
      "도시명 : 대전, 최저기온 : -9, 최대기온 : 2\n",
      "도시명 : 세종, 최저기온 : -10, 최대기온 : 1\n",
      "도시명 : 홍성, 최저기온 : -10, 최대기온 : 2\n",
      "도시명 : 청주, 최저기온 : -9, 최대기온 : 1\n",
      "도시명 : 충주, 최저기온 : -12, 최대기온 : 0\n",
      "도시명 : 영동, 최저기온 : -12, 최대기온 : 2\n",
      "도시명 : 광주, 최저기온 : -5, 최대기온 : 5\n",
      "도시명 : 목포, 최저기온 : -3, 최대기온 : 4\n",
      "도시명 : 여수, 최저기온 : -3, 최대기온 : 5\n",
      "도시명 : 순천, 최저기온 : -4, 최대기온 : 6\n",
      "도시명 : 광양, 최저기온 : -4, 최대기온 : 6\n",
      "도시명 : 나주, 최저기온 : -7, 최대기온 : 4\n",
      "도시명 : 전주, 최저기온 : -7, 최대기온 : 3\n",
      "도시명 : 군산, 최저기온 : -7, 최대기온 : 3\n",
      "도시명 : 정읍, 최저기온 : -8, 최대기온 : 2\n",
      "도시명 : 남원, 최저기온 : -8, 최대기온 : 4\n",
      "도시명 : 고창, 최저기온 : -6, 최대기온 : 3\n",
      "도시명 : 무주, 최저기온 : -12, 최대기온 : 2\n",
      "도시명 : 부산, 최저기온 : -4, 최대기온 : 6\n",
      "도시명 : 울산, 최저기온 : -5, 최대기온 : 5\n",
      "도시명 : 창원, 최저기온 : -5, 최대기온 : 4\n",
      "도시명 : 진주, 최저기온 : -8, 최대기온 : 5\n",
      "도시명 : 거창, 최저기온 : -10, 최대기온 : 5\n",
      "도시명 : 통영, 최저기온 : -4, 최대기온 : 5\n",
      "도시명 : 대구, 최저기온 : -7, 최대기온 : 4\n",
      "도시명 : 안동, 최저기온 : -12, 최대기온 : 2\n",
      "도시명 : 포항, 최저기온 : -5, 최대기온 : 6\n",
      "도시명 : 경주, 최저기온 : -8, 최대기온 : 5\n",
      "도시명 : 울진, 최저기온 : -6, 최대기온 : 6\n",
      "도시명 : 울릉도, 최저기온 : -1, 최대기온 : 4\n",
      "도시명 : 제주, 최저기온 : 3, 최대기온 : 8\n",
      "도시명 : 서귀포, 최저기온 : 3, 최대기온 : 10\n"
     ]
    }
   ],
   "source": [
    "for location in soup.find_all('tr'):\n",
    "    if location.find('td', class_='midterm-city'):\n",
    "        print('도시명 : {}, 최저기온 : {}, 최대기온 : {}'.\\\n",
    "              format(location.find('td', class_='midterm-city').text,\n",
    "                location.find('span', class_='tmn').text,\n",
    "                location.find('span', class_='tmx').text))     \n",
    "    "
   ]
  },
  {
   "cell_type": "code",
   "execution_count": 139,
   "id": "e4fb0522",
   "metadata": {},
   "outputs": [],
   "source": [
    "# flask 모듈\n",
    "from flask import Flask\n",
    "\n",
    "app = Flask(__name__)\n",
    "@app.route('/')\n",
    "def hello():\n",
    "    return url_report()\n",
    "\n",
    "def url_report():\n",
    "    from urllib import request\n",
    "    from bs4 import BeautifulSoup\n",
    "    url = 'https://www.weather.go.kr/w/weather/forecast/mid-term.do?stnId1=108'\n",
    "    target = request.urlopen(url)\n",
    "    soup = BeautifulSoup(target)\n",
    "    \n",
    "    output = '<table>'\n",
    "    for location in soup.find_all('tr'):\n",
    "        output += '<tr>'\n",
    "        if location.find('td', class_='midterm-city'):\n",
    "            output += '<td>{}</td>'.format(location.find('td', \n",
    "                                                        class_='midterm-city').text)\n",
    "            output += '<td>{}</td>'.format(location.find('span', class_='tmn').text)\n",
    "            output += '<td>{}</td>'.format(location.find('span', class_='tmx').text)\n",
    "        output += '</tr>'\n",
    "        \n",
    "    output = '</table>'\n",
    "    "
   ]
  },
  {
   "cell_type": "code",
   "execution_count": 122,
   "id": "41712bbb",
   "metadata": {},
   "outputs": [
    {
     "name": "stdout",
     "output_type": "stream",
     "text": [
      "Hello start!!\n",
      "Hello\n",
      "Hello end!!\n"
     ]
    }
   ],
   "source": [
    "# 함수 데코레이터\n",
    "def deco(function):\n",
    "    def wrapper():\n",
    "        print('Hello start!!')\n",
    "        function()\n",
    "        print('Hello end!!')\n",
    "    return wrapper\n",
    "# 데코레이션 함수\n",
    "@deco\n",
    "def hello():\n",
    "    print('Hello')\n",
    "# 함수 호출\n",
    "hello()"
   ]
  },
  {
   "cell_type": "code",
   "execution_count": null,
   "id": "5709fd2f",
   "metadata": {},
   "outputs": [],
   "source": [
    "# 모듈 만들기\n",
    "\n",
    "os.mkdir('') # 디렉토리 생성"
   ]
  },
  {
   "cell_type": "code",
   "execution_count": 124,
   "id": "acfc72c5",
   "metadata": {},
   "outputs": [
    {
     "name": "stdout",
     "output_type": "stream",
     "text": [
      "module_a :  a 모듈의 변수\n",
      "module_g :  b 모듈의 변수\n"
     ]
    }
   ],
   "source": [
    "# 내가 만든 패키지 모듈 불러오기\n",
    "# import 패키지명.모듈명\n",
    "import package_module.module_a as a\n",
    "import package_module.module_b as b\n",
    "\n",
    "print('module_a : ', a.variable_a)\n",
    "print('module_g : ', b.variable_b)"
   ]
  },
  {
   "cell_type": "code",
   "execution_count": 134,
   "id": "1eceee67",
   "metadata": {},
   "outputs": [
    {
     "name": "stdout",
     "output_type": "stream",
     "text": [
      "module_a :  a 모듈의 변수\n",
      "module_b :  b 모듈의 변수\n"
     ]
    }
   ],
   "source": [
    "from package_module import *\n",
    "print('module_a : ', module_a.variable_a)\n",
    "print('module_b : ', module_b.variable_b)"
   ]
  },
  {
   "cell_type": "code",
   "execution_count": null,
   "id": "05806e77",
   "metadata": {},
   "outputs": [],
   "source": []
  },
  {
   "cell_type": "code",
   "execution_count": null,
   "id": "8930d2a3",
   "metadata": {},
   "outputs": [],
   "source": []
  },
  {
   "cell_type": "code",
   "execution_count": null,
   "id": "c009881e",
   "metadata": {},
   "outputs": [],
   "source": []
  },
  {
   "cell_type": "code",
   "execution_count": null,
   "id": "12ff8032",
   "metadata": {},
   "outputs": [],
   "source": []
  },
  {
   "cell_type": "code",
   "execution_count": null,
   "id": "fd456422",
   "metadata": {},
   "outputs": [],
   "source": []
  },
  {
   "cell_type": "code",
   "execution_count": null,
   "id": "919d1474",
   "metadata": {},
   "outputs": [],
   "source": []
  },
  {
   "cell_type": "code",
   "execution_count": null,
   "id": "1a973f72",
   "metadata": {},
   "outputs": [],
   "source": []
  },
  {
   "cell_type": "code",
   "execution_count": null,
   "id": "240ad33b",
   "metadata": {},
   "outputs": [],
   "source": []
  },
  {
   "cell_type": "code",
   "execution_count": null,
   "id": "55bbce3e",
   "metadata": {},
   "outputs": [],
   "source": []
  },
  {
   "cell_type": "code",
   "execution_count": null,
   "id": "f66061ad",
   "metadata": {},
   "outputs": [],
   "source": []
  },
  {
   "cell_type": "code",
   "execution_count": null,
   "id": "38564c28",
   "metadata": {},
   "outputs": [],
   "source": []
  },
  {
   "cell_type": "code",
   "execution_count": null,
   "id": "b0549786",
   "metadata": {},
   "outputs": [],
   "source": []
  },
  {
   "cell_type": "code",
   "execution_count": null,
   "id": "43530dc8",
   "metadata": {},
   "outputs": [],
   "source": []
  },
  {
   "cell_type": "code",
   "execution_count": null,
   "id": "45c4c4fd",
   "metadata": {},
   "outputs": [],
   "source": []
  },
  {
   "cell_type": "code",
   "execution_count": null,
   "id": "2b3e33b5",
   "metadata": {},
   "outputs": [],
   "source": []
  },
  {
   "cell_type": "code",
   "execution_count": null,
   "id": "4e588d8b",
   "metadata": {},
   "outputs": [],
   "source": []
  },
  {
   "cell_type": "code",
   "execution_count": null,
   "id": "65e278ac",
   "metadata": {},
   "outputs": [],
   "source": []
  },
  {
   "cell_type": "code",
   "execution_count": null,
   "id": "c018c28d",
   "metadata": {},
   "outputs": [],
   "source": []
  },
  {
   "cell_type": "code",
   "execution_count": null,
   "id": "70efb01f",
   "metadata": {},
   "outputs": [],
   "source": []
  },
  {
   "cell_type": "code",
   "execution_count": null,
   "id": "bb6cdae3",
   "metadata": {},
   "outputs": [],
   "source": []
  },
  {
   "cell_type": "code",
   "execution_count": null,
   "id": "85edffc1",
   "metadata": {},
   "outputs": [],
   "source": []
  },
  {
   "cell_type": "code",
   "execution_count": null,
   "id": "a6171bfb",
   "metadata": {},
   "outputs": [],
   "source": []
  },
  {
   "cell_type": "code",
   "execution_count": null,
   "id": "b1d615b6",
   "metadata": {},
   "outputs": [],
   "source": []
  },
  {
   "cell_type": "code",
   "execution_count": null,
   "id": "c35496a4",
   "metadata": {},
   "outputs": [],
   "source": []
  },
  {
   "cell_type": "code",
   "execution_count": null,
   "id": "a52161f5",
   "metadata": {},
   "outputs": [],
   "source": []
  },
  {
   "cell_type": "code",
   "execution_count": null,
   "id": "21437611",
   "metadata": {},
   "outputs": [],
   "source": []
  },
  {
   "cell_type": "code",
   "execution_count": null,
   "id": "2ffd31b2",
   "metadata": {},
   "outputs": [],
   "source": []
  },
  {
   "cell_type": "code",
   "execution_count": null,
   "id": "218292b7",
   "metadata": {},
   "outputs": [],
   "source": []
  },
  {
   "cell_type": "code",
   "execution_count": null,
   "id": "91d045d0",
   "metadata": {},
   "outputs": [],
   "source": []
  },
  {
   "cell_type": "code",
   "execution_count": null,
   "id": "8f307893",
   "metadata": {},
   "outputs": [],
   "source": []
  }
 ],
 "metadata": {
  "kernelspec": {
   "display_name": "Python 3 (ipykernel)",
   "language": "python",
   "name": "python3"
  },
  "language_info": {
   "codemirror_mode": {
    "name": "ipython",
    "version": 3
   },
   "file_extension": ".py",
   "mimetype": "text/x-python",
   "name": "python",
   "nbconvert_exporter": "python",
   "pygments_lexer": "ipython3",
   "version": "3.9.7"
  }
 },
 "nbformat": 4,
 "nbformat_minor": 5
}
