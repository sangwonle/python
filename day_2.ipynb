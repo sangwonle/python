{
 "cells": [
  {
   "cell_type": "code",
   "execution_count": 5,
   "id": "8dcfd30d",
   "metadata": {},
   "outputs": [
    {
     "name": "stdout",
     "output_type": "stream",
     "text": [
      "False\n",
      "True\n",
      "False\n",
      "False\n",
      "True\n",
      "True\n",
      "False\n"
     ]
    }
   ],
   "source": [
    "# boolean 연습 : ==, !=, >, <, >=, <=\n",
    "print(10 == 100)\n",
    "print(10 < 100)\n",
    "print(10 > 100)\n",
    "print(10 >= 100)\n",
    "print(10 <= 100)\n",
    "print(10 != 100)\n",
    "print(not 10 <= 100)"
   ]
  },
  {
   "cell_type": "code",
   "execution_count": 4,
   "id": "9c2cbcdc",
   "metadata": {},
   "outputs": [
    {
     "name": "stdout",
     "output_type": "stream",
     "text": [
      "False\n",
      "False\n",
      "True\n",
      "False\n",
      "True\n",
      "True\n"
     ]
    }
   ],
   "source": [
    "print('가방' == '하마')\n",
    "print('가방' > '하마')\n",
    "print('가방' < '하마')\n",
    "print('가방' >= '하마')\n",
    "print('가방' <= '하마')\n",
    "print('가방' != '하마')\n"
   ]
  },
  {
   "cell_type": "code",
   "execution_count": 11,
   "id": "d11ab468",
   "metadata": {},
   "outputs": [
    {
     "name": "stdout",
     "output_type": "stream",
     "text": [
      "True\n",
      "True\n",
      "True\n"
     ]
    }
   ],
   "source": [
    "x = 20\n",
    "print(10 < x < 25)\n",
    "# 조건1 and 조건2 -> 둘다 True 일때 True 나머지는 False\n",
    "print(10 < x and x < 25) \n",
    "# 조건1 or 조건2 -> 둘다 False 일때 False 나머지는 True  \n",
    "print(10 < x or x == 25)"
   ]
  },
  {
   "cell_type": "code",
   "execution_count": 15,
   "id": "cb078b2f",
   "metadata": {},
   "outputs": [
    {
     "name": "stdout",
     "output_type": "stream",
     "text": [
      "True 입니다\n",
      "정말 True 입니다\n"
     ]
    }
   ],
   "source": [
    "# 조건이 : if 표현식:\n",
    "if True:\n",
    "    print('True 입니다')\n",
    "    print('정말 True 입니다')\n",
    "    \n",
    "if False:\n",
    "    print('False 입니다')"
   ]
  },
  {
   "cell_type": "code",
   "execution_count": 21,
   "id": "81180167",
   "metadata": {},
   "outputs": [
    {
     "name": "stdout",
     "output_type": "stream",
     "text": [
      "입력 >0\n",
      "0 입니다.\n"
     ]
    }
   ],
   "source": [
    "input_num = int(input('입력 >'))\n",
    "\n",
    "if input_num > 0:\n",
    "    print('정수 입니다.')\n",
    "if input_num < 0:\n",
    "    print('음수 입니다')\n",
    "if input_num == 0:\n",
    "    print('0 입니다.')"
   ]
  },
  {
   "cell_type": "code",
   "execution_count": 31,
   "id": "98416728",
   "metadata": {},
   "outputs": [
    {
     "name": "stdout",
     "output_type": "stream",
     "text": [
      "입력 >101\n",
      "홀수 입니다.\n"
     ]
    }
   ],
   "source": [
    "input_num1 = int(input('입력 >'))\n",
    "\n",
    "if input_num1 % 2 == 0:\n",
    "    print('짝수 입니다.')\n",
    "if input_num1 % 2 == 1:\n",
    "    print('홀수 입니다.')\n",
    "    \n"
   ]
  },
  {
   "cell_type": "code",
   "execution_count": 46,
   "id": "bc7157c4",
   "metadata": {},
   "outputs": [
    {
     "name": "stdout",
     "output_type": "stream",
     "text": [
      "2021년 12월 24일 10시 23분 46초\n",
      "오전 입니다.\n",
      "오전\n",
      "이번 달은 12월로 겨울입니다.\n"
     ]
    },
    {
     "data": {
      "text/plain": [
       "12"
      ]
     },
     "execution_count": 46,
     "metadata": {},
     "output_type": "execute_result"
    }
   ],
   "source": [
    "import datetime\n",
    "now = datetime.datetime.now()\n",
    "print('{}년 {}월 {}일 {}시 {}분 {}초'\\\n",
    "      .format(now.year, now.month, now.day, now.hour, now.minute, now.second))\n",
    "\n",
    "if now.hour < 12:\n",
    "    print('오전 입니다.')\n",
    "if now.hour > 12:\n",
    "    print('오후 입니다.')\n",
    "    \n",
    "# if ~ else 를 사용하여 변경\n",
    "if now.hour < 12:\n",
    "    print('오전')\n",
    "else:\n",
    "    print('오후')\n",
    "    \n",
    "if 3 <= now.month  <=5:\n",
    "    print('이번 달은 {}월로 봄입니다.'.format(now.month))\n",
    "if 6 <= now.month <=8:\n",
    "    print('이번 달은 {}월로 여름입니다.'.format(now.month))\n",
    "if 9 <= now.month <=11:\n",
    "    print('이번 달은 {}월로 가을입니다.'.format(now.month))\n",
    "if now.month == 12 or 1 <= now.month <= 2:\n",
    "    print('이번 달은 {}월로 겨울입니다.'.format(now.month))\n",
    "    \n",
    "now.month"
   ]
  },
  {
   "cell_type": "code",
   "execution_count": 48,
   "id": "3ac3767a",
   "metadata": {},
   "outputs": [
    {
     "name": "stdout",
     "output_type": "stream",
     "text": [
      "입력 >9\n",
      "홀수 입니다.\n"
     ]
    }
   ],
   "source": [
    "input_num1 = int(input('입력 >'))\n",
    "\n",
    "if input_num1 % 2 == 0:\n",
    "    print('짝수 입니다.')\n",
    "else:\n",
    "    print('홀수 입니다.')\n",
    "    "
   ]
  },
  {
   "cell_type": "code",
   "execution_count": 92,
   "id": "854307c1",
   "metadata": {},
   "outputs": [
    {
     "name": "stdout",
     "output_type": "stream",
     "text": [
      "입력 >2 + ㅁ\n",
      "계산 불가\n"
     ]
    }
   ],
   "source": [
    "input_num1 = (input('입력 >')).split()\n",
    "\n",
    "input_text1 = input_num1[0]\n",
    "input_text2 = input_num1[2]\n",
    "input_text3 = input_num1[1]\n",
    "\n",
    "if input_text1.isdigit() and input_text2.isdigit():\n",
    "    if input_text3 in '+-*/':\n",
    "        input_text1 = int(input_text1)\n",
    "        input_text2 = int(input_text2)\n",
    "        if input_text3 == '+':\n",
    "            result = input_text1 + input_text2\n",
    "        elif input_text3 == '-':\n",
    "            result = input_text1 - input_text2\n",
    "        elif input_text3 == '*':\n",
    "            result = input_text1 * input_text2\n",
    "        else:\n",
    "            result = input_text1 / input_text2\n",
    "        print('{} {} {} = {}'.format(input_text1, input_text3, input_text2, result))\n",
    "    else:\n",
    "        print('계산 불가')\n",
    "else:\n",
    "    print('계산 불가')\n",
    "\n",
    "    \n",
    "field = (input('입력 > ')).split()\n",
    "\n",
    "num1 = field[0]\n",
    "num2 = field[1]\n",
    "buho = field[2]\n",
    "\n",
    "if num1.isdigit() and num2.isdigit():\n",
    "    if buho in '+-*/':\n",
    "        num1 = int(num1)\n",
    "        num2 = int(num2)\n",
    "        if buho == '+':\n",
    "            result = num1 + num2\n",
    "        elif buho == '-':\n",
    "            result = num1 - num2\n",
    "        elif buho == '*':\n",
    "            result = num1 * num2\n",
    "        else:\n",
    "            result = num1 / num2\n",
    "            print('{} {} {} = {}').format(num1, buho, num2, result)\n",
    "    else:\n",
    "        print('계산불가')\n",
    "else:\n",
    "    print('계산불가')"
   ]
  },
  {
   "cell_type": "code",
   "execution_count": 84,
   "id": "769324df",
   "metadata": {},
   "outputs": [
    {
     "name": "stdout",
     "output_type": "stream",
     "text": [
      "계산식 입력10 - 5\n",
      "10 - 5 = 5\n"
     ]
    }
   ],
   "source": [
    "input_data = input('계산식 입력')\n",
    "input_data = input_data.split()\n",
    "\n",
    "num1 = input_data[0]\n",
    "num2 = input_data[2]\n",
    "buho = input_data[1]\n",
    "\n",
    "if num1.isdigit() and num2.isdigit():\n",
    "    if buho in '+-*/':\n",
    "        num1 = int(num1)\n",
    "        num2 = int(num2)\n",
    "        if buho == '+':\n",
    "            result = num1 + num2\n",
    "        elif buho == '-':\n",
    "            result = num1 - num2\n",
    "        elif buho == '*':\n",
    "            result = num1 * num2\n",
    "        else:\n",
    "            result = num1 / num2\n",
    "        print('{} {} {} = {}'.format(num1, buho, num2, result))\n",
    "    else:\n",
    "        print('계산 불가')\n",
    "        \n",
    "else:\n",
    "    print('계산 불가')"
   ]
  },
  {
   "cell_type": "code",
   "execution_count": 103,
   "id": "209cd837",
   "metadata": {},
   "outputs": [
    {
     "name": "stdout",
     "output_type": "stream",
     "text": [
      "list_a + list_b : [1, 2, 3, 4, 5, 6]\n",
      "list_a * 3 : [1, 2, 3, 1, 2, 3, 1, 2, 3]\n",
      "list_a :  [1, 2, 3, '학생']\n",
      "list_a :  [1, 2, 3, '학생', [4, 5, 6]]\n",
      "list_a :  None\n",
      "[1, 2, 3, '학생', [4, 5, 6], '추가']\n",
      "[1, '1추가', 2, 3, '학생', [4, 5, 6], '추가']\n",
      "7\n",
      "['1추가', 2, 3, '학생', [4, 5, 6]]\n"
     ]
    }
   ],
   "source": [
    "# list -> [, , ,] 요소를 나열\n",
    "list_a = [1,2,3]\n",
    "list_b = [4,5,6]\n",
    "print('list_a + list_b :', list_a + list_b)\n",
    "print('list_a * 3 :', list_a * 3)\n",
    "# 리스트에 요소 추가하기 list.append(요소), list.insert(위치,요소)\n",
    "list_a.append('학생')\n",
    "print('list_a : ', list_a)\n",
    "list_a.append(list_b)\n",
    "print('list_a : ', list_a)\n",
    "\n",
    "print('list_a : ', list_a.append('추가'))\n",
    "print(list_a)\n",
    "list_a.insert(1, '1추가')\n",
    "print(list_a)\n",
    "print(len(list_a))\n",
    "print(list_a[1:-1])"
   ]
  },
  {
   "cell_type": "code",
   "execution_count": 147,
   "id": "2d625593",
   "metadata": {},
   "outputs": [
    {
     "data": {
      "text/plain": [
       "[1, 2, 3, 4, 5, 6, '학생']"
      ]
     },
     "execution_count": 147,
     "metadata": {},
     "output_type": "execute_result"
    }
   ],
   "source": [
    "list_a = [1,2,3]\n",
    "list_b = [4,5,6, '학생']\n",
    "\n",
    "list_a.extend(list_b)\n",
    "list_a"
   ]
  },
  {
   "cell_type": "code",
   "execution_count": 162,
   "id": "3ae8e269",
   "metadata": {},
   "outputs": [
    {
     "name": "stdout",
     "output_type": "stream",
     "text": [
      "[4, 5, 6, '학생']\n"
     ]
    },
    {
     "data": {
      "text/plain": [
       "[]"
      ]
     },
     "execution_count": 162,
     "metadata": {},
     "output_type": "execute_result"
    }
   ],
   "source": [
    "# 리스트 요소 제거 : del 리스트[인덱스] list.pop(인덱스), list.remove(값)\n",
    "# 모두 지우기 : list.clear()\n",
    "print(list_b)\n",
    "# 처음 위치의 요소 제거\n",
    "\n",
    "# list_a.remove('학생')\n",
    "list_a\n",
    "list_a.clear()\n",
    "list_a\n",
    "# 두번째 위치의 요소제거 : list_a.pop()을 이용\n",
    "\n",
    "\n",
    "\n"
   ]
  },
  {
   "cell_type": "code",
   "execution_count": 199,
   "id": "76cf4be1",
   "metadata": {},
   "outputs": [
    {
     "name": "stdout",
     "output_type": "stream",
     "text": [
      "0\n",
      "1\n",
      "2\n",
      "3\n",
      "4\n"
     ]
    }
   ],
   "source": [
    "# 반복자 : for 반복자 in 반복할 수 있는 것\n",
    "for i in range(5):\n",
    "    print(i)\n",
    "# for value in list_b:\n",
    "#     print(value)"
   ]
  },
  {
   "cell_type": "code",
   "execution_count": 209,
   "id": "fe357ec3",
   "metadata": {},
   "outputs": [
    {
     "name": "stdout",
     "output_type": "stream",
     "text": [
      "두 수 입력10 5\n",
      "5에서 10의 합은 : 45\n"
     ]
    }
   ],
   "source": [
    "field_value = input('두 수 입력').split()\n",
    "\n",
    "\n",
    "if field_value[0].isdigit() and field_value[1].isdigit():\n",
    "    start_num = int(field_value[0])\n",
    "    end_num = int(field_value[1])\n",
    "    if start_num > end_num:    \n",
    "        start_num = int(field_value[1])\n",
    "        end_num = int(field_value[0])\n",
    "    total = 0\n",
    "    for value in range(start_num, end_num+1):\n",
    "        total += value\n",
    "    print('{}에서 {}의 합은 : {}'.format(start_num, end_num, total))\n",
    "else:\n",
    "    print('입력된 자료가 숫자가 아닙니다')\n",
    "\n"
   ]
  },
  {
   "cell_type": "code",
   "execution_count": 229,
   "id": "3a302d6e",
   "metadata": {},
   "outputs": [
    {
     "name": "stdout",
     "output_type": "stream",
     "text": [
      "[[1, 2, 3], [4, 5, 6, 7], [8, 9]]\n",
      "1\n",
      "2\n",
      "3\n",
      "4\n",
      "5\n",
      "6\n",
      "7\n",
      "8\n",
      "9\n",
      "[[1, 4, 7], [2, 5, 8], [3, 6, 9]]\n"
     ]
    }
   ],
   "source": [
    "list_a = [[1,2,3],[4,5,6,7],[8,9]]\n",
    "for list_v in list_a:\n",
    "    for idx in range(len(list_v)):\n",
    "        print(list_v[idx])\n",
    "        \n",
    "        \n",
    "numbers = [1,2,3,4,5,6,7,8,9]\n",
    "output = [[],[],[]]\n",
    "for number in numbers:\n",
    "    output[number%3 -1].append(number)\n",
    "print(output)"
   ]
  },
  {
   "cell_type": "code",
   "execution_count": 246,
   "id": "963747fd",
   "metadata": {},
   "outputs": [
    {
     "name": "stdout",
     "output_type": "stream",
     "text": [
      "{'name': '건조망고', 'type': '당절임'}\n",
      "건조망고\n",
      "{'name': '건조망고', 'type': '당절임', 'ingredient': ['망고', '설탕', '나트륨']}\n",
      "{'name': '건조망고', 'type': '당절임', 'ingredient': ['설탕', '나트륨']}\n",
      "존재하지 않은 키\n",
      "name : 건조망고\n",
      "type : 당절임\n",
      "ingredient : ['설탕', '나트륨']\n",
      "<class 'list'> <class 'dict'> <class 'str'>\n",
      "---------\n",
      "name : 건조망고\n",
      "건조망고\n",
      "type : 당절임\n",
      "당절임\n",
      "ingredient : ['설탕', '나트륨']\n",
      "['설탕', '나트륨']\n"
     ]
    }
   ],
   "source": [
    "# dictionary : {키:값, ...} 요소 접근은 딕셔너리 [키]\n",
    "dict_a = {\n",
    "    'name': '건조망고',\n",
    "    'type': '당절임'\n",
    "}\n",
    "print(dict_a)\n",
    "print(dict_a['name'])\n",
    "\n",
    "dict_a['ingredient'] = ['망고', '설탕', '나트륨']\n",
    "print(dict_a)\n",
    "\n",
    "\n",
    "del dict_a['ingredient'][0]\n",
    "print(dict_a)\n",
    "\n",
    "if 'types' in dict_a:\n",
    "    print('type key 존재함')\n",
    "else:\n",
    "    print('존재하지 않은 키')\n",
    "    \n",
    "    \n",
    "# for 반복문으로 각 요소의 값 출력\n",
    "\n",
    "for key in dict_a:\n",
    "    print('{} : {}'.format(key,dict_a[key]))\n",
    "    \n",
    "\n",
    "print(type(list_a), type(dict_a), type(dict_a['name']))\n",
    "\n",
    "print('---------')\n",
    "for key, value in dict_a.items():\n",
    "    print('{} : {}'.format(key, value))\n"
   ]
  },
  {
   "cell_type": "code",
   "execution_count": null,
   "id": "3c47b1eb",
   "metadata": {},
   "outputs": [],
   "source": [
    "# 1.키보드에서 숫자를 입력받아 리스트에 저장한 후 입력한 전체 데이터의 합을 출력 5회입력\n",
    "\n",
    "input_list = []\n",
    "total = 0\n",
    "\n",
    "for i in range(5):\n",
    "    input_num = int(input('숫자 입력'))\n",
    "    input_list.append(input_num)\n",
    "    total += input_num\n",
    "print('list', input_list)\n",
    "print('list의 합', total)\n",
    "\n",
    "\n",
    "\n",
    "\n"
   ]
  },
  {
   "cell_type": "code",
   "execution_count": 262,
   "id": "199d0616",
   "metadata": {},
   "outputs": [
    {
     "name": "stdout",
     "output_type": "stream",
     "text": [
      "이름 국어 영어 수학 점수 입력 >a 33 33 33\n",
      "33b 33 33 33\n"
     ]
    },
    {
     "ename": "TypeError",
     "evalue": "unsupported operand type(s) for +: 'int' and 'str'",
     "output_type": "error",
     "traceback": [
      "\u001b[0;31m---------------------------------------------------------------------------\u001b[0m",
      "\u001b[0;31mTypeError\u001b[0m                                 Traceback (most recent call last)",
      "\u001b[0;32m/var/folders/8x/my7blpjs0bg1hmjhzgvz02th0000gn/T/ipykernel_1260/2532320249.py\u001b[0m in \u001b[0;36m<module>\u001b[0;34m\u001b[0m\n\u001b[1;32m     11\u001b[0m     \u001b[0meng\u001b[0m \u001b[0;34m=\u001b[0m \u001b[0mint\u001b[0m\u001b[0;34m(\u001b[0m\u001b[0minput_str\u001b[0m\u001b[0;34m[\u001b[0m\u001b[0;36m2\u001b[0m\u001b[0;34m]\u001b[0m\u001b[0;34m)\u001b[0m\u001b[0;34m\u001b[0m\u001b[0;34m\u001b[0m\u001b[0m\n\u001b[1;32m     12\u001b[0m     \u001b[0mmath\u001b[0m \u001b[0;34m=\u001b[0m \u001b[0minput\u001b[0m\u001b[0;34m(\u001b[0m\u001b[0minput_str\u001b[0m\u001b[0;34m[\u001b[0m\u001b[0;36m3\u001b[0m\u001b[0;34m]\u001b[0m\u001b[0;34m)\u001b[0m\u001b[0;34m\u001b[0m\u001b[0;34m\u001b[0m\u001b[0m\n\u001b[0;32m---> 13\u001b[0;31m     \u001b[0mtot\u001b[0m \u001b[0;34m=\u001b[0m \u001b[0mkor\u001b[0m \u001b[0;34m+\u001b[0m \u001b[0meng\u001b[0m \u001b[0;34m+\u001b[0m \u001b[0mmath\u001b[0m\u001b[0;34m\u001b[0m\u001b[0;34m\u001b[0m\u001b[0m\n\u001b[0m\u001b[1;32m     14\u001b[0m     \u001b[0mdict_score\u001b[0m\u001b[0;34m[\u001b[0m\u001b[0;34m'name'\u001b[0m\u001b[0;34m]\u001b[0m\u001b[0;34m.\u001b[0m\u001b[0mappend\u001b[0m\u001b[0;34m(\u001b[0m\u001b[0mname\u001b[0m\u001b[0;34m)\u001b[0m\u001b[0;34m\u001b[0m\u001b[0;34m\u001b[0m\u001b[0m\n\u001b[1;32m     15\u001b[0m     \u001b[0mdict_score\u001b[0m\u001b[0;34m[\u001b[0m\u001b[0;34m'kor'\u001b[0m\u001b[0;34m]\u001b[0m\u001b[0;34m.\u001b[0m\u001b[0mappend\u001b[0m\u001b[0;34m(\u001b[0m\u001b[0mkor\u001b[0m\u001b[0;34m)\u001b[0m\u001b[0;34m\u001b[0m\u001b[0;34m\u001b[0m\u001b[0m\n",
      "\u001b[0;31mTypeError\u001b[0m: unsupported operand type(s) for +: 'int' and 'str'"
     ]
    }
   ],
   "source": [
    "# 2. 키보드에서 이름 국어 영어 수학 점수를 입력받아 딕셔너리에 저장한 후 합계를 딕셔너리에 추가하고 결과 출력\n",
    "#  이름에 'quit'이 입력되면 입력 종료\n",
    "\n",
    "dict_score = {'name':[], 'kor':[], 'eng': [], 'math': [], 'tot': []}\n",
    "for i in range(10):\n",
    "    input_str = input('이름 국어 영어 수학 점수 입력 >').split()\n",
    "    name = input_str[0]\n",
    "    if name == 'quit':\n",
    "        break\n",
    "    kor = int(input_str[1])\n",
    "    eng = int(input_str[2])\n",
    "    math = input(input_str[3])\n",
    "    \n",
    "    tot = kor + eng + math\n",
    "    dict_score['name'].append(name)\n",
    "    dict_score['kor'].append(kor)\n",
    "    dict_score['eng'].append(eng)\n",
    "    dict_score['math'].append(math)\n",
    "    dict_score['tot'].append(tot)\n",
    "print(dict_score)\n"
   ]
  },
  {
   "cell_type": "code",
   "execution_count": 263,
   "id": "a9767478",
   "metadata": {},
   "outputs": [
    {
     "name": "stdout",
     "output_type": "stream",
     "text": [
      "이름 국어 영어 수학 점수 입력 >a 33 44 55\n",
      "이름 국어 영어 수학 점수 입력 >b 88 99 22\n",
      "이름 국어 영어 수학 점수 입력 >quit\n",
      "{'a': [33, 44, 55, 132], 'b': [88, 99, 22, 209]}\n"
     ]
    }
   ],
   "source": [
    "# 2. 키보드에서 이름 국어 영어 수학 점수를 입력받아 딕셔너리에 저장한 후 합계를 딕셔너리에 추가하고 결과 출력\n",
    "#  이름에 'quit'이 입력되면 입력 종료\n",
    "\n",
    "score_name = {}\n",
    "\n",
    "for i in range(10):\n",
    "    input_str = input('이름 국어 영어 수학 점수 입력 >').split()\n",
    "    name = input_str[0]\n",
    "    if name == 'quit':\n",
    "        break\n",
    "    score_list = []\n",
    "    for i in range(1,4):\n",
    "        score_list.append(int(input_str[i])) # 각 점수 리스트 생성\n",
    "    tot = 0\n",
    "    for i in range(3):\n",
    "        tot += score_list[i]\n",
    "    score_list.append(tot)  # 합계 추가 국어 영어 수학 합계\n",
    "    score_name[name] = score_list # 이름 key로 점수를 값으로\n",
    "print(score_name)\n"
   ]
  },
  {
   "cell_type": "code",
   "execution_count": 268,
   "id": "deeb61b0",
   "metadata": {},
   "outputs": [
    {
     "name": "stdout",
     "output_type": "stream",
     "text": [
      "검색할 이름 입력 >\n",
      "검색한 이름이 없습니다.\n"
     ]
    }
   ],
   "source": [
    "# 3. 키보드에서 이름을 입력받아 저장된 딕셔너리의 이름이 있는지 확인하고 있으면 점수 출력 없으면 자료 없음 출력\n",
    "\n",
    "search_name = input('검색할 이름 입력 >')\n",
    "if search_name in score_name:\n",
    "    print(score_name[search_name])\n",
    "else:\n",
    "    print('검색한 이름이 없습니다.')\n"
   ]
  },
  {
   "cell_type": "code",
   "execution_count": 270,
   "id": "6ebc43de",
   "metadata": {},
   "outputs": [
    {
     "name": "stdout",
     "output_type": "stream",
     "text": [
      "{2: 1, 4: 6, 5: 3, 6: 2, 7: 3, 8: 3, 3: 2, 9: 1}\n"
     ]
    }
   ],
   "source": [
    "numbers = [2,4,5,6,7,8,8,4,4,5,6,7,8,4,3,4,5,3,4,7,9,]\n",
    "counter = {}\n",
    "\n",
    "for number in numbers:\n",
    "    if number in counter:\n",
    "        counter[number] += 1\n",
    "    else:\n",
    "        counter[number] = 1\n",
    "\n",
    "print(counter)"
   ]
  },
  {
   "cell_type": "code",
   "execution_count": 280,
   "id": "4317c655",
   "metadata": {},
   "outputs": [
    {
     "name": "stdout",
     "output_type": "stream",
     "text": [
      "name : 기사\n",
      "level : 12\n",
      "sword : 불꽃의 검\n",
      "armor : 풀플레이트\n",
      "skill : 베기\n",
      "skill : 세게 베기\n",
      "skill : 아주 세게 베게\n"
     ]
    }
   ],
   "source": [
    "\n",
    "character = {\n",
    "    'name': '기사',\n",
    "    'level': 12,\n",
    "    'items': {\n",
    "        'sword': '불꽃의 검',\n",
    "        'armor': '풀플레이트'\n",
    "    },\n",
    "    'skill': ['베기', '세게 베기', '아주 세게 베게']\n",
    "}\n",
    "for key in character:\n",
    "    if type(character[key]) == list:\n",
    "        for value in character[key]:\n",
    "            print('{} : {}'.format(key, value))\n",
    "    elif type(character[key]) == dict:\n",
    "        for key, value in character[key].items():\n",
    "            print('{} : {}'.format(key, value))\n",
    "    else:\n",
    "        print('{} : {}'.format(key, character[key]))"
   ]
  },
  {
   "cell_type": "code",
   "execution_count": null,
   "id": "d78b34b3",
   "metadata": {},
   "outputs": [],
   "source": [
    "# 이름과 성적을 입력 받아 딕셔너리에 저장한 후\n",
    "# 전체 성적의 \n",
    "\n",
    "\n"
   ]
  },
  {
   "cell_type": "code",
   "execution_count": 282,
   "id": "20ed1bda",
   "metadata": {},
   "outputs": [
    {
     "name": "stdout",
     "output_type": "stream",
     "text": [
      "이름 : a\n",
      "score : 87\n",
      "이름 : b\n",
      "score : 89\n",
      "이름 : c\n",
      "score : 10\n",
      "이름 : d\n",
      "score : 99\n",
      "이름 : quit\n",
      "==========\t==========\n",
      "이름  \t\t성적  \n",
      "==========\t==========\n",
      "a         \t   87\n",
      "b         \t   89\n",
      "c         \t   10\n",
      "d         \t   99\n",
      "==========\t==========\n",
      "총점 :  285\n",
      "평균 : 72.25\n",
      "인원수 :  5\n"
     ]
    }
   ],
   "source": [
    "# 성적\n",
    "score_dict = {}\n",
    "for i in  range(100):\n",
    "    name = input('이름 : ')\n",
    "    if name == 'quit':\n",
    "        break\n",
    "    score_dict[name] = int(input('score : '))\n",
    "    \n",
    "print('==========\\t==========')\n",
    "print('{:4s}\\t\\t{:4s}'.format('이름', '성적'))\n",
    "print('==========\\t==========')\n",
    "total = 0\n",
    "for key, value in score_dict.items():\n",
    "    print('{:10s}\\t{:5d}'.format(key, value))\n",
    "    total += value\n",
    "print('==========\\t==========')\n",
    "print('총점 : ', total)\n",
    "print('평균 : {:3.2f}'.format(total/len(score_dict) + 1))\n",
    "print('인원수 : ', len(score_dict))"
   ]
  },
  {
   "cell_type": "code",
   "execution_count": null,
   "id": "affd29c1",
   "metadata": {},
   "outputs": [],
   "source": []
  },
  {
   "cell_type": "code",
   "execution_count": null,
   "id": "15cf51e4",
   "metadata": {},
   "outputs": [],
   "source": []
  }
 ],
 "metadata": {
  "kernelspec": {
   "display_name": "Python 3 (ipykernel)",
   "language": "python",
   "name": "python3"
  },
  "language_info": {
   "codemirror_mode": {
    "name": "ipython",
    "version": 3
   },
   "file_extension": ".py",
   "mimetype": "text/x-python",
   "name": "python",
   "nbconvert_exporter": "python",
   "pygments_lexer": "ipython3",
   "version": "3.9.7"
  }
 },
 "nbformat": 4,
 "nbformat_minor": 5
}
